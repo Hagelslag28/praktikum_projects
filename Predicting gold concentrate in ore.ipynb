{
 "cells": [
  {
   "cell_type": "markdown",
   "metadata": {},
   "source": [
    "## Step 1. Data preparation"
   ]
  },
  {
   "cell_type": "markdown",
   "metadata": {},
   "source": [
    "First, let's import all the necessary packages for the project."
   ]
  },
  {
   "cell_type": "code",
   "execution_count": 1,
   "metadata": {},
   "outputs": [
    {
     "name": "stdout",
     "output_type": "stream",
     "text": [
      "\u001b[33mWARNING: Ignoring invalid distribution -eaborn (/opt/conda/lib/python3.9/site-packages)\u001b[0m\n",
      "\u001b[33mWARNING: Ignoring invalid distribution -eaborn (/opt/conda/lib/python3.9/site-packages)\u001b[0m\n",
      "Collecting seaborn==0.11.2\n",
      "  Using cached seaborn-0.11.2-py3-none-any.whl (292 kB)\n",
      "Requirement already satisfied: numpy>=1.15 in /opt/conda/lib/python3.9/site-packages (from seaborn==0.11.2) (1.20.1)\n",
      "Requirement already satisfied: matplotlib>=2.2 in /opt/conda/lib/python3.9/site-packages (from seaborn==0.11.2) (3.3.4)\n",
      "Requirement already satisfied: scipy>=1.0 in /opt/conda/lib/python3.9/site-packages (from seaborn==0.11.2) (1.7.3)\n",
      "Requirement already satisfied: pandas>=0.23 in /opt/conda/lib/python3.9/site-packages (from seaborn==0.11.2) (1.2.4)\n",
      "Requirement already satisfied: kiwisolver>=1.0.1 in /opt/conda/lib/python3.9/site-packages (from matplotlib>=2.2->seaborn==0.11.2) (1.3.2)\n",
      "Requirement already satisfied: pyparsing!=2.0.4,!=2.1.2,!=2.1.6,>=2.0.3 in /opt/conda/lib/python3.9/site-packages (from matplotlib>=2.2->seaborn==0.11.2) (2.4.7)\n",
      "Requirement already satisfied: python-dateutil>=2.1 in /opt/conda/lib/python3.9/site-packages (from matplotlib>=2.2->seaborn==0.11.2) (2.8.1)\n",
      "Requirement already satisfied: cycler>=0.10 in /opt/conda/lib/python3.9/site-packages (from matplotlib>=2.2->seaborn==0.11.2) (0.11.0)\n",
      "Requirement already satisfied: pillow>=6.2.0 in /opt/conda/lib/python3.9/site-packages (from matplotlib>=2.2->seaborn==0.11.2) (8.4.0)\n",
      "Requirement already satisfied: pytz>=2017.3 in /opt/conda/lib/python3.9/site-packages (from pandas>=0.23->seaborn==0.11.2) (2021.1)\n",
      "Requirement already satisfied: six>=1.5 in /opt/conda/lib/python3.9/site-packages (from python-dateutil>=2.1->matplotlib>=2.2->seaborn==0.11.2) (1.16.0)\n",
      "\u001b[33mWARNING: Ignoring invalid distribution -eaborn (/opt/conda/lib/python3.9/site-packages)\u001b[0m\n",
      "Installing collected packages: seaborn\n",
      "  Attempting uninstall: seaborn\n",
      "\u001b[33m    WARNING: Ignoring invalid distribution -eaborn (/opt/conda/lib/python3.9/site-packages)\u001b[0m\n",
      "    Found existing installation: seaborn 0.11.1\n",
      "    Uninstalling seaborn-0.11.1:\n",
      "\u001b[31mERROR: Could not install packages due to an OSError: [Errno 13] Permission denied: 'LICENSE'\n",
      "Consider using the `--user` option or check the permissions.\n",
      "\u001b[0m\n",
      "\u001b[33mWARNING: Ignoring invalid distribution -eaborn (/opt/conda/lib/python3.9/site-packages)\u001b[0m\n",
      "\u001b[33mWARNING: Ignoring invalid distribution -eaborn (/opt/conda/lib/python3.9/site-packages)\u001b[0m\n",
      "\u001b[33mWARNING: Ignoring invalid distribution -eaborn (/opt/conda/lib/python3.9/site-packages)\u001b[0m\n",
      "\u001b[33mWARNING: Ignoring invalid distribution - (/opt/conda/lib/python3.9/site-packages)\u001b[0m\n",
      "\u001b[33mWARNING: Ignoring invalid distribution -eaborn (/opt/conda/lib/python3.9/site-packages)\u001b[0m\n",
      "\u001b[33mWARNING: Ignoring invalid distribution - (/opt/conda/lib/python3.9/site-packages)\u001b[0m\n",
      "\u001b[33mWARNING: Ignoring invalid distribution -eaborn (/opt/conda/lib/python3.9/site-packages)\u001b[0m\n",
      "Requirement already satisfied: optuna in /opt/conda/lib/python3.9/site-packages (2.10.0)\n",
      "Requirement already satisfied: numpy in /opt/conda/lib/python3.9/site-packages (from optuna) (1.20.1)\n",
      "Requirement already satisfied: colorlog in /opt/conda/lib/python3.9/site-packages (from optuna) (6.6.0)\n",
      "Requirement already satisfied: cliff in /opt/conda/lib/python3.9/site-packages (from optuna) (3.10.1)\n",
      "Requirement already satisfied: alembic in /opt/conda/lib/python3.9/site-packages (from optuna) (1.6.5)\n",
      "Requirement already satisfied: scipy!=1.4.0 in /opt/conda/lib/python3.9/site-packages (from optuna) (1.7.3)\n",
      "Requirement already satisfied: PyYAML in /opt/conda/lib/python3.9/site-packages (from optuna) (6.0)\n",
      "Requirement already satisfied: packaging>=20.0 in /opt/conda/lib/python3.9/site-packages (from optuna) (21.0)\n",
      "Requirement already satisfied: sqlalchemy>=1.1.0 in /opt/conda/lib/python3.9/site-packages (from optuna) (1.4.20)\n",
      "Requirement already satisfied: cmaes>=0.8.2 in /opt/conda/lib/python3.9/site-packages (from optuna) (0.8.2)\n",
      "Requirement already satisfied: tqdm in /opt/conda/lib/python3.9/site-packages (from optuna) (4.61.2)\n",
      "Requirement already satisfied: pyparsing>=2.0.2 in /opt/conda/lib/python3.9/site-packages (from packaging>=20.0->optuna) (2.4.7)\n",
      "Requirement already satisfied: greenlet!=0.4.17 in /opt/conda/lib/python3.9/site-packages (from sqlalchemy>=1.1.0->optuna) (1.1.0)\n",
      "Requirement already satisfied: python-dateutil in /opt/conda/lib/python3.9/site-packages (from alembic->optuna) (2.8.1)\n",
      "Requirement already satisfied: python-editor>=0.3 in /opt/conda/lib/python3.9/site-packages (from alembic->optuna) (1.0.4)\n",
      "Requirement already satisfied: Mako in /opt/conda/lib/python3.9/site-packages (from alembic->optuna) (1.1.4)\n",
      "Requirement already satisfied: autopage>=0.4.0 in /opt/conda/lib/python3.9/site-packages (from cliff->optuna) (0.5.0)\n",
      "Requirement already satisfied: PrettyTable>=0.7.2 in /opt/conda/lib/python3.9/site-packages (from cliff->optuna) (3.2.0)\n",
      "Requirement already satisfied: cmd2>=1.0.0 in /opt/conda/lib/python3.9/site-packages (from cliff->optuna) (2.4.0)\n",
      "Requirement already satisfied: pbr!=2.1.0,>=2.0.0 in /opt/conda/lib/python3.9/site-packages (from cliff->optuna) (5.8.1)\n",
      "Requirement already satisfied: stevedore>=2.0.1 in /opt/conda/lib/python3.9/site-packages (from cliff->optuna) (3.5.0)\n",
      "Requirement already satisfied: wcwidth>=0.1.7 in /opt/conda/lib/python3.9/site-packages (from cmd2>=1.0.0->cliff->optuna) (0.2.5)\n",
      "Requirement already satisfied: pyperclip>=1.6 in /opt/conda/lib/python3.9/site-packages (from cmd2>=1.0.0->cliff->optuna) (1.8.2)\n",
      "Requirement already satisfied: attrs>=16.3.0 in /opt/conda/lib/python3.9/site-packages (from cmd2>=1.0.0->cliff->optuna) (21.2.0)\n",
      "Requirement already satisfied: MarkupSafe>=0.9.2 in /opt/conda/lib/python3.9/site-packages (from Mako->alembic->optuna) (2.0.1)\n",
      "Requirement already satisfied: six>=1.5 in /opt/conda/lib/python3.9/site-packages (from python-dateutil->alembic->optuna) (1.16.0)\n",
      "\u001b[33mWARNING: Ignoring invalid distribution - (/opt/conda/lib/python3.9/site-packages)\u001b[0m\n",
      "\u001b[33mWARNING: Ignoring invalid distribution -eaborn (/opt/conda/lib/python3.9/site-packages)\u001b[0m\n",
      "\u001b[33mWARNING: Ignoring invalid distribution - (/opt/conda/lib/python3.9/site-packages)\u001b[0m\n",
      "\u001b[33mWARNING: Ignoring invalid distribution -eaborn (/opt/conda/lib/python3.9/site-packages)\u001b[0m\n",
      "\u001b[33mWARNING: Ignoring invalid distribution - (/opt/conda/lib/python3.9/site-packages)\u001b[0m\n",
      "\u001b[33mWARNING: Ignoring invalid distribution -eaborn (/opt/conda/lib/python3.9/site-packages)\u001b[0m\n",
      "\u001b[33mWARNING: Ignoring invalid distribution - (/opt/conda/lib/python3.9/site-packages)\u001b[0m\n",
      "\u001b[33mWARNING: Ignoring invalid distribution -eaborn (/opt/conda/lib/python3.9/site-packages)\u001b[0m\n"
     ]
    }
   ],
   "source": [
    "import pandas as pd\n",
    "from sklearn.metrics import mean_absolute_error as mae\n",
    "import matplotlib.pyplot as plt\n",
    "from matplotlib import cm\n",
    "import numpy as np\n",
    "import seaborn as sns\n",
    "from sklearn.model_selection import cross_val_score\n",
    "from sklearn.tree import DecisionTreeRegressor\n",
    "from sklearn.ensemble import RandomForestRegressor\n",
    "from sklearn.linear_model import LinearRegression\n",
    "!pip install optuna\n",
    "import optuna\n",
    "from catboost import CatBoostRegressor\n",
    "from sklearn.dummy import DummyRegressor"
   ]
  },
  {
   "cell_type": "markdown",
   "metadata": {},
   "source": [
    "Let's create dataframes for the training, test and full selection, and explore the test one."
   ]
  },
  {
   "cell_type": "code",
   "execution_count": 2,
   "metadata": {},
   "outputs": [
    {
     "name": "stdout",
     "output_type": "stream",
     "text": [
      "<class 'pandas.core.frame.DataFrame'>\n",
      "RangeIndex: 5290 entries, 0 to 5289\n",
      "Data columns (total 53 columns):\n",
      " #   Column                                      Non-Null Count  Dtype  \n",
      "---  ------                                      --------------  -----  \n",
      " 0   date                                        5290 non-null   object \n",
      " 1   primary_cleaner.input.sulfate               5286 non-null   float64\n",
      " 2   primary_cleaner.input.depressant            5285 non-null   float64\n",
      " 3   primary_cleaner.input.feed_size             5290 non-null   float64\n",
      " 4   primary_cleaner.input.xanthate              5286 non-null   float64\n",
      " 5   primary_cleaner.state.floatbank8_a_air      5290 non-null   float64\n",
      " 6   primary_cleaner.state.floatbank8_a_level    5290 non-null   float64\n",
      " 7   primary_cleaner.state.floatbank8_b_air      5290 non-null   float64\n",
      " 8   primary_cleaner.state.floatbank8_b_level    5290 non-null   float64\n",
      " 9   primary_cleaner.state.floatbank8_c_air      5290 non-null   float64\n",
      " 10  primary_cleaner.state.floatbank8_c_level    5290 non-null   float64\n",
      " 11  primary_cleaner.state.floatbank8_d_air      5290 non-null   float64\n",
      " 12  primary_cleaner.state.floatbank8_d_level    5290 non-null   float64\n",
      " 13  rougher.input.feed_ag                       5290 non-null   float64\n",
      " 14  rougher.input.feed_pb                       5290 non-null   float64\n",
      " 15  rougher.input.feed_rate                     5287 non-null   float64\n",
      " 16  rougher.input.feed_size                     5289 non-null   float64\n",
      " 17  rougher.input.feed_sol                      5269 non-null   float64\n",
      " 18  rougher.input.feed_au                       5290 non-null   float64\n",
      " 19  rougher.input.floatbank10_sulfate           5285 non-null   float64\n",
      " 20  rougher.input.floatbank10_xanthate          5290 non-null   float64\n",
      " 21  rougher.input.floatbank11_sulfate           5282 non-null   float64\n",
      " 22  rougher.input.floatbank11_xanthate          5265 non-null   float64\n",
      " 23  rougher.state.floatbank10_a_air             5290 non-null   float64\n",
      " 24  rougher.state.floatbank10_a_level           5290 non-null   float64\n",
      " 25  rougher.state.floatbank10_b_air             5290 non-null   float64\n",
      " 26  rougher.state.floatbank10_b_level           5290 non-null   float64\n",
      " 27  rougher.state.floatbank10_c_air             5290 non-null   float64\n",
      " 28  rougher.state.floatbank10_c_level           5290 non-null   float64\n",
      " 29  rougher.state.floatbank10_d_air             5290 non-null   float64\n",
      " 30  rougher.state.floatbank10_d_level           5290 non-null   float64\n",
      " 31  rougher.state.floatbank10_e_air             5290 non-null   float64\n",
      " 32  rougher.state.floatbank10_e_level           5290 non-null   float64\n",
      " 33  rougher.state.floatbank10_f_air             5290 non-null   float64\n",
      " 34  rougher.state.floatbank10_f_level           5290 non-null   float64\n",
      " 35  secondary_cleaner.state.floatbank2_a_air    5287 non-null   float64\n",
      " 36  secondary_cleaner.state.floatbank2_a_level  5290 non-null   float64\n",
      " 37  secondary_cleaner.state.floatbank2_b_air    5288 non-null   float64\n",
      " 38  secondary_cleaner.state.floatbank2_b_level  5290 non-null   float64\n",
      " 39  secondary_cleaner.state.floatbank3_a_air    5281 non-null   float64\n",
      " 40  secondary_cleaner.state.floatbank3_a_level  5290 non-null   float64\n",
      " 41  secondary_cleaner.state.floatbank3_b_air    5290 non-null   float64\n",
      " 42  secondary_cleaner.state.floatbank3_b_level  5290 non-null   float64\n",
      " 43  secondary_cleaner.state.floatbank4_a_air    5290 non-null   float64\n",
      " 44  secondary_cleaner.state.floatbank4_a_level  5290 non-null   float64\n",
      " 45  secondary_cleaner.state.floatbank4_b_air    5290 non-null   float64\n",
      " 46  secondary_cleaner.state.floatbank4_b_level  5290 non-null   float64\n",
      " 47  secondary_cleaner.state.floatbank5_a_air    5290 non-null   float64\n",
      " 48  secondary_cleaner.state.floatbank5_a_level  5290 non-null   float64\n",
      " 49  secondary_cleaner.state.floatbank5_b_air    5290 non-null   float64\n",
      " 50  secondary_cleaner.state.floatbank5_b_level  5290 non-null   float64\n",
      " 51  secondary_cleaner.state.floatbank6_a_air    5290 non-null   float64\n",
      " 52  secondary_cleaner.state.floatbank6_a_level  5290 non-null   float64\n",
      "dtypes: float64(52), object(1)\n",
      "memory usage: 2.1+ MB\n",
      "None\n"
     ]
    },
    {
     "data": {
      "text/html": [
       "<div>\n",
       "<style scoped>\n",
       "    .dataframe tbody tr th:only-of-type {\n",
       "        vertical-align: middle;\n",
       "    }\n",
       "\n",
       "    .dataframe tbody tr th {\n",
       "        vertical-align: top;\n",
       "    }\n",
       "\n",
       "    .dataframe thead th {\n",
       "        text-align: right;\n",
       "    }\n",
       "</style>\n",
       "<table border=\"1\" class=\"dataframe\">\n",
       "  <thead>\n",
       "    <tr style=\"text-align: right;\">\n",
       "      <th></th>\n",
       "      <th>date</th>\n",
       "      <th>primary_cleaner.input.sulfate</th>\n",
       "      <th>primary_cleaner.input.depressant</th>\n",
       "      <th>primary_cleaner.input.feed_size</th>\n",
       "      <th>primary_cleaner.input.xanthate</th>\n",
       "      <th>primary_cleaner.state.floatbank8_a_air</th>\n",
       "      <th>primary_cleaner.state.floatbank8_a_level</th>\n",
       "      <th>primary_cleaner.state.floatbank8_b_air</th>\n",
       "      <th>primary_cleaner.state.floatbank8_b_level</th>\n",
       "      <th>primary_cleaner.state.floatbank8_c_air</th>\n",
       "      <th>...</th>\n",
       "      <th>secondary_cleaner.state.floatbank4_a_air</th>\n",
       "      <th>secondary_cleaner.state.floatbank4_a_level</th>\n",
       "      <th>secondary_cleaner.state.floatbank4_b_air</th>\n",
       "      <th>secondary_cleaner.state.floatbank4_b_level</th>\n",
       "      <th>secondary_cleaner.state.floatbank5_a_air</th>\n",
       "      <th>secondary_cleaner.state.floatbank5_a_level</th>\n",
       "      <th>secondary_cleaner.state.floatbank5_b_air</th>\n",
       "      <th>secondary_cleaner.state.floatbank5_b_level</th>\n",
       "      <th>secondary_cleaner.state.floatbank6_a_air</th>\n",
       "      <th>secondary_cleaner.state.floatbank6_a_level</th>\n",
       "    </tr>\n",
       "  </thead>\n",
       "  <tbody>\n",
       "    <tr>\n",
       "      <th>0</th>\n",
       "      <td>2016-09-01 00:59:59</td>\n",
       "      <td>210.800909</td>\n",
       "      <td>14.993118</td>\n",
       "      <td>8.080000</td>\n",
       "      <td>1.005021</td>\n",
       "      <td>1398.981301</td>\n",
       "      <td>-500.225577</td>\n",
       "      <td>1399.144926</td>\n",
       "      <td>-499.919735</td>\n",
       "      <td>1400.102998</td>\n",
       "      <td>...</td>\n",
       "      <td>12.023554</td>\n",
       "      <td>-497.795834</td>\n",
       "      <td>8.016656</td>\n",
       "      <td>-501.289139</td>\n",
       "      <td>7.946562</td>\n",
       "      <td>-432.317850</td>\n",
       "      <td>4.872511</td>\n",
       "      <td>-500.037437</td>\n",
       "      <td>26.705889</td>\n",
       "      <td>-499.709414</td>\n",
       "    </tr>\n",
       "    <tr>\n",
       "      <th>1</th>\n",
       "      <td>2016-09-01 01:59:59</td>\n",
       "      <td>215.392455</td>\n",
       "      <td>14.987471</td>\n",
       "      <td>8.080000</td>\n",
       "      <td>0.990469</td>\n",
       "      <td>1398.777912</td>\n",
       "      <td>-500.057435</td>\n",
       "      <td>1398.055362</td>\n",
       "      <td>-499.778182</td>\n",
       "      <td>1396.151033</td>\n",
       "      <td>...</td>\n",
       "      <td>12.058140</td>\n",
       "      <td>-498.695773</td>\n",
       "      <td>8.130979</td>\n",
       "      <td>-499.634209</td>\n",
       "      <td>7.958270</td>\n",
       "      <td>-525.839648</td>\n",
       "      <td>4.878850</td>\n",
       "      <td>-500.162375</td>\n",
       "      <td>25.019940</td>\n",
       "      <td>-499.819438</td>\n",
       "    </tr>\n",
       "    <tr>\n",
       "      <th>2</th>\n",
       "      <td>2016-09-01 02:59:59</td>\n",
       "      <td>215.259946</td>\n",
       "      <td>12.884934</td>\n",
       "      <td>7.786667</td>\n",
       "      <td>0.996043</td>\n",
       "      <td>1398.493666</td>\n",
       "      <td>-500.868360</td>\n",
       "      <td>1398.860436</td>\n",
       "      <td>-499.764529</td>\n",
       "      <td>1398.075709</td>\n",
       "      <td>...</td>\n",
       "      <td>11.962366</td>\n",
       "      <td>-498.767484</td>\n",
       "      <td>8.096893</td>\n",
       "      <td>-500.827423</td>\n",
       "      <td>8.071056</td>\n",
       "      <td>-500.801673</td>\n",
       "      <td>4.905125</td>\n",
       "      <td>-499.828510</td>\n",
       "      <td>24.994862</td>\n",
       "      <td>-500.622559</td>\n",
       "    </tr>\n",
       "    <tr>\n",
       "      <th>3</th>\n",
       "      <td>2016-09-01 03:59:59</td>\n",
       "      <td>215.336236</td>\n",
       "      <td>12.006805</td>\n",
       "      <td>7.640000</td>\n",
       "      <td>0.863514</td>\n",
       "      <td>1399.618111</td>\n",
       "      <td>-498.863574</td>\n",
       "      <td>1397.440120</td>\n",
       "      <td>-499.211024</td>\n",
       "      <td>1400.129303</td>\n",
       "      <td>...</td>\n",
       "      <td>12.033091</td>\n",
       "      <td>-498.350935</td>\n",
       "      <td>8.074946</td>\n",
       "      <td>-499.474407</td>\n",
       "      <td>7.897085</td>\n",
       "      <td>-500.868509</td>\n",
       "      <td>4.931400</td>\n",
       "      <td>-499.963623</td>\n",
       "      <td>24.948919</td>\n",
       "      <td>-498.709987</td>\n",
       "    </tr>\n",
       "    <tr>\n",
       "      <th>4</th>\n",
       "      <td>2016-09-01 04:59:59</td>\n",
       "      <td>199.099327</td>\n",
       "      <td>10.682530</td>\n",
       "      <td>7.530000</td>\n",
       "      <td>0.805575</td>\n",
       "      <td>1401.268123</td>\n",
       "      <td>-500.808305</td>\n",
       "      <td>1398.128818</td>\n",
       "      <td>-499.504543</td>\n",
       "      <td>1402.172226</td>\n",
       "      <td>...</td>\n",
       "      <td>12.025367</td>\n",
       "      <td>-500.786497</td>\n",
       "      <td>8.054678</td>\n",
       "      <td>-500.397500</td>\n",
       "      <td>8.107890</td>\n",
       "      <td>-509.526725</td>\n",
       "      <td>4.957674</td>\n",
       "      <td>-500.360026</td>\n",
       "      <td>25.003331</td>\n",
       "      <td>-500.856333</td>\n",
       "    </tr>\n",
       "  </tbody>\n",
       "</table>\n",
       "<p>5 rows × 53 columns</p>\n",
       "</div>"
      ],
      "text/plain": [
       "                  date  primary_cleaner.input.sulfate  \\\n",
       "0  2016-09-01 00:59:59                     210.800909   \n",
       "1  2016-09-01 01:59:59                     215.392455   \n",
       "2  2016-09-01 02:59:59                     215.259946   \n",
       "3  2016-09-01 03:59:59                     215.336236   \n",
       "4  2016-09-01 04:59:59                     199.099327   \n",
       "\n",
       "   primary_cleaner.input.depressant  primary_cleaner.input.feed_size  \\\n",
       "0                         14.993118                         8.080000   \n",
       "1                         14.987471                         8.080000   \n",
       "2                         12.884934                         7.786667   \n",
       "3                         12.006805                         7.640000   \n",
       "4                         10.682530                         7.530000   \n",
       "\n",
       "   primary_cleaner.input.xanthate  primary_cleaner.state.floatbank8_a_air  \\\n",
       "0                        1.005021                             1398.981301   \n",
       "1                        0.990469                             1398.777912   \n",
       "2                        0.996043                             1398.493666   \n",
       "3                        0.863514                             1399.618111   \n",
       "4                        0.805575                             1401.268123   \n",
       "\n",
       "   primary_cleaner.state.floatbank8_a_level  \\\n",
       "0                               -500.225577   \n",
       "1                               -500.057435   \n",
       "2                               -500.868360   \n",
       "3                               -498.863574   \n",
       "4                               -500.808305   \n",
       "\n",
       "   primary_cleaner.state.floatbank8_b_air  \\\n",
       "0                             1399.144926   \n",
       "1                             1398.055362   \n",
       "2                             1398.860436   \n",
       "3                             1397.440120   \n",
       "4                             1398.128818   \n",
       "\n",
       "   primary_cleaner.state.floatbank8_b_level  \\\n",
       "0                               -499.919735   \n",
       "1                               -499.778182   \n",
       "2                               -499.764529   \n",
       "3                               -499.211024   \n",
       "4                               -499.504543   \n",
       "\n",
       "   primary_cleaner.state.floatbank8_c_air  ...  \\\n",
       "0                             1400.102998  ...   \n",
       "1                             1396.151033  ...   \n",
       "2                             1398.075709  ...   \n",
       "3                             1400.129303  ...   \n",
       "4                             1402.172226  ...   \n",
       "\n",
       "   secondary_cleaner.state.floatbank4_a_air  \\\n",
       "0                                 12.023554   \n",
       "1                                 12.058140   \n",
       "2                                 11.962366   \n",
       "3                                 12.033091   \n",
       "4                                 12.025367   \n",
       "\n",
       "   secondary_cleaner.state.floatbank4_a_level  \\\n",
       "0                                 -497.795834   \n",
       "1                                 -498.695773   \n",
       "2                                 -498.767484   \n",
       "3                                 -498.350935   \n",
       "4                                 -500.786497   \n",
       "\n",
       "   secondary_cleaner.state.floatbank4_b_air  \\\n",
       "0                                  8.016656   \n",
       "1                                  8.130979   \n",
       "2                                  8.096893   \n",
       "3                                  8.074946   \n",
       "4                                  8.054678   \n",
       "\n",
       "   secondary_cleaner.state.floatbank4_b_level  \\\n",
       "0                                 -501.289139   \n",
       "1                                 -499.634209   \n",
       "2                                 -500.827423   \n",
       "3                                 -499.474407   \n",
       "4                                 -500.397500   \n",
       "\n",
       "   secondary_cleaner.state.floatbank5_a_air  \\\n",
       "0                                  7.946562   \n",
       "1                                  7.958270   \n",
       "2                                  8.071056   \n",
       "3                                  7.897085   \n",
       "4                                  8.107890   \n",
       "\n",
       "   secondary_cleaner.state.floatbank5_a_level  \\\n",
       "0                                 -432.317850   \n",
       "1                                 -525.839648   \n",
       "2                                 -500.801673   \n",
       "3                                 -500.868509   \n",
       "4                                 -509.526725   \n",
       "\n",
       "   secondary_cleaner.state.floatbank5_b_air  \\\n",
       "0                                  4.872511   \n",
       "1                                  4.878850   \n",
       "2                                  4.905125   \n",
       "3                                  4.931400   \n",
       "4                                  4.957674   \n",
       "\n",
       "   secondary_cleaner.state.floatbank5_b_level  \\\n",
       "0                                 -500.037437   \n",
       "1                                 -500.162375   \n",
       "2                                 -499.828510   \n",
       "3                                 -499.963623   \n",
       "4                                 -500.360026   \n",
       "\n",
       "   secondary_cleaner.state.floatbank6_a_air  \\\n",
       "0                                 26.705889   \n",
       "1                                 25.019940   \n",
       "2                                 24.994862   \n",
       "3                                 24.948919   \n",
       "4                                 25.003331   \n",
       "\n",
       "   secondary_cleaner.state.floatbank6_a_level  \n",
       "0                                 -499.709414  \n",
       "1                                 -499.819438  \n",
       "2                                 -500.622559  \n",
       "3                                 -498.709987  \n",
       "4                                 -500.856333  \n",
       "\n",
       "[5 rows x 53 columns]"
      ]
     },
     "execution_count": 2,
     "metadata": {},
     "output_type": "execute_result"
    }
   ],
   "source": [
    "train = pd.read_csv('/datasets/gold_recovery_train_new.csv')\n",
    "test = pd.read_csv('/datasets/gold_recovery_test_new.csv')\n",
    "df = pd.read_csv('/datasets/gold_recovery_full_new.csv')\n",
    "\n",
    "print(test.info())\n",
    "test.head()"
   ]
  },
  {
   "cell_type": "markdown",
   "metadata": {},
   "source": [
    "So, we see that there are quite few features in the test sample - in particular, there is not one of the target ones. Let's turn to the general dataframe."
   ]
  },
  {
   "cell_type": "code",
   "execution_count": 3,
   "metadata": {},
   "outputs": [
    {
     "name": "stdout",
     "output_type": "stream",
     "text": [
      "<class 'pandas.core.frame.DataFrame'>\n",
      "RangeIndex: 19439 entries, 0 to 19438\n",
      "Data columns (total 87 columns):\n",
      " #   Column                                              Non-Null Count  Dtype  \n",
      "---  ------                                              --------------  -----  \n",
      " 0   date                                                19439 non-null  object \n",
      " 1   final.output.concentrate_ag                         19438 non-null  float64\n",
      " 2   final.output.concentrate_pb                         19438 non-null  float64\n",
      " 3   final.output.concentrate_sol                        19228 non-null  float64\n",
      " 4   final.output.concentrate_au                         19439 non-null  float64\n",
      " 5   final.output.recovery                               19439 non-null  float64\n",
      " 6   final.output.tail_ag                                19438 non-null  float64\n",
      " 7   final.output.tail_pb                                19338 non-null  float64\n",
      " 8   final.output.tail_sol                               19433 non-null  float64\n",
      " 9   final.output.tail_au                                19439 non-null  float64\n",
      " 10  primary_cleaner.input.sulfate                       19415 non-null  float64\n",
      " 11  primary_cleaner.input.depressant                    19402 non-null  float64\n",
      " 12  primary_cleaner.input.feed_size                     19439 non-null  float64\n",
      " 13  primary_cleaner.input.xanthate                      19335 non-null  float64\n",
      " 14  primary_cleaner.output.concentrate_ag               19439 non-null  float64\n",
      " 15  primary_cleaner.output.concentrate_pb               19323 non-null  float64\n",
      " 16  primary_cleaner.output.concentrate_sol              19069 non-null  float64\n",
      " 17  primary_cleaner.output.concentrate_au               19439 non-null  float64\n",
      " 18  primary_cleaner.output.tail_ag                      19435 non-null  float64\n",
      " 19  primary_cleaner.output.tail_pb                      19418 non-null  float64\n",
      " 20  primary_cleaner.output.tail_sol                     19377 non-null  float64\n",
      " 21  primary_cleaner.output.tail_au                      19439 non-null  float64\n",
      " 22  primary_cleaner.state.floatbank8_a_air              19435 non-null  float64\n",
      " 23  primary_cleaner.state.floatbank8_a_level            19438 non-null  float64\n",
      " 24  primary_cleaner.state.floatbank8_b_air              19435 non-null  float64\n",
      " 25  primary_cleaner.state.floatbank8_b_level            19438 non-null  float64\n",
      " 26  primary_cleaner.state.floatbank8_c_air              19437 non-null  float64\n",
      " 27  primary_cleaner.state.floatbank8_c_level            19438 non-null  float64\n",
      " 28  primary_cleaner.state.floatbank8_d_air              19436 non-null  float64\n",
      " 29  primary_cleaner.state.floatbank8_d_level            19438 non-null  float64\n",
      " 30  rougher.calculation.sulfate_to_au_concentrate       19437 non-null  float64\n",
      " 31  rougher.calculation.floatbank10_sulfate_to_au_feed  19437 non-null  float64\n",
      " 32  rougher.calculation.floatbank11_sulfate_to_au_feed  19437 non-null  float64\n",
      " 33  rougher.calculation.au_pb_ratio                     19439 non-null  float64\n",
      " 34  rougher.input.feed_ag                               19439 non-null  float64\n",
      " 35  rougher.input.feed_pb                               19339 non-null  float64\n",
      " 36  rougher.input.feed_rate                             19428 non-null  float64\n",
      " 37  rougher.input.feed_size                             19294 non-null  float64\n",
      " 38  rougher.input.feed_sol                              19340 non-null  float64\n",
      " 39  rougher.input.feed_au                               19439 non-null  float64\n",
      " 40  rougher.input.floatbank10_sulfate                   19405 non-null  float64\n",
      " 41  rougher.input.floatbank10_xanthate                  19431 non-null  float64\n",
      " 42  rougher.input.floatbank11_sulfate                   19395 non-null  float64\n",
      " 43  rougher.input.floatbank11_xanthate                  18986 non-null  float64\n",
      " 44  rougher.output.concentrate_ag                       19439 non-null  float64\n",
      " 45  rougher.output.concentrate_pb                       19439 non-null  float64\n",
      " 46  rougher.output.concentrate_sol                      19416 non-null  float64\n",
      " 47  rougher.output.concentrate_au                       19439 non-null  float64\n",
      " 48  rougher.output.recovery                             19439 non-null  float64\n",
      " 49  rougher.output.tail_ag                              19438 non-null  float64\n",
      " 50  rougher.output.tail_pb                              19439 non-null  float64\n",
      " 51  rougher.output.tail_sol                             19439 non-null  float64\n",
      " 52  rougher.output.tail_au                              19439 non-null  float64\n",
      " 53  rougher.state.floatbank10_a_air                     19438 non-null  float64\n",
      " 54  rougher.state.floatbank10_a_level                   19438 non-null  float64\n",
      " 55  rougher.state.floatbank10_b_air                     19438 non-null  float64\n",
      " 56  rougher.state.floatbank10_b_level                   19438 non-null  float64\n",
      " 57  rougher.state.floatbank10_c_air                     19438 non-null  float64\n",
      " 58  rougher.state.floatbank10_c_level                   19438 non-null  float64\n",
      " 59  rougher.state.floatbank10_d_air                     19439 non-null  float64\n",
      " 60  rougher.state.floatbank10_d_level                   19439 non-null  float64\n",
      " 61  rougher.state.floatbank10_e_air                     19003 non-null  float64\n",
      " 62  rougher.state.floatbank10_e_level                   19439 non-null  float64\n",
      " 63  rougher.state.floatbank10_f_air                     19439 non-null  float64\n",
      " 64  rougher.state.floatbank10_f_level                   19439 non-null  float64\n",
      " 65  secondary_cleaner.output.tail_ag                    19437 non-null  float64\n",
      " 66  secondary_cleaner.output.tail_pb                    19427 non-null  float64\n",
      " 67  secondary_cleaner.output.tail_sol                   17691 non-null  float64\n",
      " 68  secondary_cleaner.output.tail_au                    19439 non-null  float64\n",
      " 69  secondary_cleaner.state.floatbank2_a_air            19219 non-null  float64\n",
      " 70  secondary_cleaner.state.floatbank2_a_level          19438 non-null  float64\n",
      " 71  secondary_cleaner.state.floatbank2_b_air            19416 non-null  float64\n",
      " 72  secondary_cleaner.state.floatbank2_b_level          19438 non-null  float64\n",
      " 73  secondary_cleaner.state.floatbank3_a_air            19426 non-null  float64\n",
      " 74  secondary_cleaner.state.floatbank3_a_level          19438 non-null  float64\n",
      " 75  secondary_cleaner.state.floatbank3_b_air            19438 non-null  float64\n",
      " 76  secondary_cleaner.state.floatbank3_b_level          19438 non-null  float64\n",
      " 77  secondary_cleaner.state.floatbank4_a_air            19433 non-null  float64\n",
      " 78  secondary_cleaner.state.floatbank4_a_level          19438 non-null  float64\n",
      " 79  secondary_cleaner.state.floatbank4_b_air            19438 non-null  float64\n",
      " 80  secondary_cleaner.state.floatbank4_b_level          19438 non-null  float64\n",
      " 81  secondary_cleaner.state.floatbank5_a_air            19438 non-null  float64\n",
      " 82  secondary_cleaner.state.floatbank5_a_level          19438 non-null  float64\n",
      " 83  secondary_cleaner.state.floatbank5_b_air            19438 non-null  float64\n",
      " 84  secondary_cleaner.state.floatbank5_b_level          19438 non-null  float64\n",
      " 85  secondary_cleaner.state.floatbank6_a_air            19437 non-null  float64\n",
      " 86  secondary_cleaner.state.floatbank6_a_level          19438 non-null  float64\n",
      "dtypes: float64(86), object(1)\n",
      "memory usage: 12.9+ MB\n",
      "None\n"
     ]
    },
    {
     "data": {
      "text/html": [
       "<div>\n",
       "<style scoped>\n",
       "    .dataframe tbody tr th:only-of-type {\n",
       "        vertical-align: middle;\n",
       "    }\n",
       "\n",
       "    .dataframe tbody tr th {\n",
       "        vertical-align: top;\n",
       "    }\n",
       "\n",
       "    .dataframe thead th {\n",
       "        text-align: right;\n",
       "    }\n",
       "</style>\n",
       "<table border=\"1\" class=\"dataframe\">\n",
       "  <thead>\n",
       "    <tr style=\"text-align: right;\">\n",
       "      <th></th>\n",
       "      <th>date</th>\n",
       "      <th>final.output.concentrate_ag</th>\n",
       "      <th>final.output.concentrate_pb</th>\n",
       "      <th>final.output.concentrate_sol</th>\n",
       "      <th>final.output.concentrate_au</th>\n",
       "      <th>final.output.recovery</th>\n",
       "      <th>final.output.tail_ag</th>\n",
       "      <th>final.output.tail_pb</th>\n",
       "      <th>final.output.tail_sol</th>\n",
       "      <th>final.output.tail_au</th>\n",
       "      <th>...</th>\n",
       "      <th>secondary_cleaner.state.floatbank4_a_air</th>\n",
       "      <th>secondary_cleaner.state.floatbank4_a_level</th>\n",
       "      <th>secondary_cleaner.state.floatbank4_b_air</th>\n",
       "      <th>secondary_cleaner.state.floatbank4_b_level</th>\n",
       "      <th>secondary_cleaner.state.floatbank5_a_air</th>\n",
       "      <th>secondary_cleaner.state.floatbank5_a_level</th>\n",
       "      <th>secondary_cleaner.state.floatbank5_b_air</th>\n",
       "      <th>secondary_cleaner.state.floatbank5_b_level</th>\n",
       "      <th>secondary_cleaner.state.floatbank6_a_air</th>\n",
       "      <th>secondary_cleaner.state.floatbank6_a_level</th>\n",
       "    </tr>\n",
       "  </thead>\n",
       "  <tbody>\n",
       "    <tr>\n",
       "      <th>0</th>\n",
       "      <td>2016-01-15 00:00:00</td>\n",
       "      <td>6.055403</td>\n",
       "      <td>9.889648</td>\n",
       "      <td>5.507324</td>\n",
       "      <td>42.192020</td>\n",
       "      <td>70.541216</td>\n",
       "      <td>10.411962</td>\n",
       "      <td>0.895447</td>\n",
       "      <td>16.904297</td>\n",
       "      <td>2.143149</td>\n",
       "      <td>...</td>\n",
       "      <td>14.016835</td>\n",
       "      <td>-502.488007</td>\n",
       "      <td>12.099931</td>\n",
       "      <td>-504.715942</td>\n",
       "      <td>9.925633</td>\n",
       "      <td>-498.310211</td>\n",
       "      <td>8.079666</td>\n",
       "      <td>-500.470978</td>\n",
       "      <td>14.151341</td>\n",
       "      <td>-605.841980</td>\n",
       "    </tr>\n",
       "    <tr>\n",
       "      <th>1</th>\n",
       "      <td>2016-01-15 01:00:00</td>\n",
       "      <td>6.029369</td>\n",
       "      <td>9.968944</td>\n",
       "      <td>5.257781</td>\n",
       "      <td>42.701629</td>\n",
       "      <td>69.266198</td>\n",
       "      <td>10.462676</td>\n",
       "      <td>0.927452</td>\n",
       "      <td>16.634514</td>\n",
       "      <td>2.224930</td>\n",
       "      <td>...</td>\n",
       "      <td>13.992281</td>\n",
       "      <td>-505.503262</td>\n",
       "      <td>11.950531</td>\n",
       "      <td>-501.331529</td>\n",
       "      <td>10.039245</td>\n",
       "      <td>-500.169983</td>\n",
       "      <td>7.984757</td>\n",
       "      <td>-500.582168</td>\n",
       "      <td>13.998353</td>\n",
       "      <td>-599.787184</td>\n",
       "    </tr>\n",
       "    <tr>\n",
       "      <th>2</th>\n",
       "      <td>2016-01-15 02:00:00</td>\n",
       "      <td>6.055926</td>\n",
       "      <td>10.213995</td>\n",
       "      <td>5.383759</td>\n",
       "      <td>42.657501</td>\n",
       "      <td>68.116445</td>\n",
       "      <td>10.507046</td>\n",
       "      <td>0.953716</td>\n",
       "      <td>16.208849</td>\n",
       "      <td>2.257889</td>\n",
       "      <td>...</td>\n",
       "      <td>14.015015</td>\n",
       "      <td>-502.520901</td>\n",
       "      <td>11.912783</td>\n",
       "      <td>-501.133383</td>\n",
       "      <td>10.070913</td>\n",
       "      <td>-500.129135</td>\n",
       "      <td>8.013877</td>\n",
       "      <td>-500.517572</td>\n",
       "      <td>14.028663</td>\n",
       "      <td>-601.427363</td>\n",
       "    </tr>\n",
       "    <tr>\n",
       "      <th>3</th>\n",
       "      <td>2016-01-15 03:00:00</td>\n",
       "      <td>6.047977</td>\n",
       "      <td>9.977019</td>\n",
       "      <td>4.858634</td>\n",
       "      <td>42.689819</td>\n",
       "      <td>68.347543</td>\n",
       "      <td>10.422762</td>\n",
       "      <td>0.883763</td>\n",
       "      <td>16.532835</td>\n",
       "      <td>2.146849</td>\n",
       "      <td>...</td>\n",
       "      <td>14.036510</td>\n",
       "      <td>-500.857308</td>\n",
       "      <td>11.999550</td>\n",
       "      <td>-501.193686</td>\n",
       "      <td>9.970366</td>\n",
       "      <td>-499.201640</td>\n",
       "      <td>7.977324</td>\n",
       "      <td>-500.255908</td>\n",
       "      <td>14.005551</td>\n",
       "      <td>-599.996129</td>\n",
       "    </tr>\n",
       "    <tr>\n",
       "      <th>4</th>\n",
       "      <td>2016-01-15 04:00:00</td>\n",
       "      <td>6.148599</td>\n",
       "      <td>10.142511</td>\n",
       "      <td>4.939416</td>\n",
       "      <td>42.774141</td>\n",
       "      <td>66.927016</td>\n",
       "      <td>10.360302</td>\n",
       "      <td>0.792826</td>\n",
       "      <td>16.525686</td>\n",
       "      <td>2.055292</td>\n",
       "      <td>...</td>\n",
       "      <td>14.027298</td>\n",
       "      <td>-499.838632</td>\n",
       "      <td>11.953070</td>\n",
       "      <td>-501.053894</td>\n",
       "      <td>9.925709</td>\n",
       "      <td>-501.686727</td>\n",
       "      <td>7.894242</td>\n",
       "      <td>-500.356035</td>\n",
       "      <td>13.996647</td>\n",
       "      <td>-601.496691</td>\n",
       "    </tr>\n",
       "  </tbody>\n",
       "</table>\n",
       "<p>5 rows × 87 columns</p>\n",
       "</div>"
      ],
      "text/plain": [
       "                  date  final.output.concentrate_ag  \\\n",
       "0  2016-01-15 00:00:00                     6.055403   \n",
       "1  2016-01-15 01:00:00                     6.029369   \n",
       "2  2016-01-15 02:00:00                     6.055926   \n",
       "3  2016-01-15 03:00:00                     6.047977   \n",
       "4  2016-01-15 04:00:00                     6.148599   \n",
       "\n",
       "   final.output.concentrate_pb  final.output.concentrate_sol  \\\n",
       "0                     9.889648                      5.507324   \n",
       "1                     9.968944                      5.257781   \n",
       "2                    10.213995                      5.383759   \n",
       "3                     9.977019                      4.858634   \n",
       "4                    10.142511                      4.939416   \n",
       "\n",
       "   final.output.concentrate_au  final.output.recovery  final.output.tail_ag  \\\n",
       "0                    42.192020              70.541216             10.411962   \n",
       "1                    42.701629              69.266198             10.462676   \n",
       "2                    42.657501              68.116445             10.507046   \n",
       "3                    42.689819              68.347543             10.422762   \n",
       "4                    42.774141              66.927016             10.360302   \n",
       "\n",
       "   final.output.tail_pb  final.output.tail_sol  final.output.tail_au  ...  \\\n",
       "0              0.895447              16.904297              2.143149  ...   \n",
       "1              0.927452              16.634514              2.224930  ...   \n",
       "2              0.953716              16.208849              2.257889  ...   \n",
       "3              0.883763              16.532835              2.146849  ...   \n",
       "4              0.792826              16.525686              2.055292  ...   \n",
       "\n",
       "   secondary_cleaner.state.floatbank4_a_air  \\\n",
       "0                                 14.016835   \n",
       "1                                 13.992281   \n",
       "2                                 14.015015   \n",
       "3                                 14.036510   \n",
       "4                                 14.027298   \n",
       "\n",
       "   secondary_cleaner.state.floatbank4_a_level  \\\n",
       "0                                 -502.488007   \n",
       "1                                 -505.503262   \n",
       "2                                 -502.520901   \n",
       "3                                 -500.857308   \n",
       "4                                 -499.838632   \n",
       "\n",
       "   secondary_cleaner.state.floatbank4_b_air  \\\n",
       "0                                 12.099931   \n",
       "1                                 11.950531   \n",
       "2                                 11.912783   \n",
       "3                                 11.999550   \n",
       "4                                 11.953070   \n",
       "\n",
       "   secondary_cleaner.state.floatbank4_b_level  \\\n",
       "0                                 -504.715942   \n",
       "1                                 -501.331529   \n",
       "2                                 -501.133383   \n",
       "3                                 -501.193686   \n",
       "4                                 -501.053894   \n",
       "\n",
       "   secondary_cleaner.state.floatbank5_a_air  \\\n",
       "0                                  9.925633   \n",
       "1                                 10.039245   \n",
       "2                                 10.070913   \n",
       "3                                  9.970366   \n",
       "4                                  9.925709   \n",
       "\n",
       "   secondary_cleaner.state.floatbank5_a_level  \\\n",
       "0                                 -498.310211   \n",
       "1                                 -500.169983   \n",
       "2                                 -500.129135   \n",
       "3                                 -499.201640   \n",
       "4                                 -501.686727   \n",
       "\n",
       "   secondary_cleaner.state.floatbank5_b_air  \\\n",
       "0                                  8.079666   \n",
       "1                                  7.984757   \n",
       "2                                  8.013877   \n",
       "3                                  7.977324   \n",
       "4                                  7.894242   \n",
       "\n",
       "   secondary_cleaner.state.floatbank5_b_level  \\\n",
       "0                                 -500.470978   \n",
       "1                                 -500.582168   \n",
       "2                                 -500.517572   \n",
       "3                                 -500.255908   \n",
       "4                                 -500.356035   \n",
       "\n",
       "   secondary_cleaner.state.floatbank6_a_air  \\\n",
       "0                                 14.151341   \n",
       "1                                 13.998353   \n",
       "2                                 14.028663   \n",
       "3                                 14.005551   \n",
       "4                                 13.996647   \n",
       "\n",
       "   secondary_cleaner.state.floatbank6_a_level  \n",
       "0                                 -605.841980  \n",
       "1                                 -599.787184  \n",
       "2                                 -601.427363  \n",
       "3                                 -599.996129  \n",
       "4                                 -601.496691  \n",
       "\n",
       "[5 rows x 87 columns]"
      ]
     },
     "execution_count": 3,
     "metadata": {},
     "output_type": "execute_result"
    }
   ],
   "source": [
    "print(df.info())\n",
    "df.head()"
   ]
  },
  {
   "cell_type": "markdown",
   "metadata": {},
   "source": [
    "There are target features in the full dataframe, which means that you need to get them from there and add them to the test sample. To do this, let's turn to the indexes from the test dataset."
   ]
  },
  {
   "cell_type": "code",
   "execution_count": 5,
   "metadata": {},
   "outputs": [],
   "source": [
    "targets_to_join = df[['date', 'final.output.recovery', 'rougher.output.recovery']].copy()\n",
    "test = test.join(targets_to_join.set_index('date'), on='date')"
   ]
  },
  {
   "cell_type": "markdown",
   "metadata": {},
   "source": [
    "Now let's look at the training set."
   ]
  },
  {
   "cell_type": "code",
   "execution_count": 6,
   "metadata": {},
   "outputs": [
    {
     "name": "stdout",
     "output_type": "stream",
     "text": [
      "<class 'pandas.core.frame.DataFrame'>\n",
      "RangeIndex: 14149 entries, 0 to 14148\n",
      "Data columns (total 87 columns):\n",
      " #   Column                                              Non-Null Count  Dtype  \n",
      "---  ------                                              --------------  -----  \n",
      " 0   date                                                14149 non-null  object \n",
      " 1   final.output.concentrate_ag                         14148 non-null  float64\n",
      " 2   final.output.concentrate_pb                         14148 non-null  float64\n",
      " 3   final.output.concentrate_sol                        13938 non-null  float64\n",
      " 4   final.output.concentrate_au                         14149 non-null  float64\n",
      " 5   final.output.recovery                               14149 non-null  float64\n",
      " 6   final.output.tail_ag                                14149 non-null  float64\n",
      " 7   final.output.tail_pb                                14049 non-null  float64\n",
      " 8   final.output.tail_sol                               14144 non-null  float64\n",
      " 9   final.output.tail_au                                14149 non-null  float64\n",
      " 10  primary_cleaner.input.sulfate                       14129 non-null  float64\n",
      " 11  primary_cleaner.input.depressant                    14117 non-null  float64\n",
      " 12  primary_cleaner.input.feed_size                     14149 non-null  float64\n",
      " 13  primary_cleaner.input.xanthate                      14049 non-null  float64\n",
      " 14  primary_cleaner.output.concentrate_ag               14149 non-null  float64\n",
      " 15  primary_cleaner.output.concentrate_pb               14063 non-null  float64\n",
      " 16  primary_cleaner.output.concentrate_sol              13863 non-null  float64\n",
      " 17  primary_cleaner.output.concentrate_au               14149 non-null  float64\n",
      " 18  primary_cleaner.output.tail_ag                      14148 non-null  float64\n",
      " 19  primary_cleaner.output.tail_pb                      14134 non-null  float64\n",
      " 20  primary_cleaner.output.tail_sol                     14103 non-null  float64\n",
      " 21  primary_cleaner.output.tail_au                      14149 non-null  float64\n",
      " 22  primary_cleaner.state.floatbank8_a_air              14145 non-null  float64\n",
      " 23  primary_cleaner.state.floatbank8_a_level            14148 non-null  float64\n",
      " 24  primary_cleaner.state.floatbank8_b_air              14145 non-null  float64\n",
      " 25  primary_cleaner.state.floatbank8_b_level            14148 non-null  float64\n",
      " 26  primary_cleaner.state.floatbank8_c_air              14147 non-null  float64\n",
      " 27  primary_cleaner.state.floatbank8_c_level            14148 non-null  float64\n",
      " 28  primary_cleaner.state.floatbank8_d_air              14146 non-null  float64\n",
      " 29  primary_cleaner.state.floatbank8_d_level            14148 non-null  float64\n",
      " 30  rougher.calculation.sulfate_to_au_concentrate       14148 non-null  float64\n",
      " 31  rougher.calculation.floatbank10_sulfate_to_au_feed  14148 non-null  float64\n",
      " 32  rougher.calculation.floatbank11_sulfate_to_au_feed  14148 non-null  float64\n",
      " 33  rougher.calculation.au_pb_ratio                     14149 non-null  float64\n",
      " 34  rougher.input.feed_ag                               14149 non-null  float64\n",
      " 35  rougher.input.feed_pb                               14049 non-null  float64\n",
      " 36  rougher.input.feed_rate                             14141 non-null  float64\n",
      " 37  rougher.input.feed_size                             14005 non-null  float64\n",
      " 38  rougher.input.feed_sol                              14071 non-null  float64\n",
      " 39  rougher.input.feed_au                               14149 non-null  float64\n",
      " 40  rougher.input.floatbank10_sulfate                   14120 non-null  float64\n",
      " 41  rougher.input.floatbank10_xanthate                  14141 non-null  float64\n",
      " 42  rougher.input.floatbank11_sulfate                   14113 non-null  float64\n",
      " 43  rougher.input.floatbank11_xanthate                  13721 non-null  float64\n",
      " 44  rougher.output.concentrate_ag                       14149 non-null  float64\n",
      " 45  rougher.output.concentrate_pb                       14149 non-null  float64\n",
      " 46  rougher.output.concentrate_sol                      14127 non-null  float64\n",
      " 47  rougher.output.concentrate_au                       14149 non-null  float64\n",
      " 48  rougher.output.recovery                             14149 non-null  float64\n",
      " 49  rougher.output.tail_ag                              14148 non-null  float64\n",
      " 50  rougher.output.tail_pb                              14149 non-null  float64\n",
      " 51  rougher.output.tail_sol                             14149 non-null  float64\n",
      " 52  rougher.output.tail_au                              14149 non-null  float64\n",
      " 53  rougher.state.floatbank10_a_air                     14148 non-null  float64\n",
      " 54  rougher.state.floatbank10_a_level                   14148 non-null  float64\n",
      " 55  rougher.state.floatbank10_b_air                     14148 non-null  float64\n",
      " 56  rougher.state.floatbank10_b_level                   14148 non-null  float64\n",
      " 57  rougher.state.floatbank10_c_air                     14148 non-null  float64\n",
      " 58  rougher.state.floatbank10_c_level                   14148 non-null  float64\n",
      " 59  rougher.state.floatbank10_d_air                     14149 non-null  float64\n",
      " 60  rougher.state.floatbank10_d_level                   14149 non-null  float64\n",
      " 61  rougher.state.floatbank10_e_air                     13713 non-null  float64\n",
      " 62  rougher.state.floatbank10_e_level                   14149 non-null  float64\n",
      " 63  rougher.state.floatbank10_f_air                     14149 non-null  float64\n",
      " 64  rougher.state.floatbank10_f_level                   14149 non-null  float64\n",
      " 65  secondary_cleaner.output.tail_ag                    14147 non-null  float64\n",
      " 66  secondary_cleaner.output.tail_pb                    14139 non-null  float64\n",
      " 67  secondary_cleaner.output.tail_sol                   12544 non-null  float64\n",
      " 68  secondary_cleaner.output.tail_au                    14149 non-null  float64\n",
      " 69  secondary_cleaner.state.floatbank2_a_air            13932 non-null  float64\n",
      " 70  secondary_cleaner.state.floatbank2_a_level          14148 non-null  float64\n",
      " 71  secondary_cleaner.state.floatbank2_b_air            14128 non-null  float64\n",
      " 72  secondary_cleaner.state.floatbank2_b_level          14148 non-null  float64\n",
      " 73  secondary_cleaner.state.floatbank3_a_air            14145 non-null  float64\n",
      " 74  secondary_cleaner.state.floatbank3_a_level          14148 non-null  float64\n",
      " 75  secondary_cleaner.state.floatbank3_b_air            14148 non-null  float64\n",
      " 76  secondary_cleaner.state.floatbank3_b_level          14148 non-null  float64\n",
      " 77  secondary_cleaner.state.floatbank4_a_air            14143 non-null  float64\n",
      " 78  secondary_cleaner.state.floatbank4_a_level          14148 non-null  float64\n",
      " 79  secondary_cleaner.state.floatbank4_b_air            14148 non-null  float64\n",
      " 80  secondary_cleaner.state.floatbank4_b_level          14148 non-null  float64\n",
      " 81  secondary_cleaner.state.floatbank5_a_air            14148 non-null  float64\n",
      " 82  secondary_cleaner.state.floatbank5_a_level          14148 non-null  float64\n",
      " 83  secondary_cleaner.state.floatbank5_b_air            14148 non-null  float64\n",
      " 84  secondary_cleaner.state.floatbank5_b_level          14148 non-null  float64\n",
      " 85  secondary_cleaner.state.floatbank6_a_air            14147 non-null  float64\n",
      " 86  secondary_cleaner.state.floatbank6_a_level          14148 non-null  float64\n",
      "dtypes: float64(86), object(1)\n",
      "memory usage: 9.4+ MB\n",
      "None\n"
     ]
    },
    {
     "data": {
      "text/html": [
       "<div>\n",
       "<style scoped>\n",
       "    .dataframe tbody tr th:only-of-type {\n",
       "        vertical-align: middle;\n",
       "    }\n",
       "\n",
       "    .dataframe tbody tr th {\n",
       "        vertical-align: top;\n",
       "    }\n",
       "\n",
       "    .dataframe thead th {\n",
       "        text-align: right;\n",
       "    }\n",
       "</style>\n",
       "<table border=\"1\" class=\"dataframe\">\n",
       "  <thead>\n",
       "    <tr style=\"text-align: right;\">\n",
       "      <th></th>\n",
       "      <th>date</th>\n",
       "      <th>final.output.concentrate_ag</th>\n",
       "      <th>final.output.concentrate_pb</th>\n",
       "      <th>final.output.concentrate_sol</th>\n",
       "      <th>final.output.concentrate_au</th>\n",
       "      <th>final.output.recovery</th>\n",
       "      <th>final.output.tail_ag</th>\n",
       "      <th>final.output.tail_pb</th>\n",
       "      <th>final.output.tail_sol</th>\n",
       "      <th>final.output.tail_au</th>\n",
       "      <th>...</th>\n",
       "      <th>secondary_cleaner.state.floatbank4_a_air</th>\n",
       "      <th>secondary_cleaner.state.floatbank4_a_level</th>\n",
       "      <th>secondary_cleaner.state.floatbank4_b_air</th>\n",
       "      <th>secondary_cleaner.state.floatbank4_b_level</th>\n",
       "      <th>secondary_cleaner.state.floatbank5_a_air</th>\n",
       "      <th>secondary_cleaner.state.floatbank5_a_level</th>\n",
       "      <th>secondary_cleaner.state.floatbank5_b_air</th>\n",
       "      <th>secondary_cleaner.state.floatbank5_b_level</th>\n",
       "      <th>secondary_cleaner.state.floatbank6_a_air</th>\n",
       "      <th>secondary_cleaner.state.floatbank6_a_level</th>\n",
       "    </tr>\n",
       "  </thead>\n",
       "  <tbody>\n",
       "    <tr>\n",
       "      <th>0</th>\n",
       "      <td>2016-01-15 00:00:00</td>\n",
       "      <td>6.055403</td>\n",
       "      <td>9.889648</td>\n",
       "      <td>5.507324</td>\n",
       "      <td>42.192020</td>\n",
       "      <td>70.541216</td>\n",
       "      <td>10.411962</td>\n",
       "      <td>0.895447</td>\n",
       "      <td>16.904297</td>\n",
       "      <td>2.143149</td>\n",
       "      <td>...</td>\n",
       "      <td>14.016835</td>\n",
       "      <td>-502.488007</td>\n",
       "      <td>12.099931</td>\n",
       "      <td>-504.715942</td>\n",
       "      <td>9.925633</td>\n",
       "      <td>-498.310211</td>\n",
       "      <td>8.079666</td>\n",
       "      <td>-500.470978</td>\n",
       "      <td>14.151341</td>\n",
       "      <td>-605.841980</td>\n",
       "    </tr>\n",
       "    <tr>\n",
       "      <th>1</th>\n",
       "      <td>2016-01-15 01:00:00</td>\n",
       "      <td>6.029369</td>\n",
       "      <td>9.968944</td>\n",
       "      <td>5.257781</td>\n",
       "      <td>42.701629</td>\n",
       "      <td>69.266198</td>\n",
       "      <td>10.462676</td>\n",
       "      <td>0.927452</td>\n",
       "      <td>16.634514</td>\n",
       "      <td>2.224930</td>\n",
       "      <td>...</td>\n",
       "      <td>13.992281</td>\n",
       "      <td>-505.503262</td>\n",
       "      <td>11.950531</td>\n",
       "      <td>-501.331529</td>\n",
       "      <td>10.039245</td>\n",
       "      <td>-500.169983</td>\n",
       "      <td>7.984757</td>\n",
       "      <td>-500.582168</td>\n",
       "      <td>13.998353</td>\n",
       "      <td>-599.787184</td>\n",
       "    </tr>\n",
       "    <tr>\n",
       "      <th>2</th>\n",
       "      <td>2016-01-15 02:00:00</td>\n",
       "      <td>6.055926</td>\n",
       "      <td>10.213995</td>\n",
       "      <td>5.383759</td>\n",
       "      <td>42.657501</td>\n",
       "      <td>68.116445</td>\n",
       "      <td>10.507046</td>\n",
       "      <td>0.953716</td>\n",
       "      <td>16.208849</td>\n",
       "      <td>2.257889</td>\n",
       "      <td>...</td>\n",
       "      <td>14.015015</td>\n",
       "      <td>-502.520901</td>\n",
       "      <td>11.912783</td>\n",
       "      <td>-501.133383</td>\n",
       "      <td>10.070913</td>\n",
       "      <td>-500.129135</td>\n",
       "      <td>8.013877</td>\n",
       "      <td>-500.517572</td>\n",
       "      <td>14.028663</td>\n",
       "      <td>-601.427363</td>\n",
       "    </tr>\n",
       "    <tr>\n",
       "      <th>3</th>\n",
       "      <td>2016-01-15 03:00:00</td>\n",
       "      <td>6.047977</td>\n",
       "      <td>9.977019</td>\n",
       "      <td>4.858634</td>\n",
       "      <td>42.689819</td>\n",
       "      <td>68.347543</td>\n",
       "      <td>10.422762</td>\n",
       "      <td>0.883763</td>\n",
       "      <td>16.532835</td>\n",
       "      <td>2.146849</td>\n",
       "      <td>...</td>\n",
       "      <td>14.036510</td>\n",
       "      <td>-500.857308</td>\n",
       "      <td>11.999550</td>\n",
       "      <td>-501.193686</td>\n",
       "      <td>9.970366</td>\n",
       "      <td>-499.201640</td>\n",
       "      <td>7.977324</td>\n",
       "      <td>-500.255908</td>\n",
       "      <td>14.005551</td>\n",
       "      <td>-599.996129</td>\n",
       "    </tr>\n",
       "    <tr>\n",
       "      <th>4</th>\n",
       "      <td>2016-01-15 04:00:00</td>\n",
       "      <td>6.148599</td>\n",
       "      <td>10.142511</td>\n",
       "      <td>4.939416</td>\n",
       "      <td>42.774141</td>\n",
       "      <td>66.927016</td>\n",
       "      <td>10.360302</td>\n",
       "      <td>0.792826</td>\n",
       "      <td>16.525686</td>\n",
       "      <td>2.055292</td>\n",
       "      <td>...</td>\n",
       "      <td>14.027298</td>\n",
       "      <td>-499.838632</td>\n",
       "      <td>11.953070</td>\n",
       "      <td>-501.053894</td>\n",
       "      <td>9.925709</td>\n",
       "      <td>-501.686727</td>\n",
       "      <td>7.894242</td>\n",
       "      <td>-500.356035</td>\n",
       "      <td>13.996647</td>\n",
       "      <td>-601.496691</td>\n",
       "    </tr>\n",
       "  </tbody>\n",
       "</table>\n",
       "<p>5 rows × 87 columns</p>\n",
       "</div>"
      ],
      "text/plain": [
       "                  date  final.output.concentrate_ag  \\\n",
       "0  2016-01-15 00:00:00                     6.055403   \n",
       "1  2016-01-15 01:00:00                     6.029369   \n",
       "2  2016-01-15 02:00:00                     6.055926   \n",
       "3  2016-01-15 03:00:00                     6.047977   \n",
       "4  2016-01-15 04:00:00                     6.148599   \n",
       "\n",
       "   final.output.concentrate_pb  final.output.concentrate_sol  \\\n",
       "0                     9.889648                      5.507324   \n",
       "1                     9.968944                      5.257781   \n",
       "2                    10.213995                      5.383759   \n",
       "3                     9.977019                      4.858634   \n",
       "4                    10.142511                      4.939416   \n",
       "\n",
       "   final.output.concentrate_au  final.output.recovery  final.output.tail_ag  \\\n",
       "0                    42.192020              70.541216             10.411962   \n",
       "1                    42.701629              69.266198             10.462676   \n",
       "2                    42.657501              68.116445             10.507046   \n",
       "3                    42.689819              68.347543             10.422762   \n",
       "4                    42.774141              66.927016             10.360302   \n",
       "\n",
       "   final.output.tail_pb  final.output.tail_sol  final.output.tail_au  ...  \\\n",
       "0              0.895447              16.904297              2.143149  ...   \n",
       "1              0.927452              16.634514              2.224930  ...   \n",
       "2              0.953716              16.208849              2.257889  ...   \n",
       "3              0.883763              16.532835              2.146849  ...   \n",
       "4              0.792826              16.525686              2.055292  ...   \n",
       "\n",
       "   secondary_cleaner.state.floatbank4_a_air  \\\n",
       "0                                 14.016835   \n",
       "1                                 13.992281   \n",
       "2                                 14.015015   \n",
       "3                                 14.036510   \n",
       "4                                 14.027298   \n",
       "\n",
       "   secondary_cleaner.state.floatbank4_a_level  \\\n",
       "0                                 -502.488007   \n",
       "1                                 -505.503262   \n",
       "2                                 -502.520901   \n",
       "3                                 -500.857308   \n",
       "4                                 -499.838632   \n",
       "\n",
       "   secondary_cleaner.state.floatbank4_b_air  \\\n",
       "0                                 12.099931   \n",
       "1                                 11.950531   \n",
       "2                                 11.912783   \n",
       "3                                 11.999550   \n",
       "4                                 11.953070   \n",
       "\n",
       "   secondary_cleaner.state.floatbank4_b_level  \\\n",
       "0                                 -504.715942   \n",
       "1                                 -501.331529   \n",
       "2                                 -501.133383   \n",
       "3                                 -501.193686   \n",
       "4                                 -501.053894   \n",
       "\n",
       "   secondary_cleaner.state.floatbank5_a_air  \\\n",
       "0                                  9.925633   \n",
       "1                                 10.039245   \n",
       "2                                 10.070913   \n",
       "3                                  9.970366   \n",
       "4                                  9.925709   \n",
       "\n",
       "   secondary_cleaner.state.floatbank5_a_level  \\\n",
       "0                                 -498.310211   \n",
       "1                                 -500.169983   \n",
       "2                                 -500.129135   \n",
       "3                                 -499.201640   \n",
       "4                                 -501.686727   \n",
       "\n",
       "   secondary_cleaner.state.floatbank5_b_air  \\\n",
       "0                                  8.079666   \n",
       "1                                  7.984757   \n",
       "2                                  8.013877   \n",
       "3                                  7.977324   \n",
       "4                                  7.894242   \n",
       "\n",
       "   secondary_cleaner.state.floatbank5_b_level  \\\n",
       "0                                 -500.470978   \n",
       "1                                 -500.582168   \n",
       "2                                 -500.517572   \n",
       "3                                 -500.255908   \n",
       "4                                 -500.356035   \n",
       "\n",
       "   secondary_cleaner.state.floatbank6_a_air  \\\n",
       "0                                 14.151341   \n",
       "1                                 13.998353   \n",
       "2                                 14.028663   \n",
       "3                                 14.005551   \n",
       "4                                 13.996647   \n",
       "\n",
       "   secondary_cleaner.state.floatbank6_a_level  \n",
       "0                                 -605.841980  \n",
       "1                                 -599.787184  \n",
       "2                                 -601.427363  \n",
       "3                                 -599.996129  \n",
       "4                                 -601.496691  \n",
       "\n",
       "[5 rows x 87 columns]"
      ]
     },
     "execution_count": 6,
     "metadata": {},
     "output_type": "execute_result"
    }
   ],
   "source": [
    "print(train.info())\n",
    "train.head()"
   ]
  },
  {
   "cell_type": "markdown",
   "metadata": {},
   "source": [
    "It contains the same columns as in the original dataset. What is the difference?"
   ]
  },
  {
   "cell_type": "code",
   "execution_count": 7,
   "metadata": {},
   "outputs": [
    {
     "data": {
      "text/plain": [
       "['final.output.concentrate_ag',\n",
       " 'final.output.concentrate_pb',\n",
       " 'final.output.concentrate_sol',\n",
       " 'final.output.concentrate_au',\n",
       " 'final.output.tail_ag',\n",
       " 'final.output.tail_pb',\n",
       " 'final.output.tail_sol',\n",
       " 'final.output.tail_au',\n",
       " 'primary_cleaner.output.concentrate_ag',\n",
       " 'primary_cleaner.output.concentrate_pb',\n",
       " 'primary_cleaner.output.concentrate_sol',\n",
       " 'primary_cleaner.output.concentrate_au',\n",
       " 'primary_cleaner.output.tail_ag',\n",
       " 'primary_cleaner.output.tail_pb',\n",
       " 'primary_cleaner.output.tail_sol',\n",
       " 'primary_cleaner.output.tail_au',\n",
       " 'rougher.calculation.sulfate_to_au_concentrate',\n",
       " 'rougher.calculation.floatbank10_sulfate_to_au_feed',\n",
       " 'rougher.calculation.floatbank11_sulfate_to_au_feed',\n",
       " 'rougher.calculation.au_pb_ratio',\n",
       " 'rougher.output.concentrate_ag',\n",
       " 'rougher.output.concentrate_pb',\n",
       " 'rougher.output.concentrate_sol',\n",
       " 'rougher.output.concentrate_au',\n",
       " 'rougher.output.tail_ag',\n",
       " 'rougher.output.tail_pb',\n",
       " 'rougher.output.tail_sol',\n",
       " 'rougher.output.tail_au',\n",
       " 'secondary_cleaner.output.tail_ag',\n",
       " 'secondary_cleaner.output.tail_pb',\n",
       " 'secondary_cleaner.output.tail_sol',\n",
       " 'secondary_cleaner.output.tail_au']"
      ]
     },
     "execution_count": 7,
     "metadata": {},
     "output_type": "execute_result"
    }
   ],
   "source": [
    "diff_columns = []\n",
    "for item in [x for x in train.columns if x not in test.columns]:\n",
    "    diff_columns.append(item)\n",
    "diff_columns"
   ]
  },
  {
   "cell_type": "markdown",
   "metadata": {},
   "source": [
    "It turns out that the test sample does not include those indicators that are associated with the output and calculations, but only indicators of the current state and input data. In general, this is logical, because the output data must be predicted and calculated based on raw materials and other available data. It is impossible to get these indicators during the technological process."
   ]
  },
  {
   "cell_type": "markdown",
   "metadata": {},
   "source": [
    "The next step is to check whether the *rougher.output.recovery* indicator is calculated correctly on the training sample, for which we apply the given formula and calculate the MAE. Because there is a missing value in one of the columns required for the calculation, we also fill it in."
   ]
  },
  {
   "cell_type": "code",
   "execution_count": 8,
   "metadata": {},
   "outputs": [
    {
     "name": "stdout",
     "output_type": "stream",
     "text": [
      "9.73512347450521e-15\n"
     ]
    }
   ],
   "source": [
    "train['rougher.output.tail_au'] = train['rougher.output.tail_au'].fillna(train['rougher.output.tail_au'].mean())\n",
    "train['rougher.output.recovery.calculation'] = (train['rougher.output.concentrate_au']*(train['rougher.input.feed_au'] - train['rougher.output.tail_au']))/(train['rougher.input.feed_au']*(train['rougher.output.concentrate_au']-train['rougher.output.tail_au']))*100\n",
    "print(mae(train['rougher.output.recovery'], train['rougher.output.recovery.calculation']))"
   ]
  },
  {
   "cell_type": "markdown",
   "metadata": {},
   "source": [
    "The error is negligible (10 to the minus 15th power), from which we can conclude that the indicator in the dataset is calculated correctly."
   ]
  },
  {
   "cell_type": "markdown",
   "metadata": {},
   "source": [
    "Now let's do preprocessing - in order not to lose values, we will fill in the gaps (which, in general, are negligible (maximum 3% in the test sample) with the average values for the columns. At the same time, in the test sample (which we, theoretically, cannot know anything about yet!) we will fill in the gaps with the averages for the columns of the training sample.  \n",
    "Also, we will create a narrower training sample directly for working with models, which will contain only the columns taken into account in the test sample."
   ]
  },
  {
   "cell_type": "code",
   "execution_count": 9,
   "metadata": {},
   "outputs": [],
   "source": [
    "# gap fill in test sample\n",
    "for column in test.columns[1:]:\n",
    "    test[column] = test[column].fillna(train[column].mean())\n",
    "\n",
    "# gap fill in train sample\n",
    "for column in train.columns[1:]:\n",
    "    train[column] = train[column].fillna(train[column].mean())\n",
    "    \n",
    "train_model = train[test.columns]"
   ]
  },
  {
   "cell_type": "markdown",
   "metadata": {},
   "source": [
    "For convenience, we can also convert the date to datetime."
   ]
  },
  {
   "cell_type": "code",
   "execution_count": 10,
   "metadata": {},
   "outputs": [
    {
     "name": "stderr",
     "output_type": "stream",
     "text": [
      "/tmp/ipykernel_114/3582760524.py:1: SettingWithCopyWarning: \n",
      "A value is trying to be set on a copy of a slice from a DataFrame.\n",
      "Try using .loc[row_indexer,col_indexer] = value instead\n",
      "\n",
      "See the caveats in the documentation: https://pandas.pydata.org/pandas-docs/stable/user_guide/indexing.html#returning-a-view-versus-a-copy\n",
      "  train_model['date'] = pd.to_datetime(train_model['date'], format='%Y-%m-%d %H:%M:%S')\n"
     ]
    }
   ],
   "source": [
    "train_model['date'] = pd.to_datetime(train_model['date'], format='%Y-%m-%d %H:%M:%S')\n",
    "test['date'] = pd.to_datetime(test['date'], format='%Y-%m-%d %H:%M:%S')"
   ]
  },
  {
   "cell_type": "markdown",
   "metadata": {},
   "source": [
    "Let's check the output for both preprocessed samples:"
   ]
  },
  {
   "cell_type": "code",
   "execution_count": 11,
   "metadata": {},
   "outputs": [
    {
     "name": "stdout",
     "output_type": "stream",
     "text": [
      "<class 'pandas.core.frame.DataFrame'>\n",
      "RangeIndex: 14149 entries, 0 to 14148\n",
      "Data columns (total 55 columns):\n",
      " #   Column                                      Non-Null Count  Dtype         \n",
      "---  ------                                      --------------  -----         \n",
      " 0   date                                        14149 non-null  datetime64[ns]\n",
      " 1   primary_cleaner.input.sulfate               14149 non-null  float64       \n",
      " 2   primary_cleaner.input.depressant            14149 non-null  float64       \n",
      " 3   primary_cleaner.input.feed_size             14149 non-null  float64       \n",
      " 4   primary_cleaner.input.xanthate              14149 non-null  float64       \n",
      " 5   primary_cleaner.state.floatbank8_a_air      14149 non-null  float64       \n",
      " 6   primary_cleaner.state.floatbank8_a_level    14149 non-null  float64       \n",
      " 7   primary_cleaner.state.floatbank8_b_air      14149 non-null  float64       \n",
      " 8   primary_cleaner.state.floatbank8_b_level    14149 non-null  float64       \n",
      " 9   primary_cleaner.state.floatbank8_c_air      14149 non-null  float64       \n",
      " 10  primary_cleaner.state.floatbank8_c_level    14149 non-null  float64       \n",
      " 11  primary_cleaner.state.floatbank8_d_air      14149 non-null  float64       \n",
      " 12  primary_cleaner.state.floatbank8_d_level    14149 non-null  float64       \n",
      " 13  rougher.input.feed_ag                       14149 non-null  float64       \n",
      " 14  rougher.input.feed_pb                       14149 non-null  float64       \n",
      " 15  rougher.input.feed_rate                     14149 non-null  float64       \n",
      " 16  rougher.input.feed_size                     14149 non-null  float64       \n",
      " 17  rougher.input.feed_sol                      14149 non-null  float64       \n",
      " 18  rougher.input.feed_au                       14149 non-null  float64       \n",
      " 19  rougher.input.floatbank10_sulfate           14149 non-null  float64       \n",
      " 20  rougher.input.floatbank10_xanthate          14149 non-null  float64       \n",
      " 21  rougher.input.floatbank11_sulfate           14149 non-null  float64       \n",
      " 22  rougher.input.floatbank11_xanthate          14149 non-null  float64       \n",
      " 23  rougher.state.floatbank10_a_air             14149 non-null  float64       \n",
      " 24  rougher.state.floatbank10_a_level           14149 non-null  float64       \n",
      " 25  rougher.state.floatbank10_b_air             14149 non-null  float64       \n",
      " 26  rougher.state.floatbank10_b_level           14149 non-null  float64       \n",
      " 27  rougher.state.floatbank10_c_air             14149 non-null  float64       \n",
      " 28  rougher.state.floatbank10_c_level           14149 non-null  float64       \n",
      " 29  rougher.state.floatbank10_d_air             14149 non-null  float64       \n",
      " 30  rougher.state.floatbank10_d_level           14149 non-null  float64       \n",
      " 31  rougher.state.floatbank10_e_air             14149 non-null  float64       \n",
      " 32  rougher.state.floatbank10_e_level           14149 non-null  float64       \n",
      " 33  rougher.state.floatbank10_f_air             14149 non-null  float64       \n",
      " 34  rougher.state.floatbank10_f_level           14149 non-null  float64       \n",
      " 35  secondary_cleaner.state.floatbank2_a_air    14149 non-null  float64       \n",
      " 36  secondary_cleaner.state.floatbank2_a_level  14149 non-null  float64       \n",
      " 37  secondary_cleaner.state.floatbank2_b_air    14149 non-null  float64       \n",
      " 38  secondary_cleaner.state.floatbank2_b_level  14149 non-null  float64       \n",
      " 39  secondary_cleaner.state.floatbank3_a_air    14149 non-null  float64       \n",
      " 40  secondary_cleaner.state.floatbank3_a_level  14149 non-null  float64       \n",
      " 41  secondary_cleaner.state.floatbank3_b_air    14149 non-null  float64       \n",
      " 42  secondary_cleaner.state.floatbank3_b_level  14149 non-null  float64       \n",
      " 43  secondary_cleaner.state.floatbank4_a_air    14149 non-null  float64       \n",
      " 44  secondary_cleaner.state.floatbank4_a_level  14149 non-null  float64       \n",
      " 45  secondary_cleaner.state.floatbank4_b_air    14149 non-null  float64       \n",
      " 46  secondary_cleaner.state.floatbank4_b_level  14149 non-null  float64       \n",
      " 47  secondary_cleaner.state.floatbank5_a_air    14149 non-null  float64       \n",
      " 48  secondary_cleaner.state.floatbank5_a_level  14149 non-null  float64       \n",
      " 49  secondary_cleaner.state.floatbank5_b_air    14149 non-null  float64       \n",
      " 50  secondary_cleaner.state.floatbank5_b_level  14149 non-null  float64       \n",
      " 51  secondary_cleaner.state.floatbank6_a_air    14149 non-null  float64       \n",
      " 52  secondary_cleaner.state.floatbank6_a_level  14149 non-null  float64       \n",
      " 53  final.output.recovery                       14149 non-null  float64       \n",
      " 54  rougher.output.recovery                     14149 non-null  float64       \n",
      "dtypes: datetime64[ns](1), float64(54)\n",
      "memory usage: 5.9 MB\n",
      "None\n",
      "<class 'pandas.core.frame.DataFrame'>\n",
      "RangeIndex: 5290 entries, 0 to 5289\n",
      "Data columns (total 55 columns):\n",
      " #   Column                                      Non-Null Count  Dtype         \n",
      "---  ------                                      --------------  -----         \n",
      " 0   date                                        5290 non-null   datetime64[ns]\n",
      " 1   primary_cleaner.input.sulfate               5290 non-null   float64       \n",
      " 2   primary_cleaner.input.depressant            5290 non-null   float64       \n",
      " 3   primary_cleaner.input.feed_size             5290 non-null   float64       \n",
      " 4   primary_cleaner.input.xanthate              5290 non-null   float64       \n",
      " 5   primary_cleaner.state.floatbank8_a_air      5290 non-null   float64       \n",
      " 6   primary_cleaner.state.floatbank8_a_level    5290 non-null   float64       \n",
      " 7   primary_cleaner.state.floatbank8_b_air      5290 non-null   float64       \n",
      " 8   primary_cleaner.state.floatbank8_b_level    5290 non-null   float64       \n",
      " 9   primary_cleaner.state.floatbank8_c_air      5290 non-null   float64       \n",
      " 10  primary_cleaner.state.floatbank8_c_level    5290 non-null   float64       \n",
      " 11  primary_cleaner.state.floatbank8_d_air      5290 non-null   float64       \n",
      " 12  primary_cleaner.state.floatbank8_d_level    5290 non-null   float64       \n",
      " 13  rougher.input.feed_ag                       5290 non-null   float64       \n",
      " 14  rougher.input.feed_pb                       5290 non-null   float64       \n",
      " 15  rougher.input.feed_rate                     5290 non-null   float64       \n",
      " 16  rougher.input.feed_size                     5290 non-null   float64       \n",
      " 17  rougher.input.feed_sol                      5290 non-null   float64       \n",
      " 18  rougher.input.feed_au                       5290 non-null   float64       \n",
      " 19  rougher.input.floatbank10_sulfate           5290 non-null   float64       \n",
      " 20  rougher.input.floatbank10_xanthate          5290 non-null   float64       \n",
      " 21  rougher.input.floatbank11_sulfate           5290 non-null   float64       \n",
      " 22  rougher.input.floatbank11_xanthate          5290 non-null   float64       \n",
      " 23  rougher.state.floatbank10_a_air             5290 non-null   float64       \n",
      " 24  rougher.state.floatbank10_a_level           5290 non-null   float64       \n",
      " 25  rougher.state.floatbank10_b_air             5290 non-null   float64       \n",
      " 26  rougher.state.floatbank10_b_level           5290 non-null   float64       \n",
      " 27  rougher.state.floatbank10_c_air             5290 non-null   float64       \n",
      " 28  rougher.state.floatbank10_c_level           5290 non-null   float64       \n",
      " 29  rougher.state.floatbank10_d_air             5290 non-null   float64       \n",
      " 30  rougher.state.floatbank10_d_level           5290 non-null   float64       \n",
      " 31  rougher.state.floatbank10_e_air             5290 non-null   float64       \n",
      " 32  rougher.state.floatbank10_e_level           5290 non-null   float64       \n",
      " 33  rougher.state.floatbank10_f_air             5290 non-null   float64       \n",
      " 34  rougher.state.floatbank10_f_level           5290 non-null   float64       \n",
      " 35  secondary_cleaner.state.floatbank2_a_air    5290 non-null   float64       \n",
      " 36  secondary_cleaner.state.floatbank2_a_level  5290 non-null   float64       \n",
      " 37  secondary_cleaner.state.floatbank2_b_air    5290 non-null   float64       \n",
      " 38  secondary_cleaner.state.floatbank2_b_level  5290 non-null   float64       \n",
      " 39  secondary_cleaner.state.floatbank3_a_air    5290 non-null   float64       \n",
      " 40  secondary_cleaner.state.floatbank3_a_level  5290 non-null   float64       \n",
      " 41  secondary_cleaner.state.floatbank3_b_air    5290 non-null   float64       \n",
      " 42  secondary_cleaner.state.floatbank3_b_level  5290 non-null   float64       \n",
      " 43  secondary_cleaner.state.floatbank4_a_air    5290 non-null   float64       \n",
      " 44  secondary_cleaner.state.floatbank4_a_level  5290 non-null   float64       \n",
      " 45  secondary_cleaner.state.floatbank4_b_air    5290 non-null   float64       \n",
      " 46  secondary_cleaner.state.floatbank4_b_level  5290 non-null   float64       \n",
      " 47  secondary_cleaner.state.floatbank5_a_air    5290 non-null   float64       \n",
      " 48  secondary_cleaner.state.floatbank5_a_level  5290 non-null   float64       \n",
      " 49  secondary_cleaner.state.floatbank5_b_air    5290 non-null   float64       \n",
      " 50  secondary_cleaner.state.floatbank5_b_level  5290 non-null   float64       \n",
      " 51  secondary_cleaner.state.floatbank6_a_air    5290 non-null   float64       \n",
      " 52  secondary_cleaner.state.floatbank6_a_level  5290 non-null   float64       \n",
      " 53  final.output.recovery                       5290 non-null   float64       \n",
      " 54  rougher.output.recovery                     5290 non-null   float64       \n",
      "dtypes: datetime64[ns](1), float64(54)\n",
      "memory usage: 2.2 MB\n",
      "None\n"
     ]
    }
   ],
   "source": [
    "print(train_model.info())\n",
    "print(test.info())"
   ]
  },
  {
   "cell_type": "markdown",
   "metadata": {},
   "source": [
    "### Conclusion"
   ]
  },
  {
   "cell_type": "markdown",
   "metadata": {},
   "source": [
    "As part of the first step, the initial data were studied. The target indicator in the training set was calculated correctly - and it was also added from the original dataset to the test set. During preprocessing, the gaps were filled with column averages, the date was presented in datetime format, and a training subsample *train_model* was created to create models, including exactly the same indicators as the test sample."
   ]
  },
  {
   "cell_type": "markdown",
   "metadata": {},
   "source": [
    "## Step 2. Data analysis"
   ]
  },
  {
   "cell_type": "markdown",
   "metadata": {},
   "source": [
    "To begin with, let's build graphs for the concentration of metals at different stages of purification of raw materials."
   ]
  },
  {
   "cell_type": "code",
   "execution_count": 12,
   "metadata": {},
   "outputs": [
    {
     "data": {
      "image/png": "[encoded data removed]",
      "text/plain": [
       "<Figure size 576x432 with 1 Axes>"
      ]
     },
     "metadata": {
      "needs_background": "light"
     },
     "output_type": "display_data"
    },
    {
     "data": {
      "image/png": "[encoded data removed]",
      "text/plain": [
       "<Figure size 576x432 with 1 Axes>"
      ]
     },
     "metadata": {
      "needs_background": "light"
     },
     "output_type": "display_data"
    },
    {
     "data": {
      "image/png": "[encoded data removed]",
      "text/plain": [
       "<Figure size 576x432 with 1 Axes>"
      ]
     },
     "metadata": {
      "needs_background": "light"
     },
     "output_type": "display_data"
    }
   ],
   "source": [
    "# График концентрации золота\n",
    "train[['rougher.input.feed_au', 'rougher.output.concentrate_au',\n",
    "'primary_cleaner.output.concentrate_au', 'final.output.concentrate_au']].mean().plot(figsize = (8,6), kind='bar', colormap='cool',\n",
    "                   title = 'Dynamics of gold concentration at different purification phases')\n",
    "plt.xlabel('Refining stage: feedstock, flotation, first refining stage, final concentrate')\n",
    "plt.ylabel('Gold concentration, percent')\n",
    "plt.show()\n",
    "\n",
    "# График концентрации серебра\n",
    "train[['rougher.input.feed_ag', 'rougher.output.concentrate_ag',\n",
    "'primary_cleaner.output.concentrate_ag', 'final.output.concentrate_ag']].mean().plot(figsize = (8,6), kind='bar', colormap='cool',\n",
    "                   title = 'Dynamics of silver concentration at different purification phases')\n",
    "plt.xlabel('Refining stage: feedstock, flotation, first refining stage, final concentrate')\n",
    "plt.ylabel('Silver concentration, percent')\n",
    "plt.show()\n",
    "\n",
    "# График концентрации свинца\n",
    "train[['rougher.input.feed_pb', 'rougher.output.concentrate_pb',\n",
    "'primary_cleaner.output.concentrate_pb', 'final.output.concentrate_pb']].mean().plot(figsize = (8,6), kind='bar', colormap='cool',\n",
    "                   title = 'Dynamics of lead concentration at different purification phases')\n",
    "plt.xlabel('Refining stage: feedstock, flotation, first refining stage, final concentrate')\n",
    "plt.ylabel('Lead concentration, percent')\n",
    "plt.show()"
   ]
  },
  {
   "cell_type": "markdown",
   "metadata": {},
   "source": [
    "Based on the graphical analysis, it can be seen that lead and gold are purified qualitatively and within the framework of the technological process - the concentration of the pure substance is systematically growing from phase to phase.  \n",
    "However, the process is not as efficient with silver (maybe there is some kind of process failure), because after flotation its concentration reaches its maximum, and then it only decreases. Although, in general, the goal od refining is only getting the gold, so both silver and lead can be considered as some kind of by-products."
   ]
  },
  {
   "cell_type": "markdown",
   "metadata": {},
   "source": [
    "Now let's look at the size distribution of raw materials - at the initial stage and after flotation. We will consider the distributions in each phase for the test and training samples together to see if they are similar."
   ]
  },
  {
   "cell_type": "code",
   "execution_count": 13,
   "metadata": {},
   "outputs": [
    {
     "data": {
      "image/png": "[encoded data removed]",
      "text/plain": [
       "<Figure size 360x360 with 1 Axes>"
      ]
     },
     "metadata": {
      "needs_background": "light"
     },
     "output_type": "display_data"
    },
    {
     "data": {
      "image/png": "[encoded data removed]",
      "text/plain": [
       "<Figure size 360x360 with 1 Axes>"
      ]
     },
     "metadata": {
      "needs_background": "light"
     },
     "output_type": "display_data"
    }
   ],
   "source": [
    "sns.displot(train['rougher.input.feed_size'], bins=60, kde=True)\n",
    "plt.title('Feedstock granule size distribution - training sample')\n",
    "plt.xlabel('Granule size')\n",
    "plt.ylabel('Number of values')\n",
    "plt.show()\n",
    "\n",
    "sns.displot(test['rougher.input.feed_size'], bins=60, kde=True)\n",
    "plt.title('Feedstock granule size distribution - test sample')\n",
    "plt.xlabel('Granule size')\n",
    "plt.ylabel('Number of values')\n",
    "plt.show()"
   ]
  },
  {
   "cell_type": "code",
   "execution_count": 14,
   "metadata": {},
   "outputs": [
    {
     "data": {
      "image/png": "[encoded data removed]",
      "text/plain": [
       "<Figure size 360x360 with 1 Axes>"
      ]
     },
     "metadata": {
      "needs_background": "light"
     },
     "output_type": "display_data"
    },
    {
     "data": {
      "image/png": "[encoded data removed]",
      "text/plain": [
       "<Figure size 360x360 with 1 Axes>"
      ]
     },
     "metadata": {
      "needs_background": "light"
     },
     "output_type": "display_data"
    }
   ],
   "source": [
    "sns.displot(train['primary_cleaner.input.feed_size'], bins=30, kde=True)\n",
    "plt.title('Grain size distribution of raw materials after flotation - training sample')\n",
    "plt.xlabel('Granule size')\n",
    "plt.ylabel('Number of values')\n",
    "plt.show()\n",
    "\n",
    "sns.displot(test['primary_cleaner.input.feed_size'], bins=30, kde=True)\n",
    "plt.title('Grain size distribution of raw materials after flotation - test sample')\n",
    "plt.xlabel('Granule size')\n",
    "plt.ylabel('Number of values')\n",
    "plt.show()"
   ]
  },
  {
   "cell_type": "markdown",
   "metadata": {},
   "source": [
    "So, with regard to the size of the raw material granules, the distributions during training and testing are almost identical - with a very long right tail and values close to each other. As for the distributions after flotation, they have a slight difference - the feedstock shows a long left tail, and the feedstock after flotation shows a right one.     \n",
    "\n",
    "However, this difference can be neglected (it is clearly due to the mechanics of the flotation process through which the granules passed), because the bulk of the values is distributed very close to the normal distribution and are in the same range, from 6 to 10 conventional size units."
   ]
  },
  {
   "cell_type": "markdown",
   "metadata": {},
   "source": [
    "Finally, we turn to the total concentration of all substances in the raw material, the product after flotation and the final product. To do this, we sum up the concentration of metals and substance *sol* at each of these stages, and then plot a graph for all three stages."
   ]
  },
  {
   "cell_type": "code",
   "execution_count": 15,
   "metadata": {},
   "outputs": [
    {
     "name": "stderr",
     "output_type": "stream",
     "text": [
      "/tmp/ipykernel_114/2206289745.py:1: SettingWithCopyWarning: \n",
      "A value is trying to be set on a copy of a slice from a DataFrame.\n",
      "Try using .loc[row_indexer,col_indexer] = value instead\n",
      "\n",
      "See the caveats in the documentation: https://pandas.pydata.org/pandas-docs/stable/user_guide/indexing.html#returning-a-view-versus-a-copy\n",
      "  train_model['rougher.input.feed_total.calculation'] = (train['rougher.input.feed_ag'] +\n",
      "/tmp/ipykernel_114/2206289745.py:5: SettingWithCopyWarning: \n",
      "A value is trying to be set on a copy of a slice from a DataFrame.\n",
      "Try using .loc[row_indexer,col_indexer] = value instead\n",
      "\n",
      "See the caveats in the documentation: https://pandas.pydata.org/pandas-docs/stable/user_guide/indexing.html#returning-a-view-versus-a-copy\n",
      "  train_model['rougher.output.concentrate_total.calculation'] = (train['rougher.output.concentrate_ag'] +\n",
      "/tmp/ipykernel_114/2206289745.py:9: SettingWithCopyWarning: \n",
      "A value is trying to be set on a copy of a slice from a DataFrame.\n",
      "Try using .loc[row_indexer,col_indexer] = value instead\n",
      "\n",
      "See the caveats in the documentation: https://pandas.pydata.org/pandas-docs/stable/user_guide/indexing.html#returning-a-view-versus-a-copy\n",
      "  train_model['final.output.concentrate_total.calculation'] = (train['final.output.concentrate_ag'] +\n"
     ]
    }
   ],
   "source": [
    "train_model['rougher.input.feed_total.calculation'] = (train['rougher.input.feed_ag'] +\n",
    "                                                    train['rougher.input.feed_au'] + \n",
    "                                                    train['rougher.input.feed_pb'] +\n",
    "                                                    train['rougher.input.feed_sol'])\n",
    "train_model['rougher.output.concentrate_total.calculation'] = (train['rougher.output.concentrate_ag'] +\n",
    "                                                    train['rougher.output.concentrate_au'] + \n",
    "                                                    train['rougher.output.concentrate_pb'] +\n",
    "                                                    train['rougher.output.concentrate_sol'])\n",
    "train_model['final.output.concentrate_total.calculation'] = (train['final.output.concentrate_ag'] +\n",
    "                                                    train['final.output.concentrate_au'] + \n",
    "                                                    train['final.output.concentrate_pb'] +\n",
    "                                                    train['final.output.concentrate_sol'])"
   ]
  },
  {
   "cell_type": "code",
   "execution_count": 16,
   "metadata": {},
   "outputs": [
    {
     "data": {
      "image/png": "[encoded data removed]",
      "text/plain": [
       "<Figure size 1008x576 with 1 Axes>"
      ]
     },
     "metadata": {},
     "output_type": "display_data"
    }
   ],
   "source": [
    "sns.set_theme(style=\"ticks\")\n",
    "f, ax = plt.subplots(figsize=(14, 8))\n",
    "sns.histplot(train_model[['rougher.input.feed_total.calculation',\n",
    "                    'rougher.output.concentrate_total.calculation',\n",
    "                   'final.output.concentrate_total.calculation']], palette=\"light:m_r\",\n",
    "             edgecolor=\".1\")\n",
    "plt.title('Dynamics of the joint concentration of substances in different purification phases')\n",
    "plt.xlabel('Joint concentration')\n",
    "plt.ylabel('Numebr of values')\n",
    "plt.show()"
   ]
  },
  {
   "cell_type": "markdown",
   "metadata": {},
   "source": [
    "### Conclusion 1"
   ]
  },
  {
   "cell_type": "markdown",
   "metadata": {},
   "source": [
    "During the analysis of the data, it was found that the concentration of the pure substance increases as desired in the case of lead and gold, but decreases after flotation for silver. The size distributions of raw material granules in the test and training samples are very similar, that is, these samples are comparable and suitable for further analysis.   \n",
    "Finally, the total concentration of substances in the product is distributed within the framework of logical expectations: the lowest values are evident in the feedstock (under 60%), after flotation the values increase significantly (about 70%), and in the final product the average value is approximately the same, but significantly decreases the number of outliers - that is, many more values in the sample are equal to this average than after flotation. Accordingly, the overall process seems to be working quite efficiently, despite the variance in silver. "
   ]
  },
  {
   "cell_type": "markdown",
   "metadata": {},
   "source": [
    "However, as is obvious from the last graph, there are certain anomalies in the data - and those are the lines where the joint concentration is equal to zero. That is, of course, some components can be absent, but when the sum of everything is zero, it is most probably an anomaly - and should be deleted."
   ]
  },
  {
   "cell_type": "code",
   "execution_count": 17,
   "metadata": {},
   "outputs": [],
   "source": [
    "train_model = train_model[(train_model['rougher.input.feed_total.calculation'] != 0)]\n",
    "train_model = train_model[(train_model['rougher.output.concentrate_total.calculation'] != 0)]\n",
    "train_model = train_model[(train_model['final.output.concentrate_total.calculation'] != 0)]"
   ]
  },
  {
   "cell_type": "markdown",
   "metadata": {},
   "source": [
    "To check whether the anomalous data was removed in the final sample, we will display the graph again."
   ]
  },
  {
   "cell_type": "code",
   "execution_count": 18,
   "metadata": {},
   "outputs": [
    {
     "data": {
      "image/png": "[encoded data removed]",
      "text/plain": [
       "<Figure size 1008x576 with 1 Axes>"
      ]
     },
     "metadata": {},
     "output_type": "display_data"
    }
   ],
   "source": [
    "sns.set_theme(style=\"ticks\")\n",
    "f, ax = plt.subplots(figsize=(14, 8))\n",
    "sns.histplot(train_model[['rougher.input.feed_total.calculation',\n",
    "                    'rougher.output.concentrate_total.calculation',\n",
    "                   'final.output.concentrate_total.calculation']], palette=\"pastel\",\n",
    "             edgecolor=\".1\")\n",
    "plt.title('Dynamics of the joint concentration of substances in different purification phases - after removal of anomalies')\n",
    "plt.xlabel('Joint concentration')\n",
    "plt.ylabel('Number of values')\n",
    "plt.show()"
   ]
  },
  {
   "cell_type": "markdown",
   "metadata": {},
   "source": [
    "Finally, in order not to disturb the balance of the test and training samples, we remove the calculated columns."
   ]
  },
  {
   "cell_type": "code",
   "execution_count": 19,
   "metadata": {},
   "outputs": [
    {
     "name": "stdout",
     "output_type": "stream",
     "text": [
      "<class 'pandas.core.frame.DataFrame'>\n",
      "Int64Index: 13795 entries, 0 to 14148\n",
      "Data columns (total 55 columns):\n",
      " #   Column                                      Non-Null Count  Dtype         \n",
      "---  ------                                      --------------  -----         \n",
      " 0   date                                        13795 non-null  datetime64[ns]\n",
      " 1   primary_cleaner.input.sulfate               13795 non-null  float64       \n",
      " 2   primary_cleaner.input.depressant            13795 non-null  float64       \n",
      " 3   primary_cleaner.input.feed_size             13795 non-null  float64       \n",
      " 4   primary_cleaner.input.xanthate              13795 non-null  float64       \n",
      " 5   primary_cleaner.state.floatbank8_a_air      13795 non-null  float64       \n",
      " 6   primary_cleaner.state.floatbank8_a_level    13795 non-null  float64       \n",
      " 7   primary_cleaner.state.floatbank8_b_air      13795 non-null  float64       \n",
      " 8   primary_cleaner.state.floatbank8_b_level    13795 non-null  float64       \n",
      " 9   primary_cleaner.state.floatbank8_c_air      13795 non-null  float64       \n",
      " 10  primary_cleaner.state.floatbank8_c_level    13795 non-null  float64       \n",
      " 11  primary_cleaner.state.floatbank8_d_air      13795 non-null  float64       \n",
      " 12  primary_cleaner.state.floatbank8_d_level    13795 non-null  float64       \n",
      " 13  rougher.input.feed_ag                       13795 non-null  float64       \n",
      " 14  rougher.input.feed_pb                       13795 non-null  float64       \n",
      " 15  rougher.input.feed_rate                     13795 non-null  float64       \n",
      " 16  rougher.input.feed_size                     13795 non-null  float64       \n",
      " 17  rougher.input.feed_sol                      13795 non-null  float64       \n",
      " 18  rougher.input.feed_au                       13795 non-null  float64       \n",
      " 19  rougher.input.floatbank10_sulfate           13795 non-null  float64       \n",
      " 20  rougher.input.floatbank10_xanthate          13795 non-null  float64       \n",
      " 21  rougher.input.floatbank11_sulfate           13795 non-null  float64       \n",
      " 22  rougher.input.floatbank11_xanthate          13795 non-null  float64       \n",
      " 23  rougher.state.floatbank10_a_air             13795 non-null  float64       \n",
      " 24  rougher.state.floatbank10_a_level           13795 non-null  float64       \n",
      " 25  rougher.state.floatbank10_b_air             13795 non-null  float64       \n",
      " 26  rougher.state.floatbank10_b_level           13795 non-null  float64       \n",
      " 27  rougher.state.floatbank10_c_air             13795 non-null  float64       \n",
      " 28  rougher.state.floatbank10_c_level           13795 non-null  float64       \n",
      " 29  rougher.state.floatbank10_d_air             13795 non-null  float64       \n",
      " 30  rougher.state.floatbank10_d_level           13795 non-null  float64       \n",
      " 31  rougher.state.floatbank10_e_air             13795 non-null  float64       \n",
      " 32  rougher.state.floatbank10_e_level           13795 non-null  float64       \n",
      " 33  rougher.state.floatbank10_f_air             13795 non-null  float64       \n",
      " 34  rougher.state.floatbank10_f_level           13795 non-null  float64       \n",
      " 35  secondary_cleaner.state.floatbank2_a_air    13795 non-null  float64       \n",
      " 36  secondary_cleaner.state.floatbank2_a_level  13795 non-null  float64       \n",
      " 37  secondary_cleaner.state.floatbank2_b_air    13795 non-null  float64       \n",
      " 38  secondary_cleaner.state.floatbank2_b_level  13795 non-null  float64       \n",
      " 39  secondary_cleaner.state.floatbank3_a_air    13795 non-null  float64       \n",
      " 40  secondary_cleaner.state.floatbank3_a_level  13795 non-null  float64       \n",
      " 41  secondary_cleaner.state.floatbank3_b_air    13795 non-null  float64       \n",
      " 42  secondary_cleaner.state.floatbank3_b_level  13795 non-null  float64       \n",
      " 43  secondary_cleaner.state.floatbank4_a_air    13795 non-null  float64       \n",
      " 44  secondary_cleaner.state.floatbank4_a_level  13795 non-null  float64       \n",
      " 45  secondary_cleaner.state.floatbank4_b_air    13795 non-null  float64       \n",
      " 46  secondary_cleaner.state.floatbank4_b_level  13795 non-null  float64       \n",
      " 47  secondary_cleaner.state.floatbank5_a_air    13795 non-null  float64       \n",
      " 48  secondary_cleaner.state.floatbank5_a_level  13795 non-null  float64       \n",
      " 49  secondary_cleaner.state.floatbank5_b_air    13795 non-null  float64       \n",
      " 50  secondary_cleaner.state.floatbank5_b_level  13795 non-null  float64       \n",
      " 51  secondary_cleaner.state.floatbank6_a_air    13795 non-null  float64       \n",
      " 52  secondary_cleaner.state.floatbank6_a_level  13795 non-null  float64       \n",
      " 53  final.output.recovery                       13795 non-null  float64       \n",
      " 54  rougher.output.recovery                     13795 non-null  float64       \n",
      "dtypes: datetime64[ns](1), float64(54)\n",
      "memory usage: 5.9 MB\n"
     ]
    }
   ],
   "source": [
    "train_model.drop(['rougher.input.feed_total.calculation'], axis=1, inplace=True)\n",
    "train_model.drop(['rougher.output.concentrate_total.calculation'], axis=1, inplace=True)\n",
    "train_model.drop(['final.output.concentrate_total.calculation'], axis=1, inplace=True)\n",
    "train_model.info()"
   ]
  },
  {
   "cell_type": "markdown",
   "metadata": {},
   "source": [
    "### Conclusion 2"
   ]
  },
  {
   "cell_type": "markdown",
   "metadata": {},
   "source": [
    "The anomalies seen in the graphical analysis - zero values of the concentration of substances, that is, absolutely \"empty\" ore - have been removed, and the final sample now reflects adequate and suitable data for the study."
   ]
  },
  {
   "cell_type": "markdown",
   "metadata": {},
   "source": [
    "## Step 3. Models"
   ]
  },
  {
   "cell_type": "markdown",
   "metadata": {},
   "source": [
    "Let's write a function that will calculate the sMAPE metric."
   ]
  },
  {
   "cell_type": "code",
   "execution_count": 20,
   "metadata": {},
   "outputs": [],
   "source": [
    "def smape(actual, forecast):\n",
    "    return 1/len(actual) * np.sum(2 * np.abs(forecast-actual) / (np.abs(actual) + np.abs(forecast))*100)"
   ]
  },
  {
   "cell_type": "markdown",
   "metadata": {},
   "source": [
    "Then we divide our samples into the target and studied features. We will get two groups - *rougher* after flotation and *final* for the final product. For those under study, we will take everything except the target one, and also remove the date, because according to the format it will not work in regression."
   ]
  },
  {
   "cell_type": "code",
   "execution_count": 21,
   "metadata": {},
   "outputs": [],
   "source": [
    "# studied features\n",
    "features_train_rougher = train_model.drop(['rougher.output.recovery'], axis=1).drop(['date'], axis=1)\n",
    "features_train_final = train_model.drop(['final.output.recovery'], axis=1).drop(['date'], axis=1)\n",
    "features_test_rougher = test.drop(['rougher.output.recovery'], axis=1).drop(['date'], axis=1)\n",
    "features_test_final = test.drop(['final.output.recovery'], axis=1).drop(['date'], axis=1)\n",
    "\n",
    "# target\n",
    "target_train_rougher = train_model['rougher.output.recovery']\n",
    "target_train_final = train_model['final.output.recovery']\n",
    "target_test_rougher = test['rougher.output.recovery']\n",
    "target_test_final = test['final.output.recovery']"
   ]
  },
  {
   "cell_type": "markdown",
   "metadata": {},
   "source": [
    "As for the models, we will consider two of them - *Random Forest Regressor* and *Cat Boost Regressor*, and to compare the models, we will run the optuna package. Inside, we will apply a function to it that enumerates the parameters and evaluates the models precisely by sMAPE. We will make a selection in two stages, separately for the rough and final concentrate."
   ]
  },
  {
   "cell_type": "code",
   "execution_count": 22,
   "metadata": {},
   "outputs": [
    {
     "data": {
      "text/plain": [
       "((13795, 53), (5290, 53))"
      ]
     },
     "execution_count": 22,
     "metadata": {},
     "output_type": "execute_result"
    }
   ],
   "source": [
    "features_train_rougher.shape, features_test_rougher.shape"
   ]
  },
  {
   "cell_type": "markdown",
   "metadata": {},
   "source": [
    "### 1. Efficiency of crude concentrate enrichment"
   ]
  },
  {
   "cell_type": "markdown",
   "metadata": {},
   "source": [
    "Let's start with the Cat Boost regression. Let's create an evaluation function. Here and below, *random state* or *randomm seed* is always set to 123."
   ]
  },
  {
   "cell_type": "code",
   "execution_count": 23,
   "metadata": {},
   "outputs": [],
   "source": [
    "def objective_cat(trial):\n",
    "    param = {\n",
    "        'iterations': trial.suggest_categorical('iterations', [300, 500, 800]), \n",
    "        'verbose': 0,\n",
    "        'random_seed': 123,\n",
    "        'l2_leaf_reg': trial.suggest_float('l2_leaf_reg', 1, 7),\n",
    "        'learning_rate': trial.suggest_categorical('learning_rate', [0.01, 0.05, 0.1, 0.2, 0.3]),\n",
    "        'max_depth': trial.suggest_categorical('max_depth', [2, 3, 4, 5, 6, 7, 8, 9, 10])\n",
    "    }\n",
    "    model = CatBoostRegressor(**param)  \n",
    "    # inserting the studied parameters of the rough concentrate\n",
    "    model.fit(features_train_rougher, target_train_rougher)\n",
    "    # predicting\n",
    "    preds = model.predict(features_test_rougher)\n",
    "    # finally applying the sMAPE function\n",
    "    acc = smape(target_test_rougher, preds)\n",
    "    return acc"
   ]
  },
  {
   "cell_type": "markdown",
   "metadata": {},
   "source": [
    "Then we will start the study itself - while setting the *direction* parameter to the minimum value (minimize), i.e. The metric measures errors, and errors should be minimal."
   ]
  },
  {
   "cell_type": "code",
   "execution_count": 24,
   "metadata": {},
   "outputs": [
    {
     "name": "stderr",
     "output_type": "stream",
     "text": [
      "\u001b[32m[I 2022-03-21 08:50:27,010]\u001b[0m A new study created in memory with name: no-name-2cc20fcc-4b01-4df2-932b-a062ba360de9\u001b[0m\n",
      "\u001b[32m[I 2022-03-21 08:50:43,302]\u001b[0m Trial 0 finished with value: 7.111406375625611 and parameters: {'iterations': 300, 'l2_leaf_reg': 4.307888614497347, 'learning_rate': 0.1, 'max_depth': 8}. Best is trial 0 with value: 7.111406375625611.\u001b[0m\n",
      "\u001b[32m[I 2022-03-21 08:50:51,273]\u001b[0m Trial 1 finished with value: 7.218574635137494 and parameters: {'iterations': 800, 'l2_leaf_reg': 6.096590764466738, 'learning_rate': 0.01, 'max_depth': 4}. Best is trial 0 with value: 7.111406375625611.\u001b[0m\n",
      "\u001b[32m[I 2022-03-21 08:50:58,614]\u001b[0m Trial 2 finished with value: 7.154128748966739 and parameters: {'iterations': 800, 'l2_leaf_reg': 4.01102005530602, 'learning_rate': 0.3, 'max_depth': 4}. Best is trial 0 with value: 7.111406375625611.\u001b[0m\n",
      "\u001b[32m[I 2022-03-21 08:52:43,106]\u001b[0m Trial 3 finished with value: 7.237713290772308 and parameters: {'iterations': 800, 'l2_leaf_reg': 5.08780459475678, 'learning_rate': 0.01, 'max_depth': 10}. Best is trial 0 with value: 7.111406375625611.\u001b[0m\n",
      "\u001b[32m[I 2022-03-21 08:52:49,515]\u001b[0m Trial 4 finished with value: 7.409704384910903 and parameters: {'iterations': 500, 'l2_leaf_reg': 4.566591276670255, 'learning_rate': 0.2, 'max_depth': 5}. Best is trial 0 with value: 7.111406375625611.\u001b[0m\n"
     ]
    }
   ],
   "source": [
    "# creating optuna study\n",
    "study_cat = optuna.create_study(direction='minimize', sampler=optuna.samplers.TPESampler(seed=123))\n",
    "\n",
    "# Let's build a model with random parameters 5 times (this is due to processing power \n",
    "# limitations, ideally 100-200 repetitions could be run)\n",
    "study_cat.optimize(objective_cat, n_trials=5)"
   ]
  },
  {
   "cell_type": "markdown",
   "metadata": {},
   "source": [
    "Let's look at the number of ratings, the maximum value of the sMAPE metric, and the parameters of the best Cat Boost model."
   ]
  },
  {
   "cell_type": "code",
   "execution_count": 25,
   "metadata": {},
   "outputs": [
    {
     "name": "stdout",
     "output_type": "stream",
     "text": [
      "Number of assessments completed: 5\n",
      "Cat boost parameters obtained at best estimate:\n"
     ]
    },
    {
     "data": {
      "text/html": [
       "<div>\n",
       "<style scoped>\n",
       "    .dataframe tbody tr th:only-of-type {\n",
       "        vertical-align: middle;\n",
       "    }\n",
       "\n",
       "    .dataframe tbody tr th {\n",
       "        vertical-align: top;\n",
       "    }\n",
       "\n",
       "    .dataframe thead th {\n",
       "        text-align: right;\n",
       "    }\n",
       "</style>\n",
       "<table border=\"1\" class=\"dataframe\">\n",
       "  <thead>\n",
       "    <tr style=\"text-align: right;\">\n",
       "      <th></th>\n",
       "      <th>sMAPE</th>\n",
       "      <th>params_iterations</th>\n",
       "      <th>params_l2_leaf_reg</th>\n",
       "      <th>params_learning_rate</th>\n",
       "      <th>params_max_depth</th>\n",
       "    </tr>\n",
       "  </thead>\n",
       "  <tbody>\n",
       "    <tr>\n",
       "      <th>0</th>\n",
       "      <td>7.409704</td>\n",
       "      <td>500</td>\n",
       "      <td>4.566591</td>\n",
       "      <td>0.2</td>\n",
       "      <td>5</td>\n",
       "    </tr>\n",
       "  </tbody>\n",
       "</table>\n",
       "</div>"
      ],
      "text/plain": [
       "      sMAPE  params_iterations  params_l2_leaf_reg  params_learning_rate  \\\n",
       "0  7.409704                500            4.566591                   0.2   \n",
       "\n",
       "   params_max_depth  \n",
       "0                 5  "
      ]
     },
     "execution_count": 25,
     "metadata": {},
     "output_type": "execute_result"
    }
   ],
   "source": [
    "print('Number of assessments completed:', len(study_cat.trials))\n",
    "print('Cat boost parameters obtained at best estimate:')\n",
    "cat_study = study_cat.trials_dataframe()\n",
    "best_accuracy_cat = (\n",
    "    cat_study.sort_values(by='value', ascending=False).reset_index(drop=True)[['value',\n",
    "                                                                               'params_iterations',\n",
    "                                                                               'params_l2_leaf_reg',\n",
    "                                                                                'params_learning_rate', \n",
    "                                                                               'params_max_depth']]\n",
    ")\n",
    "best_accuracy_cat_rougher = best_accuracy_cat.rename(columns={'value': 'sMAPE'}).iloc[[0], :]\n",
    "best_accuracy_cat_rougher"
   ]
  },
  {
   "cell_type": "code",
   "execution_count": 26,
   "metadata": {},
   "outputs": [
    {
     "name": "stdout",
     "output_type": "stream",
     "text": [
      "sMAPE of the best cat boost regression parameters found by optuna: 7.409704384910903\n"
     ]
    }
   ],
   "source": [
    "print('sMAPE of the best cat boost regression parameters found by optuna:', best_accuracy_cat_rougher['sMAPE'][0])"
   ]
  },
  {
   "cell_type": "markdown",
   "metadata": {},
   "source": [
    "Now let's run the study again, but with the Random Forest model. We will also write a function to iterate over different parameters, but let's take another regressor - a random forest."
   ]
  },
  {
   "cell_type": "code",
   "execution_count": 27,
   "metadata": {},
   "outputs": [],
   "source": [
    "def objective_forest(trial):\n",
    "    param = {\n",
    "        'n_estimators': trial.suggest_int('n_estimators', 50, 200), \n",
    "        'random_state': 123,\n",
    "        'min_samples_leaf': trial.suggest_int('min_samples_leaf', 1, 10),\n",
    "        'max_depth': trial.suggest_categorical('max_depth', [5, 10, 20, 30]),\n",
    "        'min_samples_split' : trial.suggest_int('min_samples_split', 2, 15),\n",
    "        'max_features' : trial.suggest_categorical('max_features', ['auto', 'sqrt', 'log2'])\n",
    "        }\n",
    "    model = RandomForestRegressor(**param)  \n",
    "    # parameter setting\n",
    "    model.fit(features_train_rougher, target_train_rougher)\n",
    "    # predicting\n",
    "    preds = model.predict(features_test_rougher)\n",
    "    # obtaining the sMAPE\n",
    "    acc = smape(target_test_rougher, preds)\n",
    "    return acc"
   ]
  },
  {
   "cell_type": "markdown",
   "metadata": {},
   "source": [
    "Running optuna, still minimized:"
   ]
  },
  {
   "cell_type": "code",
   "execution_count": 28,
   "metadata": {},
   "outputs": [
    {
     "name": "stderr",
     "output_type": "stream",
     "text": [
      "\u001b[32m[I 2022-03-21 08:52:49,551]\u001b[0m A new study created in memory with name: no-name-a486b24a-d4b7-4bdc-a2bd-1d402807ab1e\u001b[0m\n",
      "\u001b[32m[I 2022-03-21 08:54:01,213]\u001b[0m Trial 0 finished with value: 7.330044635204881 and parameters: {'n_estimators': 155, 'min_samples_leaf': 3, 'max_depth': 20, 'min_samples_split': 15, 'max_features': 'auto'}. Best is trial 0 with value: 7.330044635204881.\u001b[0m\n",
      "\u001b[32m[I 2022-03-21 08:54:05,879]\u001b[0m Trial 1 finished with value: 7.913816598449044 and parameters: {'n_estimators': 101, 'min_samples_leaf': 8, 'max_depth': 30, 'min_samples_split': 4, 'max_features': 'log2'}. Best is trial 0 with value: 7.330044635204881.\u001b[0m\n",
      "\u001b[32m[I 2022-03-21 08:54:09,076]\u001b[0m Trial 2 finished with value: 8.071433603490213 and parameters: {'n_estimators': 145, 'min_samples_leaf': 9, 'max_depth': 5, 'min_samples_split': 7, 'max_features': 'log2'}. Best is trial 0 with value: 7.330044635204881.\u001b[0m\n",
      "\u001b[32m[I 2022-03-21 08:54:12,131]\u001b[0m Trial 3 finished with value: 7.761360138202686 and parameters: {'n_estimators': 63, 'min_samples_leaf': 5, 'max_depth': 10, 'min_samples_split': 7, 'max_features': 'sqrt'}. Best is trial 0 with value: 7.330044635204881.\u001b[0m\n",
      "\u001b[32m[I 2022-03-21 08:55:21,616]\u001b[0m Trial 4 finished with value: 7.348648193906897 and parameters: {'n_estimators': 144, 'min_samples_leaf': 2, 'max_depth': 20, 'min_samples_split': 8, 'max_features': 'auto'}. Best is trial 0 with value: 7.330044635204881.\u001b[0m\n"
     ]
    }
   ],
   "source": [
    "study_forest = optuna.create_study(direction='minimize', sampler=optuna.samplers.TPESampler(seed=123))\n",
    "study_forest.optimize(objective_forest, n_trials=5)"
   ]
  },
  {
   "cell_type": "markdown",
   "metadata": {},
   "source": [
    "Let's look at the output - parameters and sMAPE."
   ]
  },
  {
   "cell_type": "code",
   "execution_count": 29,
   "metadata": {},
   "outputs": [
    {
     "name": "stdout",
     "output_type": "stream",
     "text": [
      "Number of assessments completed: 5\n",
      "Random forest parameters obtained with the best estimate:\n"
     ]
    },
    {
     "data": {
      "text/html": [
       "<div>\n",
       "<style scoped>\n",
       "    .dataframe tbody tr th:only-of-type {\n",
       "        vertical-align: middle;\n",
       "    }\n",
       "\n",
       "    .dataframe tbody tr th {\n",
       "        vertical-align: top;\n",
       "    }\n",
       "\n",
       "    .dataframe thead th {\n",
       "        text-align: right;\n",
       "    }\n",
       "</style>\n",
       "<table border=\"1\" class=\"dataframe\">\n",
       "  <thead>\n",
       "    <tr style=\"text-align: right;\">\n",
       "      <th></th>\n",
       "      <th>sMAPE</th>\n",
       "      <th>params_n_estimators</th>\n",
       "      <th>params_min_samples_leaf</th>\n",
       "      <th>params_max_depth</th>\n",
       "      <th>params_min_samples_split</th>\n",
       "      <th>params_max_features</th>\n",
       "    </tr>\n",
       "  </thead>\n",
       "  <tbody>\n",
       "    <tr>\n",
       "      <th>0</th>\n",
       "      <td>8.071434</td>\n",
       "      <td>145</td>\n",
       "      <td>9</td>\n",
       "      <td>5</td>\n",
       "      <td>7</td>\n",
       "      <td>log2</td>\n",
       "    </tr>\n",
       "  </tbody>\n",
       "</table>\n",
       "</div>"
      ],
      "text/plain": [
       "      sMAPE  params_n_estimators  params_min_samples_leaf  params_max_depth  \\\n",
       "0  8.071434                  145                        9                 5   \n",
       "\n",
       "   params_min_samples_split params_max_features  \n",
       "0                         7                log2  "
      ]
     },
     "execution_count": 29,
     "metadata": {},
     "output_type": "execute_result"
    }
   ],
   "source": [
    "print('Number of assessments completed:', len(study_forest.trials))\n",
    "print('Random forest parameters obtained with the best estimate:')\n",
    "forest_study = study_forest.trials_dataframe()\n",
    "best_accuracy_forest = (\n",
    "    forest_study.sort_values(by='value', ascending=False).reset_index(drop=True)[['value', \n",
    "                                                                                'params_n_estimators', \n",
    "                                                                               'params_min_samples_leaf',\n",
    "                                                                               'params_max_depth',\n",
    "                                                                               'params_min_samples_split',\n",
    "                                                                               'params_max_features']]\n",
    ")\n",
    "best_accuracy_forest_rougher = best_accuracy_forest.rename(columns={'value': 'sMAPE'}).iloc[[0], :]\n",
    "best_accuracy_forest_rougher"
   ]
  },
  {
   "cell_type": "code",
   "execution_count": 30,
   "metadata": {},
   "outputs": [
    {
     "name": "stdout",
     "output_type": "stream",
     "text": [
      "sMAPE of the best parameters found by optuna for random forest: 8.071433603490213\n"
     ]
    }
   ],
   "source": [
    "print('sMAPE of the best parameters found by optuna for random forest:', best_accuracy_forest_rougher['sMAPE'][0])"
   ]
  },
  {
   "cell_type": "markdown",
   "metadata": {},
   "source": [
    "#### Model comparison"
   ]
  },
  {
   "cell_type": "markdown",
   "metadata": {},
   "source": [
    "Now let's compare the obtained models by the sMAPE metric - display them in a table and graphically."
   ]
  },
  {
   "cell_type": "code",
   "execution_count": 31,
   "metadata": {},
   "outputs": [
    {
     "data": {
      "text/html": [
       "<div>\n",
       "<style scoped>\n",
       "    .dataframe tbody tr th:only-of-type {\n",
       "        vertical-align: middle;\n",
       "    }\n",
       "\n",
       "    .dataframe tbody tr th {\n",
       "        vertical-align: top;\n",
       "    }\n",
       "\n",
       "    .dataframe thead th {\n",
       "        text-align: right;\n",
       "    }\n",
       "</style>\n",
       "<table border=\"1\" class=\"dataframe\">\n",
       "  <thead>\n",
       "    <tr style=\"text-align: right;\">\n",
       "      <th></th>\n",
       "      <th>sMAPE</th>\n",
       "    </tr>\n",
       "  </thead>\n",
       "  <tbody>\n",
       "    <tr>\n",
       "      <th>RandomForest_Optuna</th>\n",
       "      <td>8.071</td>\n",
       "    </tr>\n",
       "    <tr>\n",
       "      <th>CatBoost_Optuna</th>\n",
       "      <td>7.410</td>\n",
       "    </tr>\n",
       "  </tbody>\n",
       "</table>\n",
       "</div>"
      ],
      "text/plain": [
       "                     sMAPE\n",
       "RandomForest_Optuna  8.071\n",
       "CatBoost_Optuna      7.410"
      ]
     },
     "execution_count": 31,
     "metadata": {},
     "output_type": "execute_result"
    }
   ],
   "source": [
    "answer_df = pd.DataFrame(\n",
    "    {'sMAPE': [best_accuracy_cat_rougher['sMAPE'][0], best_accuracy_forest_rougher['sMAPE'][0]]}, \n",
    "    index=['CatBoost_Optuna', 'RandomForest_Optuna']).sort_values(by='sMAPE', ascending=False)\n",
    "answer_df['sMAPE'] = answer_df['sMAPE'].apply(lambda acc: round(acc, 3))\n",
    "answer_df"
   ]
  },
  {
   "cell_type": "code",
   "execution_count": 32,
   "metadata": {},
   "outputs": [
    {
     "data": {
      "image/png": "[encoded data removed]",
      "text/plain": [
       "<Figure size 288x432 with 1 Axes>"
      ]
     },
     "metadata": {},
     "output_type": "display_data"
    }
   ],
   "source": [
    "plt.figure(figsize=(4, 6))\n",
    "sns.barplot(data=answer_df, x=[answer_df['sMAPE'].index[0], answer_df['sMAPE'].index[1]],\n",
    "            y=\"sMAPE\")\n",
    "plt.xlabel('Model name')\n",
    "plt.ylabel('sMAPE value')\n",
    "plt.title('Metric values for each model')\n",
    "plt.show()"
   ]
  },
  {
   "cell_type": "markdown",
   "metadata": {},
   "source": [
    "So, for the rough concentrate, the cat boost model (500 iterations and a maximum depth of 5) showed the best result - 7.4%."
   ]
  },
  {
   "cell_type": "markdown",
   "metadata": {},
   "source": [
    "### 2. Efficiency of final concentrate enrichment"
   ]
  },
  {
   "cell_type": "markdown",
   "metadata": {},
   "source": [
    "Now we will test for the final product of refining by changing the function of finding the best model - we will put all our samples there with the value *final* instead of *rougher*. As in the previous block, let's start with the cat boost regressor."
   ]
  },
  {
   "cell_type": "code",
   "execution_count": 33,
   "metadata": {},
   "outputs": [
    {
     "name": "stderr",
     "output_type": "stream",
     "text": [
      "\u001b[32m[I 2022-03-21 08:55:21,801]\u001b[0m A new study created in memory with name: no-name-d2555d55-4468-4a72-8453-248e408d8a1d\u001b[0m\n",
      "\u001b[32m[I 2022-03-21 08:55:38,008]\u001b[0m Trial 0 finished with value: 8.038708446125712 and parameters: {'iterations': 300, 'l2_leaf_reg': 4.307888614497347, 'learning_rate': 0.1, 'max_depth': 8}. Best is trial 0 with value: 8.038708446125712.\u001b[0m\n",
      "\u001b[32m[I 2022-03-21 08:55:45,192]\u001b[0m Trial 1 finished with value: 7.885773463598609 and parameters: {'iterations': 800, 'l2_leaf_reg': 6.096590764466738, 'learning_rate': 0.01, 'max_depth': 4}. Best is trial 1 with value: 7.885773463598609.\u001b[0m\n",
      "\u001b[32m[I 2022-03-21 08:55:52,553]\u001b[0m Trial 2 finished with value: 9.470779495738443 and parameters: {'iterations': 800, 'l2_leaf_reg': 4.01102005530602, 'learning_rate': 0.3, 'max_depth': 4}. Best is trial 1 with value: 7.885773463598609.\u001b[0m\n",
      "\u001b[32m[I 2022-03-21 08:57:33,645]\u001b[0m Trial 3 finished with value: 7.922082969126506 and parameters: {'iterations': 800, 'l2_leaf_reg': 5.08780459475678, 'learning_rate': 0.01, 'max_depth': 10}. Best is trial 1 with value: 7.885773463598609.\u001b[0m\n",
      "\u001b[32m[I 2022-03-21 08:57:39,995]\u001b[0m Trial 4 finished with value: 8.747347003068413 and parameters: {'iterations': 500, 'l2_leaf_reg': 4.566591276670255, 'learning_rate': 0.2, 'max_depth': 5}. Best is trial 1 with value: 7.885773463598609.\u001b[0m\n"
     ]
    }
   ],
   "source": [
    "def objective_cat1(trial):\n",
    "    param = {\n",
    "        'iterations': trial.suggest_categorical('iterations', [300, 500, 800]), \n",
    "        'verbose': 0,\n",
    "        'random_seed': 123,\n",
    "        'l2_leaf_reg': trial.suggest_float('l2_leaf_reg', 1, 7),\n",
    "        'learning_rate': trial.suggest_categorical('learning_rate', [0.01, 0.05, 0.1, 0.2, 0.3]),\n",
    "        'max_depth': trial.suggest_categorical('max_depth', [2, 3, 4, 5, 6, 7, 8, 9, 10])\n",
    "    }\n",
    "    model = CatBoostRegressor(**param)  \n",
    "    model.fit(features_train_final, target_train_final)\n",
    "    preds = model.predict(features_test_final)\n",
    "    acc = smape(target_test_final, preds)\n",
    "    return acc\n",
    "\n",
    "# running the study for final products\n",
    "study_cat = optuna.create_study(direction='minimize', sampler=optuna.samplers.TPESampler(seed=123))\n",
    "study_cat.optimize(objective_cat1, n_trials=5)"
   ]
  },
  {
   "cell_type": "markdown",
   "metadata": {},
   "source": [
    "Printing the results:"
   ]
  },
  {
   "cell_type": "code",
   "execution_count": 34,
   "metadata": {},
   "outputs": [
    {
     "name": "stdout",
     "output_type": "stream",
     "text": [
      "Number of assessments completed: 5\n",
      "Cat boost parameters obtained at best estimate:\n"
     ]
    },
    {
     "data": {
      "text/html": [
       "<div>\n",
       "<style scoped>\n",
       "    .dataframe tbody tr th:only-of-type {\n",
       "        vertical-align: middle;\n",
       "    }\n",
       "\n",
       "    .dataframe tbody tr th {\n",
       "        vertical-align: top;\n",
       "    }\n",
       "\n",
       "    .dataframe thead th {\n",
       "        text-align: right;\n",
       "    }\n",
       "</style>\n",
       "<table border=\"1\" class=\"dataframe\">\n",
       "  <thead>\n",
       "    <tr style=\"text-align: right;\">\n",
       "      <th></th>\n",
       "      <th>sMAPE</th>\n",
       "      <th>params_iterations</th>\n",
       "      <th>params_l2_leaf_reg</th>\n",
       "      <th>params_learning_rate</th>\n",
       "      <th>params_max_depth</th>\n",
       "    </tr>\n",
       "  </thead>\n",
       "  <tbody>\n",
       "    <tr>\n",
       "      <th>0</th>\n",
       "      <td>9.470779</td>\n",
       "      <td>800</td>\n",
       "      <td>4.01102</td>\n",
       "      <td>0.3</td>\n",
       "      <td>4</td>\n",
       "    </tr>\n",
       "  </tbody>\n",
       "</table>\n",
       "</div>"
      ],
      "text/plain": [
       "      sMAPE  params_iterations  params_l2_leaf_reg  params_learning_rate  \\\n",
       "0  9.470779                800             4.01102                   0.3   \n",
       "\n",
       "   params_max_depth  \n",
       "0                 4  "
      ]
     },
     "execution_count": 34,
     "metadata": {},
     "output_type": "execute_result"
    }
   ],
   "source": [
    "print('Number of assessments completed:', len(study_cat.trials))\n",
    "print('Cat boost parameters obtained at best estimate:')\n",
    "cat_study = study_cat.trials_dataframe()\n",
    "best_accuracy_cat = (\n",
    "    cat_study.sort_values(by='value', ascending=False).reset_index(drop=True)[['value',\n",
    "                                                                               'params_iterations',\n",
    "                                                                               'params_l2_leaf_reg',\n",
    "                                                                                'params_learning_rate', \n",
    "                                                                               'params_max_depth']]\n",
    ")\n",
    "best_accuracy_cat_final = best_accuracy_cat.rename(columns={'value': 'sMAPE'}).iloc[[0], :]\n",
    "best_accuracy_cat_final"
   ]
  },
  {
   "cell_type": "code",
   "execution_count": 35,
   "metadata": {},
   "outputs": [
    {
     "name": "stdout",
     "output_type": "stream",
     "text": [
      "sMAPE of the best cat boost regression parameters found by optuna: 9.470779495738443\n"
     ]
    }
   ],
   "source": [
    "print('sMAPE of the best cat boost regression parameters found by optuna:', best_accuracy_cat_final['sMAPE'][0])"
   ]
  },
  {
   "cell_type": "markdown",
   "metadata": {},
   "source": [
    "Now let's look at the random forest."
   ]
  },
  {
   "cell_type": "code",
   "execution_count": 36,
   "metadata": {},
   "outputs": [],
   "source": [
    "def objective_forest1(trial):\n",
    "    param = {\n",
    "        'n_estimators': trial.suggest_int('n_estimators', 50, 200), \n",
    "        'random_state': 123,\n",
    "        'min_samples_leaf': trial.suggest_int('min_samples_leaf', 1, 10),\n",
    "        'max_depth': trial.suggest_categorical('max_depth', [5, 10, 20, 30]),\n",
    "        'min_samples_split' : trial.suggest_int('min_samples_split', 2, 15),\n",
    "        'max_features' : trial.suggest_categorical('max_features', ['auto', 'sqrt', 'log2'])\n",
    "        }\n",
    "    model = RandomForestRegressor(**param)  \n",
    "    # parameter setting\n",
    "    model.fit(features_train_final, target_train_final)\n",
    "    # predicting\n",
    "    preds = model.predict(features_test_final)\n",
    "    # sMAPE calculation\n",
    "    acc = smape(target_test_final, preds)\n",
    "    return acc"
   ]
  },
  {
   "cell_type": "code",
   "execution_count": 37,
   "metadata": {},
   "outputs": [
    {
     "name": "stderr",
     "output_type": "stream",
     "text": [
      "\u001b[32m[I 2022-03-21 08:57:40,043]\u001b[0m A new study created in memory with name: no-name-9ae8d090-b113-4455-a93a-1c51a9dab18c\u001b[0m\n",
      "\u001b[32m[I 2022-03-21 08:59:02,273]\u001b[0m Trial 0 finished with value: 8.262233137442603 and parameters: {'n_estimators': 155, 'min_samples_leaf': 3, 'max_depth': 20, 'min_samples_split': 15, 'max_features': 'auto'}. Best is trial 0 with value: 8.262233137442603.\u001b[0m\n",
      "\u001b[32m[I 2022-03-21 08:59:07,224]\u001b[0m Trial 1 finished with value: 8.457341183297688 and parameters: {'n_estimators': 101, 'min_samples_leaf': 8, 'max_depth': 30, 'min_samples_split': 4, 'max_features': 'log2'}. Best is trial 0 with value: 8.262233137442603.\u001b[0m\n",
      "\u001b[32m[I 2022-03-21 08:59:10,203]\u001b[0m Trial 2 finished with value: 8.499869719335388 and parameters: {'n_estimators': 145, 'min_samples_leaf': 9, 'max_depth': 5, 'min_samples_split': 7, 'max_features': 'log2'}. Best is trial 0 with value: 8.262233137442603.\u001b[0m\n",
      "\u001b[32m[I 2022-03-21 08:59:13,362]\u001b[0m Trial 3 finished with value: 8.36871646183028 and parameters: {'n_estimators': 63, 'min_samples_leaf': 5, 'max_depth': 10, 'min_samples_split': 7, 'max_features': 'sqrt'}. Best is trial 0 with value: 8.262233137442603.\u001b[0m\n",
      "\u001b[32m[I 2022-03-21 09:00:33,732]\u001b[0m Trial 4 finished with value: 8.300860364486487 and parameters: {'n_estimators': 144, 'min_samples_leaf': 2, 'max_depth': 20, 'min_samples_split': 8, 'max_features': 'auto'}. Best is trial 0 with value: 8.262233137442603.\u001b[0m\n"
     ]
    }
   ],
   "source": [
    "study_forest = optuna.create_study(direction='minimize', sampler=optuna.samplers.TPESampler(seed=123))\n",
    "study_forest.optimize(objective_forest1, n_trials=5)"
   ]
  },
  {
   "cell_type": "markdown",
   "metadata": {},
   "source": [
    "And let's look at the output."
   ]
  },
  {
   "cell_type": "code",
   "execution_count": 38,
   "metadata": {},
   "outputs": [
    {
     "name": "stdout",
     "output_type": "stream",
     "text": [
      "Number of assessments completed: 5\n",
      "Random forest parameters obtained with the best estimate:\n"
     ]
    },
    {
     "data": {
      "text/html": [
       "<div>\n",
       "<style scoped>\n",
       "    .dataframe tbody tr th:only-of-type {\n",
       "        vertical-align: middle;\n",
       "    }\n",
       "\n",
       "    .dataframe tbody tr th {\n",
       "        vertical-align: top;\n",
       "    }\n",
       "\n",
       "    .dataframe thead th {\n",
       "        text-align: right;\n",
       "    }\n",
       "</style>\n",
       "<table border=\"1\" class=\"dataframe\">\n",
       "  <thead>\n",
       "    <tr style=\"text-align: right;\">\n",
       "      <th></th>\n",
       "      <th>sMAPE</th>\n",
       "      <th>params_n_estimators</th>\n",
       "      <th>params_min_samples_leaf</th>\n",
       "      <th>params_max_depth</th>\n",
       "      <th>params_min_samples_split</th>\n",
       "      <th>params_max_features</th>\n",
       "    </tr>\n",
       "  </thead>\n",
       "  <tbody>\n",
       "    <tr>\n",
       "      <th>0</th>\n",
       "      <td>8.49987</td>\n",
       "      <td>145</td>\n",
       "      <td>9</td>\n",
       "      <td>5</td>\n",
       "      <td>7</td>\n",
       "      <td>log2</td>\n",
       "    </tr>\n",
       "  </tbody>\n",
       "</table>\n",
       "</div>"
      ],
      "text/plain": [
       "     sMAPE  params_n_estimators  params_min_samples_leaf  params_max_depth  \\\n",
       "0  8.49987                  145                        9                 5   \n",
       "\n",
       "   params_min_samples_split params_max_features  \n",
       "0                         7                log2  "
      ]
     },
     "execution_count": 38,
     "metadata": {},
     "output_type": "execute_result"
    }
   ],
   "source": [
    "print('Number of assessments completed:', len(study_forest.trials))\n",
    "print('Random forest parameters obtained with the best estimate:')\n",
    "forest_study = study_forest.trials_dataframe()\n",
    "best_accuracy_forest = (\n",
    "    forest_study.sort_values(by='value', ascending=False).reset_index(drop=True)[['value', \n",
    "                                                                                'params_n_estimators', \n",
    "                                                                               'params_min_samples_leaf',\n",
    "                                                                               'params_max_depth',\n",
    "                                                                               'params_min_samples_split',\n",
    "                                                                               'params_max_features']]\n",
    ")\n",
    "best_accuracy_forest_final = best_accuracy_forest.rename(columns={'value': 'sMAPE'}).iloc[[0], :]\n",
    "best_accuracy_forest_final"
   ]
  },
  {
   "cell_type": "code",
   "execution_count": 39,
   "metadata": {},
   "outputs": [
    {
     "name": "stdout",
     "output_type": "stream",
     "text": [
      "sMAPE of the best parameters found by optuna for random forest: 8.499869719335388\n"
     ]
    }
   ],
   "source": [
    "print('sMAPE of the best parameters found by optuna for random forest:', best_accuracy_forest_final['sMAPE'][0])"
   ]
  },
  {
   "cell_type": "markdown",
   "metadata": {},
   "source": [
    "#### Model comparison"
   ]
  },
  {
   "cell_type": "markdown",
   "metadata": {},
   "source": [
    "As in the case of the crude concentrate, we will compare the models by the minimum value of sMAPE."
   ]
  },
  {
   "cell_type": "code",
   "execution_count": 40,
   "metadata": {},
   "outputs": [
    {
     "data": {
      "text/html": [
       "<div>\n",
       "<style scoped>\n",
       "    .dataframe tbody tr th:only-of-type {\n",
       "        vertical-align: middle;\n",
       "    }\n",
       "\n",
       "    .dataframe tbody tr th {\n",
       "        vertical-align: top;\n",
       "    }\n",
       "\n",
       "    .dataframe thead th {\n",
       "        text-align: right;\n",
       "    }\n",
       "</style>\n",
       "<table border=\"1\" class=\"dataframe\">\n",
       "  <thead>\n",
       "    <tr style=\"text-align: right;\">\n",
       "      <th></th>\n",
       "      <th>sMAPE</th>\n",
       "    </tr>\n",
       "  </thead>\n",
       "  <tbody>\n",
       "    <tr>\n",
       "      <th>CatBoost_Optuna</th>\n",
       "      <td>9.471</td>\n",
       "    </tr>\n",
       "    <tr>\n",
       "      <th>RandomForest_Optuna</th>\n",
       "      <td>8.500</td>\n",
       "    </tr>\n",
       "  </tbody>\n",
       "</table>\n",
       "</div>"
      ],
      "text/plain": [
       "                     sMAPE\n",
       "CatBoost_Optuna      9.471\n",
       "RandomForest_Optuna  8.500"
      ]
     },
     "execution_count": 40,
     "metadata": {},
     "output_type": "execute_result"
    }
   ],
   "source": [
    "answer_df = pd.DataFrame(\n",
    "    {'sMAPE': [best_accuracy_cat_final['sMAPE'][0], best_accuracy_forest_final['sMAPE'][0]]}, \n",
    "    index=['CatBoost_Optuna', 'RandomForest_Optuna']).sort_values(by='sMAPE', ascending=False)\n",
    "answer_df['sMAPE'] = answer_df['sMAPE'].apply(lambda acc: round(acc, 3))\n",
    "answer_df"
   ]
  },
  {
   "cell_type": "code",
   "execution_count": 41,
   "metadata": {},
   "outputs": [
    {
     "data": {
      "image/png": "[encoded data removed]",
      "text/plain": [
       "<Figure size 288x432 with 1 Axes>"
      ]
     },
     "metadata": {},
     "output_type": "display_data"
    }
   ],
   "source": [
    "plt.figure(figsize=(4, 6))\n",
    "sns.barplot(data=answer_df, x=[answer_df['sMAPE'].index[0], answer_df['sMAPE'].index[1]],\n",
    "            y=\"sMAPE\")\n",
    "plt.xlabel('Model name')\n",
    "plt.ylabel('sMAPE value')\n",
    "plt.title('Metric values for each model')\n",
    "plt.show()"
   ]
  },
  {
   "cell_type": "markdown",
   "metadata": {},
   "source": [
    "In this case, for the final concentrate, the random forest model shows the best result (145 trees and a maximum depth of 5) - and sMAPE is 8.5%."
   ]
  },
  {
   "cell_type": "markdown",
   "metadata": {},
   "source": [
    "### Conclusion 1"
   ]
  },
  {
   "cell_type": "markdown",
   "metadata": {},
   "source": [
    "As a result of model selection using the optuna software, which immediately takes into account both the training and test sets, the best model for the rough concentrate is **cat boost**, and for the final product it is a **random forest**. At the same time, the final sMAPE indicator for the entire technological process was:"
   ]
  },
  {
   "cell_type": "code",
   "execution_count": 42,
   "metadata": {},
   "outputs": [
    {
     "name": "stdout",
     "output_type": "stream",
     "text": [
      "8.227328385729267 %\n"
     ]
    }
   ],
   "source": [
    "smape_total = 0.75*best_accuracy_forest_final['sMAPE'][0] + 0.25*best_accuracy_cat_rougher['sMAPE'][0]\n",
    "print(smape_total, '%')"
   ]
  },
  {
   "cell_type": "markdown",
   "metadata": {},
   "source": [
    "However, in order to be completely sure that the model is workable, we need to run a dummy regression (in this case a median seems suitable). This will show us if there is any qualitative difference between our models and a random one."
   ]
  },
  {
   "cell_type": "code",
   "execution_count": 46,
   "metadata": {},
   "outputs": [
    {
     "name": "stdout",
     "output_type": "stream",
     "text": [
      "Minimum sMAPE of random median model for crude concentrate: 8.526 %\n"
     ]
    }
   ],
   "source": [
    "dummy_regressor_rougher = DummyRegressor(strategy=\"median\")\n",
    "dummy_regressor_rougher.fit(features_train_rougher, target_train_rougher)\n",
    "dummy_rougher_pred = dummy_regressor_rougher.predict(features_test_rougher)\n",
    "smape_dummy_rougher = smape(target_test_rougher, dummy_rougher_pred)\n",
    "print('Minimum sMAPE of random median model for crude concentrate: {:.4} %'.format(smape_dummy_rougher)) "
   ]
  },
  {
   "cell_type": "code",
   "execution_count": 47,
   "metadata": {},
   "outputs": [
    {
     "name": "stdout",
     "output_type": "stream",
     "text": [
      "Minimum sMAPE of the random median model for the final concentrate: 9.743 %\n"
     ]
    }
   ],
   "source": [
    "dummy_regressor_final = DummyRegressor(strategy=\"median\")\n",
    "dummy_regressor_final.fit(features_train_final, target_train_final)\n",
    "dummy_final_pred = dummy_regressor_final.predict(features_test_final)\n",
    "smape_dummy_final = smape(target_test_final, dummy_final_pred)\n",
    "print('Minimum sMAPE of the random median model for the final concentrate: {:.4} %'.format(smape_dummy_final))  "
   ]
  },
  {
   "cell_type": "code",
   "execution_count": 48,
   "metadata": {},
   "outputs": [
    {
     "name": "stdout",
     "output_type": "stream",
     "text": [
      "The final sMAPE indicator for the entire technological process \n",
      "for a random model was: 9.43899456364264 %\n"
     ]
    }
   ],
   "source": [
    "smape_total = 0.75*smape_dummy_final + 0.25*smape_dummy_rougher\n",
    "print('The final sMAPE indicator for the entire technological process \\nfor a random model was:', smape_total, '%')"
   ]
  },
  {
   "cell_type": "markdown",
   "metadata": {},
   "source": [
    "### Conclusion 2"
   ]
  },
  {
   "cell_type": "markdown",
   "metadata": {},
   "source": [
    "So, when comparing the combination of the two best models (cat boost and random forest) with the median-based dummy model, the dummy model is inferior in the sMAPE metric with 9.4% versus 8.2% for the found models. Accordingly, the found models are really efficient and can be used to predict the concentration of gold."
   ]
  },
  {
   "cell_type": "markdown",
   "metadata": {},
   "source": [
    "## General conclusion"
   ]
  },
  {
   "cell_type": "markdown",
   "metadata": {},
   "source": [
    "Within this project, a prototype of a machine learning model was prepared. The model predicts the recovery factor for gold from gold ore. To obtain the model, data with production and treatment parameters were used. The project consisted of:\n",
    "- data preparation (adding a target feature to the test set and formatting the training set in accordance with the test set)\n",
    "- data preprocessing (filling in gaps)\n",
    "- EDA (study of changes in the concentration of elements, distribution of granule sizes and total concentrations of substances at each stage)\n",
    "- building, training and choosing the best model (writing a function to calculate the final *sMAPE*, training and checking cat boost and random forest regressions, choosing the best model by *sMAPE* using the optuna package)"
   ]
  },
  {
   "cell_type": "markdown",
   "metadata": {},
   "source": [
    "As a result of the project, different models were chosen for the roughing and final concentrate. The *rough concentrate* (with an error of only 7.39% by sMAPE) is best predicted by a ***cat boost regression with 500 iterations and a maximum depth of 5***, and the *final gold grade* is best (sMAPE 8.5%) is modeled by a ***random forest of 145 trees with a maximum depth 5***.    \n",
    "\n",
    "The final value of the sMAPE metric was only **8.22%**, which indicates a fairly accurate model - especially in comparison with the random median model, which showed an sMAPE of 9.44%."
   ]
  }
 ],
 "metadata": {
  "ExecuteTimeLog": [
   {
    "duration": 478,
    "start_time": "2021-10-29T10:50:22.123Z"
   },
   {
    "duration": 769,
    "start_time": "2021-10-29T10:50:25.556Z"
   },
   {
    "duration": -445,
    "start_time": "2021-10-29T10:50:28.937Z"
   },
   {
    "duration": 2812,
    "start_time": "2021-10-29T10:51:10.135Z"
   },
   {
    "duration": 2261,
    "start_time": "2021-10-29T10:52:33.525Z"
   },
   {
    "duration": 1982,
    "start_time": "2021-10-29T11:19:33.877Z"
   },
   {
    "duration": 8313,
    "start_time": "2021-10-29T11:19:56.288Z"
   },
   {
    "duration": 1003,
    "start_time": "2021-10-29T11:20:33.780Z"
   },
   {
    "duration": 958,
    "start_time": "2021-10-29T11:20:56.402Z"
   },
   {
    "duration": 804,
    "start_time": "2021-10-31T13:28:05.231Z"
   },
   {
    "duration": 933,
    "start_time": "2021-10-31T13:28:07.255Z"
   },
   {
    "duration": 893,
    "start_time": "2021-10-31T13:28:26.159Z"
   },
   {
    "duration": 51,
    "start_time": "2021-10-31T13:29:07.743Z"
   },
   {
    "duration": 10,
    "start_time": "2021-10-31T13:30:36.902Z"
   },
   {
    "duration": 21,
    "start_time": "2021-10-31T13:30:45.535Z"
   },
   {
    "duration": 10,
    "start_time": "2021-10-31T13:33:16.645Z"
   },
   {
    "duration": 24,
    "start_time": "2021-10-31T13:33:30.383Z"
   },
   {
    "duration": 377,
    "start_time": "2021-10-31T13:40:14.669Z"
   },
   {
    "duration": 254,
    "start_time": "2021-10-31T13:41:16.695Z"
   },
   {
    "duration": 311,
    "start_time": "2021-10-31T13:42:04.113Z"
   },
   {
    "duration": 98,
    "start_time": "2021-10-31T13:42:26.304Z"
   },
   {
    "duration": 4,
    "start_time": "2021-10-31T13:42:30.282Z"
   },
   {
    "duration": 16,
    "start_time": "2021-10-31T13:42:42.098Z"
   },
   {
    "duration": 313,
    "start_time": "2021-10-31T13:44:28.024Z"
   },
   {
    "duration": 276,
    "start_time": "2021-10-31T13:45:03.607Z"
   },
   {
    "duration": 1339,
    "start_time": "2021-10-31T13:47:51.854Z"
   },
   {
    "duration": 294,
    "start_time": "2021-10-31T13:48:00.561Z"
   },
   {
    "duration": 772,
    "start_time": "2021-10-31T14:00:08.120Z"
   },
   {
    "duration": 292,
    "start_time": "2021-10-31T14:11:56.990Z"
   },
   {
    "duration": 280,
    "start_time": "2021-10-31T14:12:10.680Z"
   },
   {
    "duration": 505,
    "start_time": "2021-10-31T14:12:36.948Z"
   },
   {
    "duration": 61,
    "start_time": "2021-10-31T14:12:49.214Z"
   },
   {
    "duration": 26,
    "start_time": "2021-10-31T14:12:54.050Z"
   },
   {
    "duration": 757,
    "start_time": "2021-10-31T14:13:41.048Z"
   },
   {
    "duration": 940,
    "start_time": "2021-10-31T14:13:43.116Z"
   },
   {
    "duration": 24,
    "start_time": "2021-10-31T14:13:54.750Z"
   },
   {
    "duration": 44,
    "start_time": "2021-10-31T14:14:14.840Z"
   },
   {
    "duration": 46,
    "start_time": "2021-10-31T14:14:17.976Z"
   },
   {
    "duration": 30,
    "start_time": "2021-10-31T14:14:26.894Z"
   },
   {
    "duration": 42,
    "start_time": "2021-10-31T14:14:44.372Z"
   },
   {
    "duration": 10,
    "start_time": "2021-10-31T14:14:48.931Z"
   },
   {
    "duration": 495,
    "start_time": "2021-10-31T14:18:37.202Z"
   },
   {
    "duration": 2021,
    "start_time": "2021-10-31T14:19:05.132Z"
   },
   {
    "duration": 9,
    "start_time": "2021-10-31T14:19:25.476Z"
   },
   {
    "duration": 33,
    "start_time": "2021-10-31T14:19:34.112Z"
   },
   {
    "duration": 17,
    "start_time": "2021-10-31T14:19:39.207Z"
   },
   {
    "duration": 11,
    "start_time": "2021-10-31T14:20:03.172Z"
   },
   {
    "duration": 29,
    "start_time": "2021-10-31T14:20:05.364Z"
   },
   {
    "duration": 42,
    "start_time": "2021-10-31T14:26:43.353Z"
   },
   {
    "duration": 10,
    "start_time": "2021-10-31T14:27:35.252Z"
   },
   {
    "duration": 758,
    "start_time": "2021-10-31T14:28:05.493Z"
   },
   {
    "duration": 945,
    "start_time": "2021-10-31T14:28:06.254Z"
   },
   {
    "duration": 69,
    "start_time": "2021-10-31T14:28:07.203Z"
   },
   {
    "duration": 10,
    "start_time": "2021-10-31T14:28:07.276Z"
   },
   {
    "duration": 46,
    "start_time": "2021-10-31T14:28:07.289Z"
   },
   {
    "duration": 74,
    "start_time": "2021-10-31T14:28:07.338Z"
   },
   {
    "duration": 14,
    "start_time": "2021-10-31T14:28:07.415Z"
   },
   {
    "duration": 63,
    "start_time": "2021-10-31T14:28:07.432Z"
   },
   {
    "duration": 27,
    "start_time": "2021-10-31T14:28:07.498Z"
   },
   {
    "duration": 12,
    "start_time": "2021-10-31T14:43:34.123Z"
   },
   {
    "duration": 547,
    "start_time": "2021-10-31T14:44:14.624Z"
   },
   {
    "duration": 397,
    "start_time": "2021-10-31T14:45:12.924Z"
   },
   {
    "duration": 613,
    "start_time": "2021-10-31T14:45:48.095Z"
   },
   {
    "duration": 5,
    "start_time": "2021-10-31T14:45:54.085Z"
   },
   {
    "duration": 7,
    "start_time": "2021-10-31T14:46:04.823Z"
   },
   {
    "duration": 284,
    "start_time": "2021-10-31T14:46:17.287Z"
   },
   {
    "duration": 7,
    "start_time": "2021-10-31T14:46:20.963Z"
   },
   {
    "duration": 98,
    "start_time": "2021-10-31T14:46:41.769Z"
   },
   {
    "duration": 291,
    "start_time": "2021-10-31T14:47:13.911Z"
   },
   {
    "duration": 8,
    "start_time": "2021-10-31T14:47:17.300Z"
   },
   {
    "duration": 288,
    "start_time": "2021-10-31T14:47:36.016Z"
   },
   {
    "duration": 281,
    "start_time": "2021-10-31T14:48:00.835Z"
   },
   {
    "duration": 20,
    "start_time": "2021-10-31T14:48:47.999Z"
   },
   {
    "duration": 11,
    "start_time": "2021-10-31T14:50:10.196Z"
   },
   {
    "duration": 720,
    "start_time": "2021-11-01T17:01:50.810Z"
   },
   {
    "duration": 1471,
    "start_time": "2021-11-01T17:01:57.159Z"
   },
   {
    "duration": 921,
    "start_time": "2021-11-01T17:01:58.633Z"
   },
   {
    "duration": 48,
    "start_time": "2021-11-01T17:01:59.558Z"
   },
   {
    "duration": 32,
    "start_time": "2021-11-01T17:01:59.608Z"
   },
   {
    "duration": 21,
    "start_time": "2021-11-01T17:01:59.642Z"
   },
   {
    "duration": 73,
    "start_time": "2021-11-01T17:01:59.666Z"
   },
   {
    "duration": 46,
    "start_time": "2021-11-01T17:01:59.742Z"
   },
   {
    "duration": 14,
    "start_time": "2021-11-01T17:01:59.791Z"
   },
   {
    "duration": 48,
    "start_time": "2021-11-01T17:01:59.807Z"
   },
   {
    "duration": 1268,
    "start_time": "2021-11-01T17:05:14.442Z"
   },
   {
    "duration": 927,
    "start_time": "2021-11-01T17:05:15.712Z"
   },
   {
    "duration": 48,
    "start_time": "2021-11-01T17:05:16.642Z"
   },
   {
    "duration": 39,
    "start_time": "2021-11-01T17:05:16.693Z"
   },
   {
    "duration": 18,
    "start_time": "2021-11-01T17:05:16.734Z"
   },
   {
    "duration": 47,
    "start_time": "2021-11-01T17:05:16.755Z"
   },
   {
    "duration": 69,
    "start_time": "2021-11-01T17:05:16.804Z"
   },
   {
    "duration": 13,
    "start_time": "2021-11-01T17:05:16.876Z"
   },
   {
    "duration": 53,
    "start_time": "2021-11-01T17:05:16.892Z"
   },
   {
    "duration": 3,
    "start_time": "2021-11-01T17:05:16.948Z"
   },
   {
    "duration": 885,
    "start_time": "2021-11-01T17:05:16.953Z"
   },
   {
    "duration": 4,
    "start_time": "2021-11-01T17:06:21.063Z"
   },
   {
    "duration": 440,
    "start_time": "2021-11-01T17:06:25.413Z"
   },
   {
    "duration": 11,
    "start_time": "2021-11-01T17:07:30.657Z"
   },
   {
    "duration": 475,
    "start_time": "2021-11-01T17:09:11.100Z"
   },
   {
    "duration": 964,
    "start_time": "2021-11-01T17:09:26.492Z"
   },
   {
    "duration": 1357,
    "start_time": "2021-11-01T17:09:36.630Z"
   },
   {
    "duration": 1181,
    "start_time": "2021-11-01T17:10:10.112Z"
   },
   {
    "duration": 1015,
    "start_time": "2021-11-01T17:12:06.698Z"
   },
   {
    "duration": 968,
    "start_time": "2021-11-01T17:12:35.683Z"
   },
   {
    "duration": 946,
    "start_time": "2021-11-01T17:13:06.038Z"
   },
   {
    "duration": 449,
    "start_time": "2021-11-01T17:17:06.220Z"
   },
   {
    "duration": 280,
    "start_time": "2021-11-01T17:17:45.820Z"
   },
   {
    "duration": 282,
    "start_time": "2021-11-01T17:17:48.402Z"
   },
   {
    "duration": 89,
    "start_time": "2021-11-01T17:24:01.438Z"
   },
   {
    "duration": 4,
    "start_time": "2021-11-01T17:24:06.244Z"
   },
   {
    "duration": 331,
    "start_time": "2021-11-01T17:25:10.581Z"
   },
   {
    "duration": 86,
    "start_time": "2021-11-01T17:26:15.414Z"
   },
   {
    "duration": 78,
    "start_time": "2021-11-01T17:26:22.884Z"
   },
   {
    "duration": 86,
    "start_time": "2021-11-01T17:27:15.264Z"
   },
   {
    "duration": 75,
    "start_time": "2021-11-01T17:27:30.501Z"
   },
   {
    "duration": 74,
    "start_time": "2021-11-01T17:27:36.720Z"
   },
   {
    "duration": 80,
    "start_time": "2021-11-01T17:27:49.636Z"
   },
   {
    "duration": 76,
    "start_time": "2021-11-01T17:28:14.371Z"
   },
   {
    "duration": 78,
    "start_time": "2021-11-01T17:28:18.281Z"
   },
   {
    "duration": 70,
    "start_time": "2021-11-01T17:28:39.177Z"
   },
   {
    "duration": 213,
    "start_time": "2021-11-01T17:30:21.489Z"
   },
   {
    "duration": 245,
    "start_time": "2021-11-01T17:41:57.012Z"
   },
   {
    "duration": 1450,
    "start_time": "2021-11-01T17:43:55.088Z"
   },
   {
    "duration": 953,
    "start_time": "2021-11-01T17:43:56.540Z"
   },
   {
    "duration": 59,
    "start_time": "2021-11-01T17:43:57.496Z"
   },
   {
    "duration": 14,
    "start_time": "2021-11-01T17:43:57.557Z"
   },
   {
    "duration": 19,
    "start_time": "2021-11-01T17:43:57.574Z"
   },
   {
    "duration": 74,
    "start_time": "2021-11-01T17:43:57.595Z"
   },
   {
    "duration": 63,
    "start_time": "2021-11-01T17:43:57.672Z"
   },
   {
    "duration": 14,
    "start_time": "2021-11-01T17:43:57.739Z"
   },
   {
    "duration": 33,
    "start_time": "2021-11-01T17:43:57.756Z"
   },
   {
    "duration": 4,
    "start_time": "2021-11-01T17:43:57.791Z"
   },
   {
    "duration": 992,
    "start_time": "2021-11-01T17:43:57.797Z"
   },
   {
    "duration": 386,
    "start_time": "2021-11-01T17:43:58.791Z"
   },
   {
    "duration": 144,
    "start_time": "2021-11-01T17:43:59.035Z"
   },
   {
    "duration": 139,
    "start_time": "2021-11-01T17:43:59.042Z"
   },
   {
    "duration": 134,
    "start_time": "2021-11-01T17:44:11.402Z"
   },
   {
    "duration": 2830,
    "start_time": "2021-11-01T17:44:16.504Z"
   },
   {
    "duration": 1054,
    "start_time": "2021-11-01T17:44:48.214Z"
   },
   {
    "duration": 249,
    "start_time": "2021-11-01T17:46:05.647Z"
   },
   {
    "duration": 2905,
    "start_time": "2021-11-01T17:46:22.709Z"
   },
   {
    "duration": 370,
    "start_time": "2021-11-01T17:46:51.093Z"
   },
   {
    "duration": 2601,
    "start_time": "2021-11-01T17:51:47.513Z"
   },
   {
    "duration": 3569,
    "start_time": "2021-11-01T18:24:20.360Z"
   },
   {
    "duration": 2683,
    "start_time": "2021-11-01T18:24:39.070Z"
   },
   {
    "duration": 1891,
    "start_time": "2021-11-01T18:25:01.166Z"
   },
   {
    "duration": 2787,
    "start_time": "2021-11-01T18:25:25.618Z"
   },
   {
    "duration": 2716,
    "start_time": "2021-11-01T18:25:42.999Z"
   },
   {
    "duration": 3309,
    "start_time": "2021-11-01T18:25:57.651Z"
   },
   {
    "duration": 1799,
    "start_time": "2021-11-01T18:26:07.544Z"
   },
   {
    "duration": 2224,
    "start_time": "2021-11-01T18:26:21.439Z"
   },
   {
    "duration": 1687,
    "start_time": "2021-11-01T18:26:27.153Z"
   },
   {
    "duration": 1308,
    "start_time": "2021-11-01T18:26:43.816Z"
   },
   {
    "duration": 1435,
    "start_time": "2021-11-01T18:26:50.288Z"
   },
   {
    "duration": 2064,
    "start_time": "2021-11-01T18:27:10.941Z"
   },
   {
    "duration": 1853,
    "start_time": "2021-11-01T18:27:24.270Z"
   },
   {
    "duration": 1506,
    "start_time": "2021-11-01T18:27:36.398Z"
   },
   {
    "duration": 1901,
    "start_time": "2021-11-01T18:28:55.969Z"
   },
   {
    "duration": 1618,
    "start_time": "2021-11-01T18:29:01.896Z"
   },
   {
    "duration": 6,
    "start_time": "2021-11-01T18:35:32.358Z"
   },
   {
    "duration": 1192,
    "start_time": "2021-11-02T10:17:29.313Z"
   },
   {
    "duration": 733,
    "start_time": "2021-11-02T10:17:30.507Z"
   },
   {
    "duration": 39,
    "start_time": "2021-11-02T10:17:31.242Z"
   },
   {
    "duration": 8,
    "start_time": "2021-11-02T10:17:31.283Z"
   },
   {
    "duration": 20,
    "start_time": "2021-11-02T10:17:31.293Z"
   },
   {
    "duration": 48,
    "start_time": "2021-11-02T10:17:31.315Z"
   },
   {
    "duration": 30,
    "start_time": "2021-11-02T10:17:31.365Z"
   },
   {
    "duration": 10,
    "start_time": "2021-11-02T10:17:31.397Z"
   },
   {
    "duration": 21,
    "start_time": "2021-11-02T10:17:31.410Z"
   },
   {
    "duration": 2,
    "start_time": "2021-11-02T10:17:31.433Z"
   },
   {
    "duration": 732,
    "start_time": "2021-11-02T10:17:31.437Z"
   },
   {
    "duration": 336,
    "start_time": "2021-11-02T10:17:32.171Z"
   },
   {
    "duration": -619,
    "start_time": "2021-11-02T10:17:33.128Z"
   },
   {
    "duration": -641,
    "start_time": "2021-11-02T10:17:33.151Z"
   },
   {
    "duration": 274,
    "start_time": "2021-11-02T10:17:57.931Z"
   },
   {
    "duration": 278,
    "start_time": "2021-11-02T10:17:59.764Z"
   },
   {
    "duration": 7655,
    "start_time": "2021-11-02T10:18:31.147Z"
   },
   {
    "duration": -703,
    "start_time": "2021-11-02T10:21:06.883Z"
   },
   {
    "duration": 200,
    "start_time": "2021-11-02T10:21:07.783Z"
   },
   {
    "duration": 205,
    "start_time": "2021-11-02T10:21:12.209Z"
   },
   {
    "duration": 8,
    "start_time": "2021-11-02T10:21:22.813Z"
   },
   {
    "duration": 80,
    "start_time": "2021-11-02T10:21:43.827Z"
   },
   {
    "duration": 4698,
    "start_time": "2021-11-02T10:21:50.288Z"
   },
   {
    "duration": 7,
    "start_time": "2021-11-02T10:22:15.335Z"
   },
   {
    "duration": 5,
    "start_time": "2021-11-02T10:22:17.946Z"
   },
   {
    "duration": 246,
    "start_time": "2021-11-02T10:22:19.855Z"
   },
   {
    "duration": 138214,
    "start_time": "2021-11-02T10:22:32.510Z"
   },
   {
    "duration": 2619,
    "start_time": "2021-11-02T10:34:29.371Z"
   },
   {
    "duration": 236,
    "start_time": "2021-11-02T10:34:45.989Z"
   },
   {
    "duration": 3295,
    "start_time": "2021-11-02T10:35:12.039Z"
   },
   {
    "duration": 2243,
    "start_time": "2021-11-02T10:35:21.061Z"
   },
   {
    "duration": 244,
    "start_time": "2021-11-02T10:35:31.729Z"
   },
   {
    "duration": 2289,
    "start_time": "2021-11-02T10:35:40.601Z"
   },
   {
    "duration": 256,
    "start_time": "2021-11-02T10:35:57.449Z"
   },
   {
    "duration": 3431,
    "start_time": "2021-11-02T10:36:09.827Z"
   },
   {
    "duration": 747,
    "start_time": "2021-11-02T10:36:13.260Z"
   },
   {
    "duration": 32,
    "start_time": "2021-11-02T10:36:14.009Z"
   },
   {
    "duration": 30,
    "start_time": "2021-11-02T10:36:14.043Z"
   },
   {
    "duration": 14,
    "start_time": "2021-11-02T10:36:14.075Z"
   },
   {
    "duration": 30,
    "start_time": "2021-11-02T10:36:14.091Z"
   },
   {
    "duration": 46,
    "start_time": "2021-11-02T10:36:14.123Z"
   },
   {
    "duration": 11,
    "start_time": "2021-11-02T10:36:14.171Z"
   },
   {
    "duration": 25,
    "start_time": "2021-11-02T10:36:14.184Z"
   },
   {
    "duration": 2,
    "start_time": "2021-11-02T10:36:14.211Z"
   },
   {
    "duration": 617,
    "start_time": "2021-11-02T10:36:14.215Z"
   },
   {
    "duration": 1529,
    "start_time": "2021-11-02T10:36:14.834Z"
   },
   {
    "duration": 1048,
    "start_time": "2021-11-02T10:36:16.365Z"
   },
   {
    "duration": 9,
    "start_time": "2021-11-02T10:36:17.415Z"
   },
   {
    "duration": -733,
    "start_time": "2021-11-02T10:37:22.788Z"
   },
   {
    "duration": 653,
    "start_time": "2021-11-02T10:37:22.215Z"
   },
   {
    "duration": 246,
    "start_time": "2021-11-02T10:41:33.130Z"
   },
   {
    "duration": 359,
    "start_time": "2021-11-02T10:41:59.630Z"
   },
   {
    "duration": 365,
    "start_time": "2021-11-02T10:42:23.483Z"
   },
   {
    "duration": 386,
    "start_time": "2021-11-02T10:42:44.966Z"
   },
   {
    "duration": 379,
    "start_time": "2021-11-02T10:43:00.266Z"
   },
   {
    "duration": 355,
    "start_time": "2021-11-02T10:44:17.339Z"
   },
   {
    "duration": 364,
    "start_time": "2021-11-02T10:44:21.211Z"
   },
   {
    "duration": 355,
    "start_time": "2021-11-02T10:44:25.359Z"
   },
   {
    "duration": 365,
    "start_time": "2021-11-02T10:44:31.120Z"
   },
   {
    "duration": 351,
    "start_time": "2021-11-02T10:44:34.143Z"
   },
   {
    "duration": 1087,
    "start_time": "2021-11-02T10:45:44.848Z"
   },
   {
    "duration": 466,
    "start_time": "2021-11-02T10:52:01.483Z"
   },
   {
    "duration": 1089,
    "start_time": "2021-11-02T10:52:48.286Z"
   },
   {
    "duration": 1101,
    "start_time": "2021-11-02T10:52:56.541Z"
   },
   {
    "duration": 3386,
    "start_time": "2021-11-02T11:49:09.100Z"
   },
   {
    "duration": 777,
    "start_time": "2021-11-02T11:49:12.489Z"
   },
   {
    "duration": 31,
    "start_time": "2021-11-02T11:49:13.269Z"
   },
   {
    "duration": 14,
    "start_time": "2021-11-02T11:49:13.302Z"
   },
   {
    "duration": 45,
    "start_time": "2021-11-02T11:49:13.318Z"
   },
   {
    "duration": 27,
    "start_time": "2021-11-02T11:49:13.365Z"
   },
   {
    "duration": 31,
    "start_time": "2021-11-02T11:49:13.394Z"
   },
   {
    "duration": 11,
    "start_time": "2021-11-02T11:49:13.428Z"
   },
   {
    "duration": 21,
    "start_time": "2021-11-02T11:49:13.464Z"
   },
   {
    "duration": 3,
    "start_time": "2021-11-02T11:49:13.487Z"
   },
   {
    "duration": 595,
    "start_time": "2021-11-02T11:49:13.492Z"
   },
   {
    "duration": 1399,
    "start_time": "2021-11-02T11:49:14.089Z"
   },
   {
    "duration": 999,
    "start_time": "2021-11-02T11:49:15.490Z"
   },
   {
    "duration": 8,
    "start_time": "2021-11-02T11:49:16.490Z"
   },
   {
    "duration": 1143,
    "start_time": "2021-11-02T11:49:16.500Z"
   },
   {
    "duration": 3,
    "start_time": "2021-11-02T11:49:17.645Z"
   },
   {
    "duration": 45,
    "start_time": "2021-11-02T11:49:17.650Z"
   },
   {
    "duration": 328,
    "start_time": "2021-11-02T11:49:17.697Z"
   },
   {
    "duration": 9,
    "start_time": "2021-11-02T12:44:10.903Z"
   },
   {
    "duration": 245,
    "start_time": "2021-11-02T12:44:16.735Z"
   },
   {
    "duration": 28,
    "start_time": "2021-11-02T12:44:22.107Z"
   },
   {
    "duration": 6674,
    "start_time": "2021-11-02T12:44:54.832Z"
   },
   {
    "duration": 11,
    "start_time": "2021-11-02T12:45:28.523Z"
   },
   {
    "duration": 8,
    "start_time": "2021-11-02T12:45:31.160Z"
   },
   {
    "duration": 3198,
    "start_time": "2021-11-02T12:45:37.600Z"
   },
   {
    "duration": 767,
    "start_time": "2021-11-02T12:45:40.800Z"
   },
   {
    "duration": 7,
    "start_time": "2021-11-02T12:45:41.570Z"
   },
   {
    "duration": 35,
    "start_time": "2021-11-02T12:45:41.579Z"
   },
   {
    "duration": 12,
    "start_time": "2021-11-02T12:45:41.616Z"
   },
   {
    "duration": 37,
    "start_time": "2021-11-02T12:45:41.629Z"
   },
   {
    "duration": 29,
    "start_time": "2021-11-02T12:45:41.668Z"
   },
   {
    "duration": 31,
    "start_time": "2021-11-02T12:45:41.699Z"
   },
   {
    "duration": 10,
    "start_time": "2021-11-02T12:45:41.732Z"
   },
   {
    "duration": 22,
    "start_time": "2021-11-02T12:45:41.764Z"
   },
   {
    "duration": 2,
    "start_time": "2021-11-02T12:45:41.788Z"
   },
   {
    "duration": 616,
    "start_time": "2021-11-02T12:45:41.792Z"
   },
   {
    "duration": 1504,
    "start_time": "2021-11-02T12:45:42.409Z"
   },
   {
    "duration": 1089,
    "start_time": "2021-11-02T12:45:43.914Z"
   },
   {
    "duration": 9,
    "start_time": "2021-11-02T12:45:45.005Z"
   },
   {
    "duration": 1119,
    "start_time": "2021-11-02T12:45:45.016Z"
   },
   {
    "duration": 3,
    "start_time": "2021-11-02T12:45:46.137Z"
   },
   {
    "duration": 53,
    "start_time": "2021-11-02T12:45:46.142Z"
   },
   {
    "duration": 18,
    "start_time": "2021-11-02T12:45:46.197Z"
   },
   {
    "duration": 574,
    "start_time": "2021-11-02T12:45:46.218Z"
   },
   {
    "duration": -558,
    "start_time": "2021-11-02T12:45:47.352Z"
   },
   {
    "duration": -600,
    "start_time": "2021-11-02T12:45:47.395Z"
   },
   {
    "duration": 266,
    "start_time": "2021-11-02T12:47:03.607Z"
   },
   {
    "duration": 311,
    "start_time": "2021-11-02T12:47:05.227Z"
   },
   {
    "duration": 3946,
    "start_time": "2021-11-02T12:48:13.368Z"
   },
   {
    "duration": 750,
    "start_time": "2021-11-02T12:48:17.316Z"
   },
   {
    "duration": 10,
    "start_time": "2021-11-02T12:48:18.068Z"
   },
   {
    "duration": 29,
    "start_time": "2021-11-02T12:48:18.080Z"
   },
   {
    "duration": 12,
    "start_time": "2021-11-02T12:48:18.110Z"
   },
   {
    "duration": 40,
    "start_time": "2021-11-02T12:48:18.123Z"
   },
   {
    "duration": 28,
    "start_time": "2021-11-02T12:48:18.165Z"
   },
   {
    "duration": 29,
    "start_time": "2021-11-02T12:48:18.194Z"
   },
   {
    "duration": 2,
    "start_time": "2021-11-02T12:48:18.226Z"
   },
   {
    "duration": 40,
    "start_time": "2021-11-02T12:48:18.230Z"
   },
   {
    "duration": 2,
    "start_time": "2021-11-02T12:48:18.271Z"
   },
   {
    "duration": 588,
    "start_time": "2021-11-02T12:48:18.275Z"
   },
   {
    "duration": 1358,
    "start_time": "2021-11-02T12:48:18.865Z"
   },
   {
    "duration": 1090,
    "start_time": "2021-11-02T12:48:20.225Z"
   },
   {
    "duration": 9,
    "start_time": "2021-11-02T12:48:21.317Z"
   },
   {
    "duration": 1087,
    "start_time": "2021-11-02T12:48:21.328Z"
   },
   {
    "duration": 4,
    "start_time": "2021-11-02T12:48:22.417Z"
   },
   {
    "duration": 48,
    "start_time": "2021-11-02T12:48:22.423Z"
   },
   {
    "duration": 345,
    "start_time": "2021-11-02T12:48:22.472Z"
   },
   {
    "duration": -597,
    "start_time": "2021-11-02T12:48:23.416Z"
   },
   {
    "duration": -600,
    "start_time": "2021-11-02T12:48:23.420Z"
   },
   {
    "duration": -615,
    "start_time": "2021-11-02T12:48:23.437Z"
   },
   {
    "duration": 17,
    "start_time": "2021-11-02T12:48:46.037Z"
   },
   {
    "duration": 298,
    "start_time": "2021-11-02T12:48:48.394Z"
   },
   {
    "duration": 10,
    "start_time": "2021-11-02T12:48:59.894Z"
   },
   {
    "duration": 14,
    "start_time": "2021-11-02T12:49:25.904Z"
   },
   {
    "duration": 20,
    "start_time": "2021-11-02T12:49:31.217Z"
   },
   {
    "duration": 298,
    "start_time": "2021-11-02T12:49:32.791Z"
   },
   {
    "duration": 145342,
    "start_time": "2021-11-02T12:49:44.917Z"
   },
   {
    "duration": 793432,
    "start_time": "2021-11-02T12:52:11.851Z"
   },
   {
    "duration": 4848,
    "start_time": "2021-11-02T13:05:39.701Z"
   },
   {
    "duration": 12401,
    "start_time": "2021-11-02T13:06:17.287Z"
   },
   {
    "duration": 19403,
    "start_time": "2021-11-02T13:06:38.871Z"
   },
   {
    "duration": 70454,
    "start_time": "2021-11-02T13:07:30.433Z"
   },
   {
    "duration": 66331,
    "start_time": "2021-11-02T13:08:51.607Z"
   },
   {
    "duration": 20220,
    "start_time": "2021-11-02T13:13:16.785Z"
   },
   {
    "duration": 19428,
    "start_time": "2021-11-02T13:14:40.318Z"
   },
   {
    "duration": 184594,
    "start_time": "2021-11-02T13:18:37.705Z"
   },
   {
    "duration": 71538,
    "start_time": "2021-11-02T13:21:45.044Z"
   },
   {
    "duration": 187,
    "start_time": "2021-11-02T13:22:56.585Z"
   },
   {
    "duration": 3,
    "start_time": "2021-11-02T13:28:26.792Z"
   },
   {
    "duration": 241,
    "start_time": "2021-11-02T13:29:38.523Z"
   },
   {
    "duration": 12768,
    "start_time": "2021-11-02T13:29:49.119Z"
   },
   {
    "duration": 106,
    "start_time": "2021-11-02T13:31:07.189Z"
   },
   {
    "duration": 309,
    "start_time": "2021-11-02T13:31:10.173Z"
   },
   {
    "duration": 336,
    "start_time": "2021-11-02T13:31:14.245Z"
   },
   {
    "duration": 75,
    "start_time": "2021-11-02T13:32:20.480Z"
   },
   {
    "duration": 427,
    "start_time": "2021-11-02T13:33:12.657Z"
   },
   {
    "duration": 162,
    "start_time": "2021-11-02T13:33:17.803Z"
   },
   {
    "duration": 222429,
    "start_time": "2021-11-02T13:45:14.602Z"
   },
   {
    "duration": 84299,
    "start_time": "2021-11-02T13:48:59.722Z"
   },
   {
    "duration": 1413,
    "start_time": "2021-11-02T13:50:51.451Z"
   },
   {
    "duration": 51073,
    "start_time": "2021-11-02T13:52:41.074Z"
   },
   {
    "duration": 77343,
    "start_time": "2021-11-02T14:06:09.754Z"
   },
   {
    "duration": 1565,
    "start_time": "2021-11-02T14:07:27.099Z"
   },
   {
    "duration": 1545,
    "start_time": "2021-11-02T14:07:28.922Z"
   },
   {
    "duration": 49370,
    "start_time": "2021-11-02T14:09:22.168Z"
   },
   {
    "duration": -762,
    "start_time": "2021-11-02T14:10:12.302Z"
   },
   {
    "duration": -766,
    "start_time": "2021-11-02T14:10:12.307Z"
   },
   {
    "duration": -771,
    "start_time": "2021-11-02T14:10:12.313Z"
   },
   {
    "duration": 80691,
    "start_time": "2021-11-02T14:10:14.308Z"
   },
   {
    "duration": -556,
    "start_time": "2021-11-02T14:11:35.557Z"
   },
   {
    "duration": -560,
    "start_time": "2021-11-02T14:11:35.562Z"
   },
   {
    "duration": -586,
    "start_time": "2021-11-02T14:11:35.589Z"
   },
   {
    "duration": 78216,
    "start_time": "2021-11-02T14:14:19.126Z"
   },
   {
    "duration": 235,
    "start_time": "2021-11-02T14:16:34.782Z"
   },
   {
    "duration": 1464,
    "start_time": "2021-11-02T14:16:44.404Z"
   },
   {
    "duration": 253,
    "start_time": "2021-11-02T14:16:49.585Z"
   },
   {
    "duration": 1335,
    "start_time": "2021-11-02T14:16:54.329Z"
   },
   {
    "duration": 77113,
    "start_time": "2021-11-02T14:17:55.494Z"
   },
   {
    "duration": 76378,
    "start_time": "2021-11-02T14:19:12.609Z"
   },
   {
    "duration": 76986,
    "start_time": "2021-11-02T14:23:14.678Z"
   },
   {
    "duration": 79390,
    "start_time": "2021-11-02T14:24:31.667Z"
   },
   {
    "duration": 81537,
    "start_time": "2021-11-02T14:29:25.902Z"
   },
   {
    "duration": 82127,
    "start_time": "2021-11-02T14:30:47.442Z"
   },
   {
    "duration": 48544,
    "start_time": "2021-11-02T14:33:17.540Z"
   },
   {
    "duration": 3539,
    "start_time": "2021-11-02T14:34:47.795Z"
   },
   {
    "duration": 50791,
    "start_time": "2021-11-02T14:34:57.329Z"
   },
   {
    "duration": 48507,
    "start_time": "2021-11-02T14:36:51.018Z"
   },
   {
    "duration": 376,
    "start_time": "2021-11-03T07:59:46.410Z"
   },
   {
    "duration": 290,
    "start_time": "2021-11-03T07:59:52.900Z"
   },
   {
    "duration": 5038,
    "start_time": "2021-11-03T08:00:08.383Z"
   },
   {
    "duration": 908,
    "start_time": "2021-11-03T08:00:13.425Z"
   },
   {
    "duration": 68,
    "start_time": "2021-11-03T08:00:14.338Z"
   },
   {
    "duration": 12,
    "start_time": "2021-11-03T08:00:14.410Z"
   },
   {
    "duration": 79,
    "start_time": "2021-11-03T08:00:14.425Z"
   },
   {
    "duration": 18,
    "start_time": "2021-11-03T08:00:14.507Z"
   },
   {
    "duration": 47,
    "start_time": "2021-11-03T08:00:14.528Z"
   },
   {
    "duration": 46,
    "start_time": "2021-11-03T08:00:14.579Z"
   },
   {
    "duration": 64,
    "start_time": "2021-11-03T08:00:14.628Z"
   },
   {
    "duration": 12,
    "start_time": "2021-11-03T08:00:14.695Z"
   },
   {
    "duration": 57,
    "start_time": "2021-11-03T08:00:14.710Z"
   },
   {
    "duration": 3,
    "start_time": "2021-11-03T08:00:14.769Z"
   },
   {
    "duration": 1115,
    "start_time": "2021-11-03T08:00:14.775Z"
   },
   {
    "duration": 2079,
    "start_time": "2021-11-03T08:00:15.893Z"
   },
   {
    "duration": 1724,
    "start_time": "2021-11-03T08:00:17.975Z"
   },
   {
    "duration": 11,
    "start_time": "2021-11-03T08:00:19.702Z"
   },
   {
    "duration": 2096,
    "start_time": "2021-11-03T08:00:19.715Z"
   },
   {
    "duration": 5,
    "start_time": "2021-11-03T08:00:21.814Z"
   },
   {
    "duration": 77,
    "start_time": "2021-11-03T08:00:21.822Z"
   },
   {
    "duration": 30,
    "start_time": "2021-11-03T08:00:21.901Z"
   },
   {
    "duration": 102400,
    "start_time": "2021-11-03T08:00:21.933Z"
   },
   {
    "duration": 62479,
    "start_time": "2021-11-03T08:02:04.336Z"
   },
   {
    "duration": 2147,
    "start_time": "2021-11-03T08:03:06.819Z"
   },
   {
    "duration": 83360,
    "start_time": "2021-11-03T08:03:08.971Z"
   },
   {
    "duration": -64,
    "start_time": "2021-11-03T08:04:32.398Z"
   },
   {
    "duration": -68,
    "start_time": "2021-11-03T08:04:32.403Z"
   },
   {
    "duration": -71,
    "start_time": "2021-11-03T08:04:32.408Z"
   },
   {
    "duration": -75,
    "start_time": "2021-11-03T08:04:32.414Z"
   },
   {
    "duration": -78,
    "start_time": "2021-11-03T08:04:32.418Z"
   },
   {
    "duration": -80,
    "start_time": "2021-11-03T08:04:32.422Z"
   },
   {
    "duration": -83,
    "start_time": "2021-11-03T08:04:32.426Z"
   },
   {
    "duration": 93,
    "start_time": "2021-11-03T08:04:34.385Z"
   },
   {
    "duration": 284,
    "start_time": "2021-11-03T08:06:08.976Z"
   },
   {
    "duration": 288,
    "start_time": "2021-11-03T08:06:23.158Z"
   },
   {
    "duration": 332,
    "start_time": "2021-11-03T08:06:27.346Z"
   },
   {
    "duration": 6,
    "start_time": "2021-11-03T08:06:35.605Z"
   },
   {
    "duration": 8,
    "start_time": "2021-11-03T08:06:42.580Z"
   },
   {
    "duration": 1176,
    "start_time": "2021-11-03T08:25:37.735Z"
   },
   {
    "duration": 2135,
    "start_time": "2021-11-03T08:25:54.817Z"
   },
   {
    "duration": 1369,
    "start_time": "2021-11-03T08:26:05.835Z"
   },
   {
    "duration": 1502,
    "start_time": "2021-11-03T08:27:03.638Z"
   },
   {
    "duration": 2070,
    "start_time": "2021-11-03T08:27:09.262Z"
   },
   {
    "duration": 5761,
    "start_time": "2021-11-03T08:28:02.190Z"
   },
   {
    "duration": 935,
    "start_time": "2021-11-03T08:28:07.954Z"
   },
   {
    "duration": 52,
    "start_time": "2021-11-03T08:28:08.892Z"
   },
   {
    "duration": 12,
    "start_time": "2021-11-03T08:28:08.947Z"
   },
   {
    "duration": 49,
    "start_time": "2021-11-03T08:28:08.967Z"
   },
   {
    "duration": 7,
    "start_time": "2021-11-03T08:28:09.018Z"
   },
   {
    "duration": 34,
    "start_time": "2021-11-03T08:28:09.027Z"
   },
   {
    "duration": 107,
    "start_time": "2021-11-03T08:28:09.065Z"
   },
   {
    "duration": 14,
    "start_time": "2021-11-03T08:28:09.175Z"
   },
   {
    "duration": 36,
    "start_time": "2021-11-03T08:28:09.191Z"
   },
   {
    "duration": 1114,
    "start_time": "2021-11-03T08:28:09.230Z"
   },
   {
    "duration": 2762,
    "start_time": "2021-11-03T08:28:10.347Z"
   },
   {
    "duration": 2398,
    "start_time": "2021-11-03T08:28:13.112Z"
   },
   {
    "duration": 15,
    "start_time": "2021-11-03T08:28:15.513Z"
   },
   {
    "duration": 2272,
    "start_time": "2021-11-03T08:28:15.531Z"
   },
   {
    "duration": 4,
    "start_time": "2021-11-03T08:28:17.805Z"
   },
   {
    "duration": 75,
    "start_time": "2021-11-03T08:28:17.812Z"
   },
   {
    "duration": 31,
    "start_time": "2021-11-03T08:28:17.889Z"
   },
   {
    "duration": 104019,
    "start_time": "2021-11-03T08:28:17.923Z"
   },
   {
    "duration": 62730,
    "start_time": "2021-11-03T08:30:01.944Z"
   },
   {
    "duration": 1991,
    "start_time": "2021-11-03T08:31:04.677Z"
   },
   {
    "duration": 103447,
    "start_time": "2021-11-03T08:31:06.670Z"
   },
   {
    "duration": 1559,
    "start_time": "2021-11-03T08:32:50.123Z"
   },
   {
    "duration": 61296,
    "start_time": "2021-11-03T08:32:51.685Z"
   },
   {
    "duration": 98876,
    "start_time": "2021-11-03T08:33:52.983Z"
   },
   {
    "duration": 407,
    "start_time": "2021-11-03T08:35:31.861Z"
   },
   {
    "duration": 16462,
    "start_time": "2021-11-03T08:35:32.271Z"
   },
   {
    "duration": 512,
    "start_time": "2021-11-03T08:35:48.736Z"
   },
   {
    "duration": 76,
    "start_time": "2021-11-03T08:35:49.175Z"
   },
   {
    "duration": 72,
    "start_time": "2021-11-03T08:35:49.181Z"
   },
   {
    "duration": 2213,
    "start_time": "2021-11-03T08:37:20.866Z"
   },
   {
    "duration": 281,
    "start_time": "2021-11-03T09:06:47.038Z"
   },
   {
    "duration": 4,
    "start_time": "2021-11-03T09:07:04.714Z"
   },
   {
    "duration": 306,
    "start_time": "2021-11-03T09:07:07.176Z"
   },
   {
    "duration": 311,
    "start_time": "2021-11-03T09:07:28.530Z"
   },
   {
    "duration": 286,
    "start_time": "2021-11-03T09:52:17.608Z"
   },
   {
    "duration": 103,
    "start_time": "2021-11-03T09:52:49.457Z"
   },
   {
    "duration": 3522,
    "start_time": "2021-11-03T09:53:05.766Z"
   },
   {
    "duration": 7,
    "start_time": "2021-11-03T09:55:22.588Z"
   },
   {
    "duration": 360,
    "start_time": "2021-11-03T09:55:57.669Z"
   },
   {
    "duration": 343,
    "start_time": "2021-11-03T09:56:09.898Z"
   },
   {
    "duration": 960,
    "start_time": "2021-11-03T09:56:12.076Z"
   },
   {
    "duration": 365,
    "start_time": "2021-11-03T09:56:15.695Z"
   },
   {
    "duration": 222652,
    "start_time": "2021-11-03T09:56:22.013Z"
   },
   {
    "duration": 92663,
    "start_time": "2021-11-03T10:00:08.298Z"
   },
   {
    "duration": 6,
    "start_time": "2021-11-03T10:01:48.113Z"
   },
   {
    "duration": 7,
    "start_time": "2021-11-03T10:01:50.222Z"
   },
   {
    "duration": 445483,
    "start_time": "2021-11-03T10:01:54.153Z"
   },
   {
    "duration": 6,
    "start_time": "2021-11-03T10:09:56.783Z"
   },
   {
    "duration": 476327,
    "start_time": "2021-11-03T10:09:58.357Z"
   },
   {
    "duration": 29,
    "start_time": "2021-11-03T10:17:54.687Z"
   },
   {
    "duration": 5,
    "start_time": "2021-11-03T10:17:54.719Z"
   },
   {
    "duration": 508344,
    "start_time": "2021-11-03T10:23:59.200Z"
   },
   {
    "duration": 27,
    "start_time": "2021-11-03T10:32:27.547Z"
   },
   {
    "duration": 7,
    "start_time": "2021-11-03T10:32:27.577Z"
   },
   {
    "duration": 7,
    "start_time": "2021-11-03T11:12:12.335Z"
   },
   {
    "duration": 482,
    "start_time": "2021-11-03T11:12:35.676Z"
   },
   {
    "duration": 702,
    "start_time": "2021-11-03T11:12:44.138Z"
   },
   {
    "duration": 10,
    "start_time": "2021-11-03T11:13:52.207Z"
   },
   {
    "duration": 671,
    "start_time": "2021-11-03T11:13:55.552Z"
   },
   {
    "duration": 7,
    "start_time": "2021-11-03T11:14:13.653Z"
   },
   {
    "duration": 1289,
    "start_time": "2021-11-03T11:14:17.593Z"
   },
   {
    "duration": 9,
    "start_time": "2021-11-03T11:14:33.475Z"
   },
   {
    "duration": 906,
    "start_time": "2021-11-03T11:14:35.004Z"
   },
   {
    "duration": 6,
    "start_time": "2021-11-03T11:14:44.581Z"
   },
   {
    "duration": 242806,
    "start_time": "2021-11-03T11:14:45.929Z"
   },
   {
    "duration": 6,
    "start_time": "2021-11-03T11:19:03.899Z"
   },
   {
    "duration": 24917,
    "start_time": "2021-11-03T11:19:07.245Z"
   },
   {
    "duration": 6,
    "start_time": "2021-11-03T11:19:48.325Z"
   },
   {
    "duration": 599491,
    "start_time": "2021-11-03T11:19:50.657Z"
   },
   {
    "duration": 311,
    "start_time": "2021-11-03T11:30:01.523Z"
   },
   {
    "duration": 34,
    "start_time": "2021-11-03T11:30:26.011Z"
   },
   {
    "duration": 7,
    "start_time": "2021-11-03T11:30:29.668Z"
   },
   {
    "duration": 16,
    "start_time": "2021-11-03T11:30:33.434Z"
   },
   {
    "duration": 302,
    "start_time": "2021-11-03T11:30:37.490Z"
   },
   {
    "duration": 368,
    "start_time": "2021-11-03T11:30:47.076Z"
   },
   {
    "duration": 6,
    "start_time": "2021-11-03T11:31:06.722Z"
   },
   {
    "duration": 2899,
    "start_time": "2021-11-03T11:31:08.141Z"
   },
   {
    "duration": 7,
    "start_time": "2021-11-03T11:32:37.508Z"
   },
   {
    "duration": 10170,
    "start_time": "2021-11-03T11:34:09.363Z"
   },
   {
    "duration": 946,
    "start_time": "2021-11-03T11:34:19.536Z"
   },
   {
    "duration": 53,
    "start_time": "2021-11-03T11:34:20.485Z"
   },
   {
    "duration": 32,
    "start_time": "2021-11-03T11:34:20.541Z"
   },
   {
    "duration": 50,
    "start_time": "2021-11-03T11:34:20.576Z"
   },
   {
    "duration": 7,
    "start_time": "2021-11-03T11:34:20.629Z"
   },
   {
    "duration": 18,
    "start_time": "2021-11-03T11:34:20.667Z"
   },
   {
    "duration": 132,
    "start_time": "2021-11-03T11:34:20.689Z"
   },
   {
    "duration": 15,
    "start_time": "2021-11-03T11:34:20.824Z"
   },
   {
    "duration": 54,
    "start_time": "2021-11-03T11:34:20.842Z"
   },
   {
    "duration": 1019,
    "start_time": "2021-11-03T11:34:20.898Z"
   },
   {
    "duration": 2106,
    "start_time": "2021-11-03T11:34:21.920Z"
   },
   {
    "duration": 1839,
    "start_time": "2021-11-03T11:34:24.028Z"
   },
   {
    "duration": 12,
    "start_time": "2021-11-03T11:34:25.870Z"
   },
   {
    "duration": 2019,
    "start_time": "2021-11-03T11:34:25.885Z"
   },
   {
    "duration": 5,
    "start_time": "2021-11-03T11:34:27.907Z"
   },
   {
    "duration": 28,
    "start_time": "2021-11-03T11:34:27.914Z"
   },
   {
    "duration": 7,
    "start_time": "2021-11-03T11:34:27.967Z"
   },
   {
    "duration": 479932,
    "start_time": "2021-11-03T11:34:27.976Z"
   },
   {
    "duration": 28,
    "start_time": "2021-11-03T11:42:27.911Z"
   },
   {
    "duration": 10,
    "start_time": "2021-11-03T11:42:27.942Z"
   },
   {
    "duration": 6,
    "start_time": "2021-11-03T11:42:27.968Z"
   },
   {
    "duration": 244389,
    "start_time": "2021-11-03T11:42:27.978Z"
   },
   {
    "duration": 26,
    "start_time": "2021-11-03T11:46:32.370Z"
   },
   {
    "duration": 15,
    "start_time": "2021-11-03T11:46:32.399Z"
   },
   {
    "duration": 30,
    "start_time": "2021-11-03T11:46:32.416Z"
   },
   {
    "duration": 396,
    "start_time": "2021-11-03T11:46:32.449Z"
   },
   {
    "duration": 478810,
    "start_time": "2021-11-03T11:46:32.848Z"
   },
   {
    "duration": 26,
    "start_time": "2021-11-03T11:54:31.660Z"
   },
   {
    "duration": 9,
    "start_time": "2021-11-03T11:54:31.689Z"
   },
   {
    "duration": 6,
    "start_time": "2021-11-03T11:54:31.700Z"
   },
   {
    "duration": 247748,
    "start_time": "2021-11-03T11:54:31.709Z"
   },
   {
    "duration": 33,
    "start_time": "2021-11-03T11:58:39.459Z"
   },
   {
    "duration": 5,
    "start_time": "2021-11-03T11:58:39.495Z"
   },
   {
    "duration": 21,
    "start_time": "2021-11-03T11:58:39.503Z"
   },
   {
    "duration": 408,
    "start_time": "2021-11-03T11:58:39.526Z"
   },
   {
    "duration": 389,
    "start_time": "2021-11-03T12:00:31.740Z"
   },
   {
    "duration": 279,
    "start_time": "2021-11-03T12:00:41.383Z"
   },
   {
    "duration": 239,
    "start_time": "2021-11-03T12:00:48.777Z"
   },
   {
    "duration": 356,
    "start_time": "2021-11-03T12:00:53.887Z"
   },
   {
    "duration": 259,
    "start_time": "2021-11-03T12:00:58.269Z"
   },
   {
    "duration": 250,
    "start_time": "2021-11-03T12:01:03.044Z"
   },
   {
    "duration": 245,
    "start_time": "2021-11-03T12:01:12.657Z"
   },
   {
    "duration": 5,
    "start_time": "2021-11-03T12:17:22.541Z"
   },
   {
    "duration": 27,
    "start_time": "2021-11-03T12:17:57.038Z"
   },
   {
    "duration": 5,
    "start_time": "2021-11-03T12:24:31.030Z"
   },
   {
    "duration": 5,
    "start_time": "2021-11-03T12:24:54.574Z"
   },
   {
    "duration": 15697,
    "start_time": "2021-11-04T05:48:35.579Z"
   },
   {
    "duration": 728,
    "start_time": "2021-11-04T05:48:51.278Z"
   },
   {
    "duration": 32,
    "start_time": "2021-11-04T05:48:52.008Z"
   },
   {
    "duration": 8,
    "start_time": "2021-11-04T05:49:47.431Z"
   },
   {
    "duration": 29,
    "start_time": "2021-11-04T05:52:49.258Z"
   },
   {
    "duration": 5,
    "start_time": "2021-11-04T05:52:54.300Z"
   },
   {
    "duration": 9,
    "start_time": "2021-11-04T05:53:18.162Z"
   },
   {
    "duration": 64,
    "start_time": "2021-11-04T05:53:42.631Z"
   },
   {
    "duration": 10,
    "start_time": "2021-11-04T05:53:47.584Z"
   },
   {
    "duration": 20,
    "start_time": "2021-11-04T05:53:49.780Z"
   },
   {
    "duration": 591,
    "start_time": "2021-11-04T05:58:06.386Z"
   },
   {
    "duration": 1267,
    "start_time": "2021-11-04T05:58:08.407Z"
   },
   {
    "duration": 1170,
    "start_time": "2021-11-04T05:58:09.676Z"
   },
   {
    "duration": 7,
    "start_time": "2021-11-04T05:58:10.848Z"
   },
   {
    "duration": 1143,
    "start_time": "2021-11-04T05:58:10.857Z"
   },
   {
    "duration": 3,
    "start_time": "2021-11-04T06:01:26.210Z"
   },
   {
    "duration": 23,
    "start_time": "2021-11-04T06:01:27.721Z"
   },
   {
    "duration": 7,
    "start_time": "2021-11-04T06:02:01.778Z"
   },
   {
    "duration": 4,
    "start_time": "2021-11-04T06:03:48.414Z"
   },
   {
    "duration": 362957,
    "start_time": "2021-11-04T06:04:33.908Z"
   },
   {
    "duration": 17,
    "start_time": "2021-11-04T06:10:36.867Z"
   },
   {
    "duration": 4,
    "start_time": "2021-11-04T06:10:52.019Z"
   },
   {
    "duration": 4,
    "start_time": "2021-11-04T06:12:20.448Z"
   },
   {
    "duration": 174017,
    "start_time": "2021-11-04T06:12:21.745Z"
   },
   {
    "duration": 27,
    "start_time": "2021-11-04T06:15:15.764Z"
   },
   {
    "duration": 3,
    "start_time": "2021-11-04T06:15:15.794Z"
   },
   {
    "duration": 10,
    "start_time": "2021-11-04T06:15:15.799Z"
   },
   {
    "duration": 164,
    "start_time": "2021-11-04T06:15:15.810Z"
   },
   {
    "duration": 399429,
    "start_time": "2021-11-04T06:15:15.976Z"
   },
   {
    "duration": 16,
    "start_time": "2021-11-04T06:21:55.407Z"
   },
   {
    "duration": 7,
    "start_time": "2021-11-04T06:21:55.425Z"
   },
   {
    "duration": 8,
    "start_time": "2021-11-04T06:21:55.433Z"
   },
   {
    "duration": 182732,
    "start_time": "2021-11-04T06:21:55.442Z"
   },
   {
    "duration": 22,
    "start_time": "2021-11-04T06:24:58.175Z"
   },
   {
    "duration": 4,
    "start_time": "2021-11-04T06:24:58.199Z"
   },
   {
    "duration": 9,
    "start_time": "2021-11-04T06:24:58.204Z"
   },
   {
    "duration": 161,
    "start_time": "2021-11-04T06:24:58.214Z"
   },
   {
    "duration": 3,
    "start_time": "2021-11-04T06:24:58.376Z"
   },
   {
    "duration": 551,
    "start_time": "2021-11-04T11:42:08.740Z"
   },
   {
    "duration": 19247,
    "start_time": "2021-11-04T11:42:19.789Z"
   },
   {
    "duration": 830,
    "start_time": "2021-11-04T11:42:39.039Z"
   },
   {
    "duration": 49,
    "start_time": "2021-11-04T11:42:39.872Z"
   },
   {
    "duration": 8,
    "start_time": "2021-11-04T11:42:39.923Z"
   },
   {
    "duration": 32,
    "start_time": "2021-11-04T11:42:39.932Z"
   },
   {
    "duration": 5,
    "start_time": "2021-11-04T11:42:39.965Z"
   },
   {
    "duration": 36,
    "start_time": "2021-11-04T11:42:39.972Z"
   },
   {
    "duration": 73,
    "start_time": "2021-11-04T11:42:40.011Z"
   },
   {
    "duration": 32,
    "start_time": "2021-11-04T11:42:40.087Z"
   },
   {
    "duration": 21,
    "start_time": "2021-11-04T11:42:40.122Z"
   },
   {
    "duration": 687,
    "start_time": "2021-11-04T11:42:40.145Z"
   },
   {
    "duration": 1703,
    "start_time": "2021-11-04T11:42:40.834Z"
   },
   {
    "duration": 1501,
    "start_time": "2021-11-04T11:42:42.539Z"
   },
   {
    "duration": 8,
    "start_time": "2021-11-04T11:42:44.042Z"
   },
   {
    "duration": 1296,
    "start_time": "2021-11-04T11:42:44.051Z"
   },
   {
    "duration": 4,
    "start_time": "2021-11-04T11:42:45.349Z"
   },
   {
    "duration": 27,
    "start_time": "2021-11-04T11:42:45.355Z"
   },
   {
    "duration": 30,
    "start_time": "2021-11-04T11:42:45.384Z"
   },
   {
    "duration": 19,
    "start_time": "2021-11-04T11:42:45.417Z"
   },
   {
    "duration": 401896,
    "start_time": "2021-11-04T11:42:45.438Z"
   },
   {
    "duration": 19,
    "start_time": "2021-11-04T11:49:27.336Z"
   },
   {
    "duration": 4,
    "start_time": "2021-11-04T11:49:27.357Z"
   },
   {
    "duration": 13,
    "start_time": "2021-11-04T11:49:27.363Z"
   },
   {
    "duration": 210404,
    "start_time": "2021-11-04T11:49:27.378Z"
   },
   {
    "duration": 29,
    "start_time": "2021-11-04T11:52:57.784Z"
   },
   {
    "duration": 7,
    "start_time": "2021-11-04T11:52:57.815Z"
   },
   {
    "duration": 11,
    "start_time": "2021-11-04T11:52:57.826Z"
   },
   {
    "duration": 201,
    "start_time": "2021-11-04T11:52:57.839Z"
   },
   {
    "duration": 405543,
    "start_time": "2021-11-04T11:52:58.042Z"
   },
   {
    "duration": 23,
    "start_time": "2021-11-04T11:59:43.587Z"
   },
   {
    "duration": 24,
    "start_time": "2021-11-04T11:59:43.613Z"
   },
   {
    "duration": 11,
    "start_time": "2021-11-04T11:59:43.639Z"
   },
   {
    "duration": 217979,
    "start_time": "2021-11-04T11:59:43.651Z"
   },
   {
    "duration": 20,
    "start_time": "2021-11-04T12:03:21.631Z"
   },
   {
    "duration": 7,
    "start_time": "2021-11-04T12:03:21.652Z"
   },
   {
    "duration": 10,
    "start_time": "2021-11-04T12:03:21.661Z"
   },
   {
    "duration": 190,
    "start_time": "2021-11-04T12:03:21.673Z"
   },
   {
    "duration": 3,
    "start_time": "2021-11-04T12:03:21.865Z"
   },
   {
    "duration": 555,
    "start_time": "2021-11-04T12:03:21.870Z"
   },
   {
    "duration": 608,
    "start_time": "2021-11-04T12:34:42.422Z"
   },
   {
    "duration": 395,
    "start_time": "2021-11-04T12:35:06.217Z"
   },
   {
    "duration": 1055,
    "start_time": "2021-11-04T12:35:23.162Z"
   },
   {
    "duration": 399,
    "start_time": "2021-11-04T12:35:52.832Z"
   },
   {
    "duration": 380,
    "start_time": "2021-11-04T12:36:06.884Z"
   },
   {
    "duration": 8,
    "start_time": "2021-11-04T12:38:35.821Z"
   },
   {
    "duration": 27,
    "start_time": "2021-11-04T12:39:09.079Z"
   },
   {
    "duration": 31,
    "start_time": "2021-11-04T12:39:24.158Z"
   },
   {
    "duration": 373,
    "start_time": "2021-11-04T12:46:50.086Z"
   },
   {
    "duration": 398,
    "start_time": "2021-11-04T12:47:20.099Z"
   },
   {
    "duration": 614,
    "start_time": "2021-11-04T12:47:33.628Z"
   },
   {
    "duration": 7466,
    "start_time": "2021-11-04T12:48:17.789Z"
   },
   {
    "duration": 835,
    "start_time": "2021-11-04T12:48:25.257Z"
   },
   {
    "duration": 57,
    "start_time": "2021-11-04T12:48:26.094Z"
   },
   {
    "duration": 3,
    "start_time": "2021-11-04T12:48:26.153Z"
   },
   {
    "duration": 20,
    "start_time": "2021-11-04T12:48:26.158Z"
   },
   {
    "duration": 65,
    "start_time": "2021-11-04T12:48:26.180Z"
   },
   {
    "duration": 5,
    "start_time": "2021-11-04T12:48:26.247Z"
   },
   {
    "duration": 14,
    "start_time": "2021-11-04T12:48:26.254Z"
   },
   {
    "duration": 99,
    "start_time": "2021-11-04T12:48:26.270Z"
   },
   {
    "duration": 10,
    "start_time": "2021-11-04T12:48:26.371Z"
   },
   {
    "duration": 45,
    "start_time": "2021-11-04T12:48:26.384Z"
   },
   {
    "duration": 683,
    "start_time": "2021-11-04T12:48:26.431Z"
   },
   {
    "duration": 1493,
    "start_time": "2021-11-04T12:48:27.119Z"
   },
   {
    "duration": 1408,
    "start_time": "2021-11-04T12:48:28.615Z"
   },
   {
    "duration": 8,
    "start_time": "2021-11-04T12:48:30.025Z"
   },
   {
    "duration": 1425,
    "start_time": "2021-11-04T12:48:30.035Z"
   },
   {
    "duration": 7,
    "start_time": "2021-11-04T12:48:31.462Z"
   },
   {
    "duration": 515,
    "start_time": "2021-11-04T12:48:31.471Z"
   },
   {
    "duration": 554,
    "start_time": "2021-11-04T12:48:31.436Z"
   },
   {
    "duration": 543,
    "start_time": "2021-11-04T12:48:31.448Z"
   },
   {
    "duration": 526,
    "start_time": "2021-11-04T12:48:31.467Z"
   },
   {
    "duration": 516,
    "start_time": "2021-11-04T12:48:31.478Z"
   },
   {
    "duration": 494,
    "start_time": "2021-11-04T12:48:31.502Z"
   },
   {
    "duration": 485,
    "start_time": "2021-11-04T12:48:31.513Z"
   },
   {
    "duration": 466,
    "start_time": "2021-11-04T12:48:31.533Z"
   },
   {
    "duration": 453,
    "start_time": "2021-11-04T12:48:31.548Z"
   },
   {
    "duration": 434,
    "start_time": "2021-11-04T12:48:31.568Z"
   },
   {
    "duration": 425,
    "start_time": "2021-11-04T12:48:31.579Z"
   },
   {
    "duration": 421,
    "start_time": "2021-11-04T12:48:31.585Z"
   },
   {
    "duration": 417,
    "start_time": "2021-11-04T12:48:31.591Z"
   },
   {
    "duration": 410,
    "start_time": "2021-11-04T12:48:31.600Z"
   },
   {
    "duration": 405,
    "start_time": "2021-11-04T12:48:31.606Z"
   },
   {
    "duration": 400,
    "start_time": "2021-11-04T12:48:31.613Z"
   },
   {
    "duration": 396,
    "start_time": "2021-11-04T12:48:31.619Z"
   },
   {
    "duration": 391,
    "start_time": "2021-11-04T12:48:31.625Z"
   },
   {
    "duration": 387,
    "start_time": "2021-11-04T12:48:31.631Z"
   },
   {
    "duration": 383,
    "start_time": "2021-11-04T12:48:31.637Z"
   },
   {
    "duration": 377,
    "start_time": "2021-11-04T12:48:31.644Z"
   },
   {
    "duration": 374,
    "start_time": "2021-11-04T12:48:31.649Z"
   },
   {
    "duration": 368,
    "start_time": "2021-11-04T12:48:31.656Z"
   },
   {
    "duration": 362,
    "start_time": "2021-11-04T12:48:31.663Z"
   },
   {
    "duration": 545,
    "start_time": "2021-11-04T12:51:22.240Z"
   },
   {
    "duration": 345,
    "start_time": "2021-11-04T12:51:44.707Z"
   },
   {
    "duration": 3,
    "start_time": "2021-11-04T13:05:21.778Z"
   },
   {
    "duration": 3,
    "start_time": "2021-11-04T13:07:30.419Z"
   },
   {
    "duration": 20,
    "start_time": "2021-11-04T13:07:32.325Z"
   },
   {
    "duration": 6,
    "start_time": "2021-11-04T13:07:57.381Z"
   },
   {
    "duration": 415,
    "start_time": "2021-11-04T13:18:04.281Z"
   },
   {
    "duration": 7,
    "start_time": "2021-11-04T13:18:18.613Z"
   },
   {
    "duration": 7,
    "start_time": "2021-11-04T13:18:46.830Z"
   },
   {
    "duration": 6360,
    "start_time": "2021-11-05T11:03:45.477Z"
   },
   {
    "duration": 714,
    "start_time": "2021-11-05T11:03:51.839Z"
   },
   {
    "duration": 32,
    "start_time": "2021-11-05T11:03:52.563Z"
   },
   {
    "duration": 15,
    "start_time": "2021-11-05T11:03:57.058Z"
   },
   {
    "duration": 30,
    "start_time": "2021-11-05T11:03:59.446Z"
   },
   {
    "duration": 5,
    "start_time": "2021-11-05T11:04:09.250Z"
   },
   {
    "duration": 13,
    "start_time": "2021-11-05T11:04:12.390Z"
   },
   {
    "duration": 68,
    "start_time": "2021-11-05T11:04:14.460Z"
   },
   {
    "duration": 11,
    "start_time": "2021-11-05T11:04:17.596Z"
   },
   {
    "duration": 19,
    "start_time": "2021-11-05T11:04:19.710Z"
   },
   {
    "duration": 586,
    "start_time": "2021-11-05T11:04:40.367Z"
   },
   {
    "duration": 1367,
    "start_time": "2021-11-05T11:04:45.111Z"
   },
   {
    "duration": 1154,
    "start_time": "2021-11-05T11:04:48.472Z"
   },
   {
    "duration": 7,
    "start_time": "2021-11-05T11:04:53.295Z"
   },
   {
    "duration": 1096,
    "start_time": "2021-11-05T11:04:55.903Z"
   },
   {
    "duration": 500,
    "start_time": "2021-11-05T11:05:04.459Z"
   },
   {
    "duration": 7,
    "start_time": "2021-11-05T11:05:17.302Z"
   },
   {
    "duration": 34,
    "start_time": "2021-11-05T11:05:58.502Z"
   },
   {
    "duration": 33,
    "start_time": "2021-11-05T11:07:31.819Z"
   },
   {
    "duration": 40,
    "start_time": "2021-11-05T11:07:43.399Z"
   },
   {
    "duration": 557,
    "start_time": "2021-11-05T11:09:41.212Z"
   },
   {
    "duration": 269,
    "start_time": "2021-11-05T11:09:53.447Z"
   },
   {
    "duration": 33,
    "start_time": "2021-11-05T11:10:19.879Z"
   },
   {
    "duration": 32,
    "start_time": "2021-11-05T11:10:29.354Z"
   },
   {
    "duration": 6549,
    "start_time": "2021-11-05T11:11:30.836Z"
   },
   {
    "duration": 736,
    "start_time": "2021-11-05T11:11:37.387Z"
   },
   {
    "duration": 16,
    "start_time": "2021-11-05T11:11:39.480Z"
   },
   {
    "duration": 32,
    "start_time": "2021-11-05T11:11:41.023Z"
   },
   {
    "duration": 7,
    "start_time": "2021-11-05T11:11:43.660Z"
   },
   {
    "duration": 13,
    "start_time": "2021-11-05T11:11:46.086Z"
   },
   {
    "duration": 66,
    "start_time": "2021-11-05T11:11:48.064Z"
   },
   {
    "duration": 21,
    "start_time": "2021-11-05T11:11:51.878Z"
   },
   {
    "duration": 9,
    "start_time": "2021-11-05T11:12:02.849Z"
   },
   {
    "duration": 43,
    "start_time": "2021-11-05T11:12:06.871Z"
   },
   {
    "duration": 14,
    "start_time": "2021-11-05T11:12:18.472Z"
   },
   {
    "duration": 17,
    "start_time": "2021-11-05T11:13:03.125Z"
   },
   {
    "duration": 17,
    "start_time": "2021-11-05T11:13:05.562Z"
   },
   {
    "duration": 6650,
    "start_time": "2021-11-05T11:13:16.706Z"
   },
   {
    "duration": 788,
    "start_time": "2021-11-05T11:13:23.358Z"
   },
   {
    "duration": 16,
    "start_time": "2021-11-05T11:13:24.979Z"
   },
   {
    "duration": 5,
    "start_time": "2021-11-05T11:13:36.269Z"
   },
   {
    "duration": 62,
    "start_time": "2021-11-05T11:13:41.308Z"
   },
   {
    "duration": 12,
    "start_time": "2021-11-05T11:13:52.502Z"
   },
   {
    "duration": 32,
    "start_time": "2021-11-05T11:13:55.736Z"
   },
   {
    "duration": 16,
    "start_time": "2021-11-05T11:13:58.332Z"
   },
   {
    "duration": 7787,
    "start_time": "2021-11-05T11:16:46.700Z"
   },
   {
    "duration": 753,
    "start_time": "2021-11-05T11:16:54.489Z"
   },
   {
    "duration": 19,
    "start_time": "2021-11-05T11:16:55.244Z"
   },
   {
    "duration": 12,
    "start_time": "2021-11-05T11:16:58.248Z"
   },
   {
    "duration": 69,
    "start_time": "2021-11-05T11:17:01.034Z"
   },
   {
    "duration": 21,
    "start_time": "2021-11-05T11:17:04.710Z"
   },
   {
    "duration": 9,
    "start_time": "2021-11-05T11:17:11.876Z"
   },
   {
    "duration": 27,
    "start_time": "2021-11-05T11:17:15.502Z"
   },
   {
    "duration": 16,
    "start_time": "2021-11-05T11:17:20.154Z"
   },
   {
    "duration": 8439,
    "start_time": "2021-11-05T11:18:29.624Z"
   },
   {
    "duration": 1808,
    "start_time": "2021-11-05T11:18:36.256Z"
   },
   {
    "duration": 337,
    "start_time": "2021-11-05T11:26:55.999Z"
   },
   {
    "duration": 6456,
    "start_time": "2021-11-05T11:27:02.816Z"
   },
   {
    "duration": 706,
    "start_time": "2021-11-05T11:27:09.274Z"
   },
   {
    "duration": 15,
    "start_time": "2021-11-05T11:27:09.982Z"
   },
   {
    "duration": 13,
    "start_time": "2021-11-05T11:27:13.378Z"
   },
   {
    "duration": 81,
    "start_time": "2021-11-05T11:27:17.085Z"
   },
   {
    "duration": 15,
    "start_time": "2021-11-05T11:27:19.930Z"
   },
   {
    "duration": 6356,
    "start_time": "2021-11-05T11:27:30.125Z"
   },
   {
    "duration": 6280,
    "start_time": "2021-11-05T11:27:57.046Z"
   },
   {
    "duration": 9,
    "start_time": "2021-11-05T11:29:10.983Z"
   },
   {
    "duration": 17,
    "start_time": "2021-11-05T11:29:17.101Z"
   },
   {
    "duration": 14,
    "start_time": "2021-11-05T11:29:19.395Z"
   },
   {
    "duration": 1215,
    "start_time": "2021-11-05T11:30:39.748Z"
   },
   {
    "duration": 14,
    "start_time": "2021-11-05T11:31:00.727Z"
   },
   {
    "duration": 1304,
    "start_time": "2021-11-05T11:31:04.313Z"
   },
   {
    "duration": 1112,
    "start_time": "2021-11-05T11:31:50.537Z"
   },
   {
    "duration": 1298,
    "start_time": "2021-11-05T11:32:09.506Z"
   },
   {
    "duration": 6411,
    "start_time": "2021-11-05T11:41:06.087Z"
   },
   {
    "duration": 779,
    "start_time": "2021-11-05T11:41:12.500Z"
   },
   {
    "duration": 33,
    "start_time": "2021-11-05T11:41:13.281Z"
   },
   {
    "duration": 2,
    "start_time": "2021-11-05T11:41:13.317Z"
   },
   {
    "duration": 45,
    "start_time": "2021-11-05T11:41:13.321Z"
   },
   {
    "duration": 31,
    "start_time": "2021-11-05T11:41:13.368Z"
   },
   {
    "duration": 6,
    "start_time": "2021-11-05T11:41:13.401Z"
   },
   {
    "duration": 13,
    "start_time": "2021-11-05T11:41:13.409Z"
   },
   {
    "duration": 114,
    "start_time": "2021-11-05T11:41:13.426Z"
   },
   {
    "duration": 22,
    "start_time": "2021-11-05T11:41:13.543Z"
   },
   {
    "duration": 21,
    "start_time": "2021-11-05T11:41:13.567Z"
   },
   {
    "duration": 619,
    "start_time": "2021-11-05T11:41:13.590Z"
   },
   {
    "duration": 1380,
    "start_time": "2021-11-05T11:41:14.211Z"
   },
   {
    "duration": 1241,
    "start_time": "2021-11-05T11:41:15.593Z"
   },
   {
    "duration": 9,
    "start_time": "2021-11-05T11:41:16.836Z"
   },
   {
    "duration": 1247,
    "start_time": "2021-11-05T11:41:16.847Z"
   },
   {
    "duration": 12,
    "start_time": "2021-11-05T11:41:18.096Z"
   },
   {
    "duration": 1163,
    "start_time": "2021-11-05T11:41:18.110Z"
   },
   {
    "duration": 4,
    "start_time": "2021-11-05T11:41:19.275Z"
   },
   {
    "duration": 29,
    "start_time": "2021-11-05T11:41:19.280Z"
   },
   {
    "duration": 10,
    "start_time": "2021-11-05T11:41:19.311Z"
   },
   {
    "duration": 185,
    "start_time": "2021-11-05T11:41:19.323Z"
   },
   {
    "duration": 40996,
    "start_time": "2021-11-05T11:41:19.509Z"
   },
   {
    "duration": -541,
    "start_time": "2021-11-05T11:42:01.049Z"
   },
   {
    "duration": -544,
    "start_time": "2021-11-05T11:42:01.053Z"
   },
   {
    "duration": -546,
    "start_time": "2021-11-05T11:42:01.057Z"
   },
   {
    "duration": -585,
    "start_time": "2021-11-05T11:42:01.098Z"
   },
   {
    "duration": -588,
    "start_time": "2021-11-05T11:42:01.102Z"
   },
   {
    "duration": -589,
    "start_time": "2021-11-05T11:42:01.105Z"
   },
   {
    "duration": -591,
    "start_time": "2021-11-05T11:42:01.108Z"
   },
   {
    "duration": -594,
    "start_time": "2021-11-05T11:42:01.113Z"
   },
   {
    "duration": -595,
    "start_time": "2021-11-05T11:42:01.116Z"
   },
   {
    "duration": -598,
    "start_time": "2021-11-05T11:42:01.120Z"
   },
   {
    "duration": -599,
    "start_time": "2021-11-05T11:42:01.123Z"
   },
   {
    "duration": -602,
    "start_time": "2021-11-05T11:42:01.127Z"
   },
   {
    "duration": -603,
    "start_time": "2021-11-05T11:42:01.130Z"
   },
   {
    "duration": -605,
    "start_time": "2021-11-05T11:42:01.133Z"
   },
   {
    "duration": -608,
    "start_time": "2021-11-05T11:42:01.137Z"
   },
   {
    "duration": -611,
    "start_time": "2021-11-05T11:42:01.142Z"
   },
   {
    "duration": -613,
    "start_time": "2021-11-05T11:42:01.145Z"
   },
   {
    "duration": -615,
    "start_time": "2021-11-05T11:42:01.149Z"
   },
   {
    "duration": -617,
    "start_time": "2021-11-05T11:42:01.152Z"
   },
   {
    "duration": -619,
    "start_time": "2021-11-05T11:42:01.156Z"
   },
   {
    "duration": -622,
    "start_time": "2021-11-05T11:42:01.160Z"
   },
   {
    "duration": 261,
    "start_time": "2021-11-05T11:45:56.001Z"
   },
   {
    "duration": 34,
    "start_time": "2021-11-05T11:46:45.591Z"
   },
   {
    "duration": 39,
    "start_time": "2021-11-05T11:47:50.495Z"
   },
   {
    "duration": 24,
    "start_time": "2021-11-05T11:48:01.435Z"
   },
   {
    "duration": 3,
    "start_time": "2021-11-05T11:48:10.675Z"
   },
   {
    "duration": 19,
    "start_time": "2021-11-05T11:48:12.371Z"
   },
   {
    "duration": 4,
    "start_time": "2021-11-05T11:48:14.157Z"
   },
   {
    "duration": 21,
    "start_time": "2021-11-05T11:48:24.517Z"
   },
   {
    "duration": 21,
    "start_time": "2021-11-05T11:49:49.021Z"
   },
   {
    "duration": 312,
    "start_time": "2021-11-05T11:49:57.226Z"
   },
   {
    "duration": 18,
    "start_time": "2021-11-05T11:50:11.624Z"
   },
   {
    "duration": 20,
    "start_time": "2021-11-05T11:50:18.631Z"
   },
   {
    "duration": 5,
    "start_time": "2021-11-05T11:50:20.437Z"
   },
   {
    "duration": 6554,
    "start_time": "2021-11-05T11:51:13.686Z"
   },
   {
    "duration": 782,
    "start_time": "2021-11-05T11:51:20.242Z"
   },
   {
    "duration": 44,
    "start_time": "2021-11-05T11:51:21.026Z"
   },
   {
    "duration": 3,
    "start_time": "2021-11-05T11:51:21.072Z"
   },
   {
    "duration": 20,
    "start_time": "2021-11-05T11:51:21.076Z"
   },
   {
    "duration": 36,
    "start_time": "2021-11-05T11:51:21.097Z"
   },
   {
    "duration": 5,
    "start_time": "2021-11-05T11:51:21.135Z"
   },
   {
    "duration": 28,
    "start_time": "2021-11-05T11:51:21.142Z"
   },
   {
    "duration": 95,
    "start_time": "2021-11-05T11:51:21.173Z"
   },
   {
    "duration": 11,
    "start_time": "2021-11-05T11:51:21.270Z"
   },
   {
    "duration": 40,
    "start_time": "2021-11-05T11:51:21.283Z"
   },
   {
    "duration": 585,
    "start_time": "2021-11-05T11:51:21.325Z"
   },
   {
    "duration": 1371,
    "start_time": "2021-11-05T11:51:21.912Z"
   },
   {
    "duration": 1147,
    "start_time": "2021-11-05T11:51:23.285Z"
   },
   {
    "duration": 9,
    "start_time": "2021-11-05T11:51:24.433Z"
   },
   {
    "duration": 1127,
    "start_time": "2021-11-05T11:51:24.444Z"
   },
   {
    "duration": 12,
    "start_time": "2021-11-05T11:51:25.573Z"
   },
   {
    "duration": 1135,
    "start_time": "2021-11-05T11:51:25.587Z"
   },
   {
    "duration": 18,
    "start_time": "2021-11-05T11:51:26.724Z"
   },
   {
    "duration": 168,
    "start_time": "2021-11-05T11:51:26.744Z"
   },
   {
    "duration": 31,
    "start_time": "2021-11-05T11:51:26.914Z"
   },
   {
    "duration": 8,
    "start_time": "2021-11-05T11:51:26.947Z"
   },
   {
    "duration": 9,
    "start_time": "2021-11-05T11:51:26.957Z"
   },
   {
    "duration": 361907,
    "start_time": "2021-11-05T11:51:26.968Z"
   },
   {
    "duration": 16,
    "start_time": "2021-11-05T11:57:28.877Z"
   },
   {
    "duration": 7,
    "start_time": "2021-11-05T11:57:28.895Z"
   },
   {
    "duration": 4,
    "start_time": "2021-11-05T11:57:28.906Z"
   },
   {
    "duration": 157518,
    "start_time": "2021-11-05T11:57:28.912Z"
   },
   {
    "duration": 18,
    "start_time": "2021-11-05T12:00:06.432Z"
   },
   {
    "duration": 15,
    "start_time": "2021-11-05T12:00:06.451Z"
   },
   {
    "duration": 11,
    "start_time": "2021-11-05T12:00:06.468Z"
   },
   {
    "duration": 171,
    "start_time": "2021-11-05T12:00:06.481Z"
   },
   {
    "duration": 381152,
    "start_time": "2021-11-05T12:00:06.654Z"
   },
   {
    "duration": 19,
    "start_time": "2021-11-05T12:06:27.808Z"
   },
   {
    "duration": 5,
    "start_time": "2021-11-05T12:06:27.830Z"
   },
   {
    "duration": 5,
    "start_time": "2021-11-05T12:06:27.837Z"
   },
   {
    "duration": 176232,
    "start_time": "2021-11-05T12:06:27.844Z"
   },
   {
    "duration": 18,
    "start_time": "2021-11-05T12:09:24.078Z"
   },
   {
    "duration": 4,
    "start_time": "2021-11-05T12:09:24.098Z"
   },
   {
    "duration": 12,
    "start_time": "2021-11-05T12:09:24.103Z"
   },
   {
    "duration": 171,
    "start_time": "2021-11-05T12:09:24.117Z"
   },
   {
    "duration": 4,
    "start_time": "2021-11-05T12:09:24.289Z"
   },
   {
    "duration": 11,
    "start_time": "2021-11-05T12:09:24.294Z"
   },
   {
    "duration": 9,
    "start_time": "2021-11-05T12:09:24.306Z"
   },
   {
    "duration": 7,
    "start_time": "2021-11-05T12:09:24.316Z"
   },
   {
    "duration": 4,
    "start_time": "2021-11-05T12:15:11.738Z"
   },
   {
    "duration": 4,
    "start_time": "2021-11-05T12:15:18.879Z"
   },
   {
    "duration": 7,
    "start_time": "2021-11-05T12:20:23.824Z"
   },
   {
    "duration": 6,
    "start_time": "2021-11-05T12:20:25.161Z"
   },
   {
    "duration": 8,
    "start_time": "2021-11-05T12:21:26.719Z"
   },
   {
    "duration": 6,
    "start_time": "2021-11-05T12:21:53.337Z"
   },
   {
    "duration": 6,
    "start_time": "2021-11-05T12:21:57.561Z"
   },
   {
    "duration": 6,
    "start_time": "2021-11-05T12:22:38.123Z"
   },
   {
    "duration": 7,
    "start_time": "2021-11-05T12:22:44.071Z"
   },
   {
    "duration": 5,
    "start_time": "2021-11-05T12:25:54.055Z"
   },
   {
    "duration": 4,
    "start_time": "2021-11-05T12:26:30.293Z"
   },
   {
    "duration": 4,
    "start_time": "2021-11-05T12:27:04.961Z"
   },
   {
    "duration": 4,
    "start_time": "2021-11-05T12:27:13.544Z"
   },
   {
    "duration": 239103,
    "start_time": "2021-11-06T09:25:22.998Z"
   },
   {
    "duration": 12167,
    "start_time": "2022-03-21T08:45:28.700Z"
   },
   {
    "duration": 721,
    "start_time": "2022-03-21T08:45:40.869Z"
   },
   {
    "duration": 34,
    "start_time": "2022-03-21T08:45:41.591Z"
   },
   {
    "duration": 2,
    "start_time": "2022-03-21T08:45:41.626Z"
   },
   {
    "duration": 13,
    "start_time": "2022-03-21T08:45:41.630Z"
   },
   {
    "duration": 27,
    "start_time": "2022-03-21T08:45:41.645Z"
   },
   {
    "duration": 4,
    "start_time": "2022-03-21T08:45:41.674Z"
   },
   {
    "duration": 31,
    "start_time": "2022-03-21T08:45:41.679Z"
   },
   {
    "duration": 60,
    "start_time": "2022-03-21T08:45:41.712Z"
   },
   {
    "duration": 9,
    "start_time": "2022-03-21T08:45:41.775Z"
   },
   {
    "duration": 24,
    "start_time": "2022-03-21T08:45:41.800Z"
   },
   {
    "duration": 457,
    "start_time": "2022-03-21T08:45:41.825Z"
   },
   {
    "duration": 1013,
    "start_time": "2022-03-21T08:45:42.284Z"
   },
   {
    "duration": 820,
    "start_time": "2022-03-21T08:45:43.298Z"
   },
   {
    "duration": 8,
    "start_time": "2022-03-21T08:45:44.120Z"
   },
   {
    "duration": 780,
    "start_time": "2022-03-21T08:45:44.129Z"
   },
   {
    "duration": 11,
    "start_time": "2022-03-21T08:45:44.910Z"
   },
   {
    "duration": 860,
    "start_time": "2022-03-21T08:45:44.922Z"
   },
   {
    "duration": 28,
    "start_time": "2022-03-21T08:45:45.783Z"
   },
   {
    "duration": 3,
    "start_time": "2022-03-21T08:45:45.813Z"
   },
   {
    "duration": 21,
    "start_time": "2022-03-21T08:45:45.818Z"
   },
   {
    "duration": 4,
    "start_time": "2022-03-21T08:45:45.841Z"
   },
   {
    "duration": 4,
    "start_time": "2022-03-21T08:45:45.847Z"
   },
   {
    "duration": 123879,
    "start_time": "2022-03-21T08:45:45.852Z"
   },
   {
    "duration": 0,
    "start_time": "2022-03-21T08:47:49.734Z"
   },
   {
    "duration": 0,
    "start_time": "2022-03-21T08:47:49.735Z"
   },
   {
    "duration": 0,
    "start_time": "2022-03-21T08:47:49.736Z"
   },
   {
    "duration": 0,
    "start_time": "2022-03-21T08:47:49.737Z"
   },
   {
    "duration": 0,
    "start_time": "2022-03-21T08:47:49.738Z"
   },
   {
    "duration": 0,
    "start_time": "2022-03-21T08:47:49.739Z"
   },
   {
    "duration": 0,
    "start_time": "2022-03-21T08:47:49.741Z"
   },
   {
    "duration": 0,
    "start_time": "2022-03-21T08:47:49.742Z"
   },
   {
    "duration": 0,
    "start_time": "2022-03-21T08:47:49.743Z"
   },
   {
    "duration": 0,
    "start_time": "2022-03-21T08:47:49.744Z"
   },
   {
    "duration": 0,
    "start_time": "2022-03-21T08:47:49.744Z"
   },
   {
    "duration": 0,
    "start_time": "2022-03-21T08:47:49.745Z"
   },
   {
    "duration": 0,
    "start_time": "2022-03-21T08:47:49.746Z"
   },
   {
    "duration": 0,
    "start_time": "2022-03-21T08:47:49.747Z"
   },
   {
    "duration": 0,
    "start_time": "2022-03-21T08:47:49.748Z"
   },
   {
    "duration": 0,
    "start_time": "2022-03-21T08:47:49.749Z"
   },
   {
    "duration": 0,
    "start_time": "2022-03-21T08:47:49.749Z"
   },
   {
    "duration": 0,
    "start_time": "2022-03-21T08:47:49.750Z"
   },
   {
    "duration": 0,
    "start_time": "2022-03-21T08:47:49.751Z"
   },
   {
    "duration": 0,
    "start_time": "2022-03-21T08:47:49.752Z"
   },
   {
    "duration": 0,
    "start_time": "2022-03-21T08:47:49.753Z"
   },
   {
    "duration": 7085,
    "start_time": "2022-03-21T08:50:14.719Z"
   },
   {
    "duration": 743,
    "start_time": "2022-03-21T08:50:21.806Z"
   },
   {
    "duration": 33,
    "start_time": "2022-03-21T08:50:22.551Z"
   },
   {
    "duration": 15,
    "start_time": "2022-03-21T08:50:22.586Z"
   },
   {
    "duration": 14,
    "start_time": "2022-03-21T08:50:22.603Z"
   },
   {
    "duration": 32,
    "start_time": "2022-03-21T08:50:22.619Z"
   },
   {
    "duration": 5,
    "start_time": "2022-03-21T08:50:22.652Z"
   },
   {
    "duration": 15,
    "start_time": "2022-03-21T08:50:22.659Z"
   },
   {
    "duration": 90,
    "start_time": "2022-03-21T08:50:22.675Z"
   },
   {
    "duration": 8,
    "start_time": "2022-03-21T08:50:22.768Z"
   },
   {
    "duration": 35,
    "start_time": "2022-03-21T08:50:22.778Z"
   },
   {
    "duration": 460,
    "start_time": "2022-03-21T08:50:22.815Z"
   },
   {
    "duration": 1084,
    "start_time": "2022-03-21T08:50:23.277Z"
   },
   {
    "duration": 760,
    "start_time": "2022-03-21T08:50:24.363Z"
   },
   {
    "duration": 9,
    "start_time": "2022-03-21T08:50:25.125Z"
   },
   {
    "duration": 803,
    "start_time": "2022-03-21T08:50:25.135Z"
   },
   {
    "duration": 10,
    "start_time": "2022-03-21T08:50:25.939Z"
   },
   {
    "duration": 955,
    "start_time": "2022-03-21T08:50:25.951Z"
   },
   {
    "duration": 24,
    "start_time": "2022-03-21T08:50:26.908Z"
   },
   {
    "duration": 4,
    "start_time": "2022-03-21T08:50:26.934Z"
   },
   {
    "duration": 20,
    "start_time": "2022-03-21T08:50:26.940Z"
   },
   {
    "duration": 4,
    "start_time": "2022-03-21T08:50:26.963Z"
   },
   {
    "duration": 34,
    "start_time": "2022-03-21T08:50:26.969Z"
   },
   {
    "duration": 142512,
    "start_time": "2022-03-21T08:50:27.005Z"
   },
   {
    "duration": 14,
    "start_time": "2022-03-21T08:52:49.519Z"
   },
   {
    "duration": 5,
    "start_time": "2022-03-21T08:52:49.534Z"
   },
   {
    "duration": 5,
    "start_time": "2022-03-21T08:52:49.540Z"
   },
   {
    "duration": 152071,
    "start_time": "2022-03-21T08:52:49.548Z"
   },
   {
    "duration": 17,
    "start_time": "2022-03-21T08:55:21.620Z"
   },
   {
    "duration": 3,
    "start_time": "2022-03-21T08:55:21.639Z"
   },
   {
    "duration": 11,
    "start_time": "2022-03-21T08:55:21.643Z"
   },
   {
    "duration": 135,
    "start_time": "2022-03-21T08:55:21.656Z"
   },
   {
    "duration": 138206,
    "start_time": "2022-03-21T08:55:21.792Z"
   },
   {
    "duration": 17,
    "start_time": "2022-03-21T08:57:40.000Z"
   },
   {
    "duration": 11,
    "start_time": "2022-03-21T08:57:40.019Z"
   },
   {
    "duration": 6,
    "start_time": "2022-03-21T08:57:40.032Z"
   },
   {
    "duration": 173694,
    "start_time": "2022-03-21T08:57:40.040Z"
   },
   {
    "duration": 14,
    "start_time": "2022-03-21T09:00:33.736Z"
   },
   {
    "duration": 6,
    "start_time": "2022-03-21T09:00:33.752Z"
   },
   {
    "duration": 11,
    "start_time": "2022-03-21T09:00:33.759Z"
   },
   {
    "duration": 119,
    "start_time": "2022-03-21T09:00:33.772Z"
   },
   {
    "duration": 11,
    "start_time": "2022-03-21T09:00:33.893Z"
   },
   {
    "duration": 9,
    "start_time": "2022-03-21T09:00:33.906Z"
   },
   {
    "duration": 11,
    "start_time": "2022-03-21T09:00:33.917Z"
   },
   {
    "duration": 4,
    "start_time": "2022-03-21T09:00:33.930Z"
   },
   {
    "duration": 6,
    "start_time": "2022-03-21T09:02:16.805Z"
   },
   {
    "duration": 7,
    "start_time": "2022-03-21T09:02:17.390Z"
   },
   {
    "duration": 4,
    "start_time": "2022-03-21T09:02:36.086Z"
   }
  ],
  "kernelspec": {
   "display_name": "Python 3",
   "language": "python",
   "name": "python3"
  },
  "language_info": {
   "codemirror_mode": {
    "name": "ipython",
    "version": 3
   },
   "file_extension": ".py",
   "mimetype": "text/x-python",
   "name": "python",
   "nbconvert_exporter": "python",
   "pygments_lexer": "ipython3",
   "version": "3.8.8"
  },
  "toc": {
   "base_numbering": 1,
   "nav_menu": {},
   "number_sections": true,
   "sideBar": true,
   "skip_h1_title": true,
   "title_cell": "Содержание",
   "title_sidebar": "Contents",
   "toc_cell": true,
   "toc_position": {},
   "toc_section_display": true,
   "toc_window_display": true
  }
 },
 "nbformat": 4,
 "nbformat_minor": 2
}
