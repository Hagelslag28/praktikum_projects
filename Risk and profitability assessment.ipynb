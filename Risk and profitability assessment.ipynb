{
 "cells": [
  {
   "cell_type": "markdown",
   "metadata": {},
   "source": [
    "## Step 1. Loading and preparing data"
   ]
  },
  {
   "cell_type": "markdown",
   "metadata": {},
   "source": [
    "Install all required packages for the project."
   ]
  },
  {
   "cell_type": "code",
   "execution_count": 1,
   "metadata": {},
   "outputs": [],
   "source": [
    "import pandas as pd\n",
    "import numpy as np\n",
    "import math\n",
    "from sklearn.model_selection import train_test_split\n",
    "from sklearn.linear_model import LinearRegression\n",
    "from sklearn.metrics import mean_squared_error"
   ]
  },
  {
   "cell_type": "markdown",
   "metadata": {},
   "source": [
    "Let's create dataframes for each region and look at the results for them"
   ]
  },
  {
   "cell_type": "code",
   "execution_count": 2,
   "metadata": {},
   "outputs": [
    {
     "name": "stdout",
     "output_type": "stream",
     "text": [
      "<class 'pandas.core.frame.DataFrame'>\n",
      "RangeIndex: 100000 entries, 0 to 99999\n",
      "Data columns (total 5 columns):\n",
      " #   Column   Non-Null Count   Dtype  \n",
      "---  ------   --------------   -----  \n",
      " 0   id       100000 non-null  object \n",
      " 1   f0       100000 non-null  float64\n",
      " 2   f1       100000 non-null  float64\n",
      " 3   f2       100000 non-null  float64\n",
      " 4   product  100000 non-null  float64\n",
      "dtypes: float64(4), object(1)\n",
      "memory usage: 3.8+ MB\n",
      "None\n",
      "      id        f0        f1        f2     product\n",
      "0  txEyH  0.705745 -0.497823  1.221170  105.280062\n",
      "1  2acmU  1.334711 -0.340164  4.365080   73.037750\n",
      "2  409Wp  1.022732  0.151990  1.419926   85.265647\n",
      "3  iJLyR -0.032172  0.139033  2.978566  168.620776\n",
      "4  Xdl7t  1.988431  0.155413  4.751769  154.036647\n",
      "\n",
      "<class 'pandas.core.frame.DataFrame'>\n",
      "RangeIndex: 100000 entries, 0 to 99999\n",
      "Data columns (total 5 columns):\n",
      " #   Column   Non-Null Count   Dtype  \n",
      "---  ------   --------------   -----  \n",
      " 0   id       100000 non-null  object \n",
      " 1   f0       100000 non-null  float64\n",
      " 2   f1       100000 non-null  float64\n",
      " 3   f2       100000 non-null  float64\n",
      " 4   product  100000 non-null  float64\n",
      "dtypes: float64(4), object(1)\n",
      "memory usage: 3.8+ MB\n",
      "None\n",
      "      id         f0         f1        f2     product\n",
      "0  kBEdx -15.001348  -8.276000 -0.005876    3.179103\n",
      "1  62mP7  14.272088  -3.475083  0.999183   26.953261\n",
      "2  vyE1P   6.263187  -5.948386  5.001160  134.766305\n",
      "3  KcrkZ -13.081196 -11.506057  4.999415  137.945408\n",
      "4  AHL4O  12.702195  -8.147433  5.004363  134.766305\n",
      "\n",
      "<class 'pandas.core.frame.DataFrame'>\n",
      "RangeIndex: 100000 entries, 0 to 99999\n",
      "Data columns (total 5 columns):\n",
      " #   Column   Non-Null Count   Dtype  \n",
      "---  ------   --------------   -----  \n",
      " 0   id       100000 non-null  object \n",
      " 1   f0       100000 non-null  float64\n",
      " 2   f1       100000 non-null  float64\n",
      " 3   f2       100000 non-null  float64\n",
      " 4   product  100000 non-null  float64\n",
      "dtypes: float64(4), object(1)\n",
      "memory usage: 3.8+ MB\n",
      "None\n",
      "      id        f0        f1        f2     product\n",
      "0  fwXo0 -1.146987  0.963328 -0.828965   27.758673\n",
      "1  WJtFt  0.262778  0.269839 -2.530187   56.069697\n",
      "2  ovLUW  0.194587  0.289035 -5.586433   62.871910\n",
      "3  q6cA6  2.236060 -0.553760  0.930038  114.572842\n",
      "4  WPMUX -0.515993  1.716266  5.899011  149.600746\n",
      "\n"
     ]
    }
   ],
   "source": [
    "data1 = pd.read_csv('/datasets/geo_data_0.csv')\n",
    "data2 = pd.read_csv('/datasets/geo_data_1.csv')\n",
    "data3 = pd.read_csv('/datasets/geo_data_2.csv')\n",
    "for item in [data1, data2, data3]:\n",
    "        print(item.info())\n",
    "        print(item.head())\n",
    "        print()"
   ]
  },
  {
   "cell_type": "markdown",
   "metadata": {},
   "source": [
    "### Conclusion"
   ]
  },
  {
   "cell_type": "markdown",
   "metadata": {},
   "source": [
    "Based on the data obtained, preprocessing is not required: we have three full-fledged datasets with 100,000 values each, without gaps, where signs and volume of oil are expressed as fractional numbers (that is, data coding is not required)."
   ]
  },
  {
   "cell_type": "markdown",
   "metadata": {},
   "source": [
    "## Step 2. Train and validate the model"
   ]
  },
  {
   "cell_type": "markdown",
   "metadata": {},
   "source": [
    "For each dataset (i.e. for each region), we will divide the data into **target attribute** - the volume of stocks in the *product* column - and into **features** - three unspecified factors. From the descriptive features, of course, we will omit the target one, as well as the unique id of the field, because it does not carry a training value for the model. The training and validation samples will be divided as 3:1, and the random_state parameter will be set here and below as 123."
   ]
  },
  {
   "cell_type": "code",
   "execution_count": 3,
   "metadata": {},
   "outputs": [],
   "source": [
    "### Region 1\n",
    "target1 = data1['product']\n",
    "features1 = data1.drop(['id', 'product'], axis=1)\n",
    "\n",
    "features_train1, features_valid1, target_train1, target_valid1 = train_test_split(\n",
    "    features1, target1, test_size=0.25, random_state=123)"
   ]
  },
  {
   "cell_type": "code",
   "execution_count": 4,
   "metadata": {},
   "outputs": [],
   "source": [
    "### Region 2\n",
    "target2 = data2['product']\n",
    "features2 = data2.drop(['id', 'product'], axis=1)\n",
    "\n",
    "features_train2, features_valid2, target_train2, target_valid2 = train_test_split(\n",
    "    features2, target2, test_size=0.25, random_state=123)"
   ]
  },
  {
   "cell_type": "code",
   "execution_count": 5,
   "metadata": {},
   "outputs": [],
   "source": [
    "### Region 3\n",
    "target3 = data3['product']\n",
    "features3 = data3.drop(['id', 'product'], axis=1)\n",
    "\n",
    "features_train3, features_valid3, target_train3, target_valid3 = train_test_split(\n",
    "    features3, target3, test_size=0.25, random_state=123)"
   ]
  },
  {
   "cell_type": "markdown",
   "metadata": {},
   "source": [
    "Now, according to the condition, we will train linear regression models for each of the three regions, and also keep the predicted volume of reserves by wells"
   ]
  },
  {
   "cell_type": "code",
   "execution_count": 6,
   "metadata": {},
   "outputs": [],
   "source": [
    "### Region 1\n",
    "model1 = LinearRegression()\n",
    "model1.fit(features_train1, target_train1) \n",
    "predictions1 = pd.Series(model1.predict(features_valid1), index=target_valid1.index)"
   ]
  },
  {
   "cell_type": "code",
   "execution_count": 7,
   "metadata": {},
   "outputs": [],
   "source": [
    "### Region 2\n",
    "model2 = LinearRegression()\n",
    "model2.fit(features_train2, target_train2) \n",
    "predictions2 = pd.Series(model2.predict(features_valid2), index=target_valid2.index)"
   ]
  },
  {
   "cell_type": "code",
   "execution_count": 8,
   "metadata": {},
   "outputs": [],
   "source": [
    "### Region 3\n",
    "model3 = LinearRegression()\n",
    "model3.fit(features_train3, target_train3) \n",
    "predictions3 = pd.Series(model3.predict(features_valid3), index=target_valid3.index)"
   ]
  },
  {
   "cell_type": "markdown",
   "metadata": {},
   "source": [
    "We will receive and display the RMSE indicators for all three models."
   ]
  },
  {
   "cell_type": "code",
   "execution_count": 9,
   "metadata": {},
   "outputs": [],
   "source": [
    "result1 = math.sqrt(mean_squared_error(target_valid1, predictions1))\n",
    "result2 = math.sqrt(mean_squared_error(target_valid2, predictions2))\n",
    "result3 = math.sqrt(mean_squared_error(target_valid3, predictions3))"
   ]
  },
  {
   "cell_type": "code",
   "execution_count": 10,
   "metadata": {},
   "outputs": [
    {
     "name": "stdout",
     "output_type": "stream",
     "text": [
      "The average expected stock of raw materials in region 1 is 92.549 thousand barrels, while the RMSE is equal to 37.648\n",
      "The average expected stock of raw materials in region 2 is 69.28 thousand barrels, while the RMSE is equal to 0.89541\n",
      "The average expected stock of raw materials in region 3 is 95.099 thousand barrels, while the RMSE is equal to 40.128\n"
     ]
    }
   ],
   "source": [
    "print('The average expected stock of raw materials in region 1 is {:.5} thousand barrels, while the RMSE is equal to {:.5}'.format(\n",
    "predictions1.mean(), result1))\n",
    "print('The average expected stock of raw materials in region 2 is {:.5} thousand barrels, while the RMSE is equal to {:.5}'.format(\n",
    "predictions2.mean(), result2))\n",
    "print('The average expected stock of raw materials in region 3 is {:.5} thousand barrels, while the RMSE is equal to {:.5}'.format(\n",
    "predictions3.mean(), result3))"
   ]
  },
  {
   "cell_type": "markdown",
   "metadata": {},
   "source": [
    "### Conclusion"
   ]
  },
  {
   "cell_type": "markdown",
   "metadata": {},
   "source": [
    "So, based on training models for each of the three regions, we can conclude that regions 1 and 3, on average, have larger oil deposits than region 2. However, the model for region 2 has a very close to zero error rate, which means , the model itself is more accurate. To make a choice in favor of a particular region, it is worth analyzing the data more deeply."
   ]
  },
  {
   "cell_type": "markdown",
   "metadata": {},
   "source": [
    "## Step 3. Preparation for profit calculation"
   ]
  },
  {
   "cell_type": "markdown",
   "metadata": {},
   "source": [
    "Taking into account the budget and income from one thousand barrels, we will calculate the minimum amount of reserves for the region to interest us. To do this, we will divide the budget by the profitability of one thousand barrels, and then by **another 200** - by the number of fields in the region that will be developed for oil production."
   ]
  },
  {
   "cell_type": "code",
   "execution_count": 12,
   "metadata": {},
   "outputs": [
    {
     "name": "stdout",
     "output_type": "stream",
     "text": [
      "Break-even well development requires at least 111.11111111111111 thousand barrels of oil\n"
     ]
    }
   ],
   "source": [
    "budget = 10000000000\n",
    "unit_profit = 450000\n",
    "print('Break-even well development requires at least {} thousand barrels of oil'.format(\n",
    "budget/unit_profit/200))"
   ]
  },
  {
   "cell_type": "markdown",
   "metadata": {},
   "source": [
    "So, a little over 111,000 barrels of oil is needed to start development and at least not go negative. Given that each region has deposits on average between 60,000 and 90,000 barrels each, it seems that the project could be profitable, but only if the largest wells are explored. To explore the possibility of this in more detail, it is worth calculating the immediate return by multiplying the average expected reserves by the profitability of one thousand barrels."
   ]
  },
  {
   "cell_type": "code",
   "execution_count": 13,
   "metadata": {},
   "outputs": [
    {
     "name": "stdout",
     "output_type": "stream",
     "text": [
      "Exploration of reserves in region 1 will bring an average of 41647212.851023376 rubles from each well\n",
      "Exploration of reserves in region 1 will bring an average of 31176008.37294289 rubles from each well\n",
      "Exploration of reserves in region 1 will bring an average of 42794369.701161176 rubles from each well\n"
     ]
    }
   ],
   "source": [
    "print('Exploration of reserves in region 1 will bring an average of {} rubles from each well'.format(predictions1.mean()*unit_profit))\n",
    "print('Exploration of reserves in region 1 will bring an average of {} rubles from each well'.format(predictions2.mean()*unit_profit))\n",
    "print('Exploration of reserves in region 1 will bring an average of {} rubles from each well'.format(predictions3.mean()*unit_profit))"
   ]
  },
  {
   "cell_type": "markdown",
   "metadata": {},
   "source": [
    "### Conclusion"
   ]
  },
  {
   "cell_type": "markdown",
   "metadata": {},
   "source": [
    "The profitability of each well will be from 31 to 42 million rubles, based on average values. As for oil reserves, on average they are below the break-even point - for region 2, almost twice - so further analysis is needed to calculate the maximum profitable wells."
   ]
  },
  {
   "cell_type": "markdown",
   "metadata": {},
   "source": [
    "## Step 4. Calculation of profit and risks"
   ]
  },
  {
   "cell_type": "markdown",
   "metadata": {},
   "source": [
    "First, let's write a function that will calculate the total profit from the largest fields in the region. The logic here is to sort the 200 largest (predicted) fields, then add up the **real** volumes of oil in them and multiply by the profitability per thousand barrels (for convenience, divide by 1 billion to make it easier to compare with the budget), and then **subtract** those same 10 billion - in order to get not revenue, but profit."
   ]
  },
  {
   "cell_type": "code",
   "execution_count": 14,
   "metadata": {},
   "outputs": [],
   "source": [
    "def profit(predictions, target):\n",
    "    max_predictions = pd.Series(predictions).sort_values(ascending=False)[:200]\n",
    "    max_volumes = target[max_predictions.index]\n",
    "    total_oil = sum(max_volumes)\n",
    "    total_profit = total_oil * unit_profit - budget\n",
    "    return total_profit/1000000000"
   ]
  },
  {
   "cell_type": "markdown",
   "metadata": {},
   "source": [
    "Let's apply the function to each region:"
   ]
  },
  {
   "cell_type": "code",
   "execution_count": 15,
   "metadata": {},
   "outputs": [
    {
     "name": "stdout",
     "output_type": "stream",
     "text": [
      "Profit expected from the largest wells in region 1 is equal to 3.534670917261379 billion rubles\n",
      "Profit expected from the largest wells in region 2 is equal to 2.415086696681551 billion rubles\n",
      "Profit expected from the largest wells in region 3 is equal to 2.370343863021372 billion rubles\n"
     ]
    }
   ],
   "source": [
    "print('Profit expected from the largest wells in region 1 is equal to {} billion rubles'.format(\n",
    "profit(predictions1, target1)))\n",
    "print('Profit expected from the largest wells in region 2 is equal to {} billion rubles'.format(\n",
    "profit(predictions2, target2)))\n",
    "print('Profit expected from the largest wells in region 3 is equal to {} billion rubles'.format(\n",
    "profit(predictions3, target3)))"
   ]
  },
  {
   "cell_type": "markdown",
   "metadata": {},
   "source": [
    "So, all three regions are potentially profitable, and region 1 is leading by a wide margin - at best, it promises 3.5 billion rubles of profit.  \n",
    "Now it is also necessary to assess the risks. To do this, we will carry out the bootstrap procedure - we will select from 500 deposits in each region in a thousand iterations, and examine their profitability."
   ]
  },
  {
   "cell_type": "code",
   "execution_count": 16,
   "metadata": {},
   "outputs": [
    {
     "name": "stdout",
     "output_type": "stream",
     "text": [
      "According to the bootstrap results:\n",
      "Average profit in region 1 will be 0.47742 billion rubles\n",
      "Average profit in region 2 will be 0.46748 billion rubles\n",
      "Average profit in region 3 will be 0.36213 billion rubles\n"
     ]
    }
   ],
   "source": [
    "### So that all 1000 iterations do not give exactly the same sample, random state must be set\n",
    "### not as a fixed value, but as a function from the numpy module\n",
    "state = np.random.RandomState(123)\n",
    "\n",
    "### Region 1\n",
    "incomes1 = []\n",
    "for i in range(1000):\n",
    "    predictions_subsample1 = pd.Series(predictions1).sample(500, random_state=state, replace=True)\n",
    "    incomes1.append(profit(predictions_subsample1, target1))\n",
    "\n",
    "### Region 2\n",
    "incomes2 = []\n",
    "for i in range(1000):\n",
    "    predictions_subsample2 = pd.Series(predictions2).sample(500, random_state=state, replace=True)\n",
    "    incomes2.append(profit(predictions_subsample2, target2))\n",
    "\n",
    "### Region 3    \n",
    "incomes3 = []\n",
    "for i in range(1000):\n",
    "    predictions_subsample3 = pd.Series(predictions3).sample(500, random_state=state, replace=True)\n",
    "    incomes3.append(profit(predictions_subsample3, target3))\n",
    "    \n",
    "print('According to the bootstrap results:')\n",
    "print('Average profit in region 1 will be {:.5} billion rubles'.format(pd.Series(incomes1).mean()))\n",
    "print('Average profit in region 2 will be {:.5} billion rubles'.format(pd.Series(incomes2).mean()))\n",
    "print('Average profit in region 3 will be {:.5} billion rubles'.format(pd.Series(incomes3).mean()))"
   ]
  },
  {
   "cell_type": "markdown",
   "metadata": {},
   "source": [
    "It follows from the previous step that, according to the average values within the bootstrap, all three regions will bring profit, but rather insignificant relative to the budget (only within 3-5% with huge investments). Regions 1 and 2 are the most profitable, almost without separation from each other, and region 3 is the least profitable (360 million rubles in total).\n",
    "\n",
    "Now we should look at the 95% confidence interval as well, which means calculating the 2.5% and 97.5% quantiles."
   ]
  },
  {
   "cell_type": "code",
   "execution_count": 17,
   "metadata": {},
   "outputs": [
    {
     "name": "stdout",
     "output_type": "stream",
     "text": [
      "The 95% confidence interval for region 1 was from -0.057994 to 0.97482 billion rubles\n",
      "The 95% confidence interval for region 2 was from 0.068764 to 0.87149 billion rubles\n",
      "The 95% confidence interval for region 3 was from -0.18299 to 0.87097 billion rubles\n"
     ]
    }
   ],
   "source": [
    "lower1 = pd.Series(incomes1).quantile(0.025)\n",
    "upper1 = pd.Series(incomes1).quantile(0.975)\n",
    "\n",
    "lower2 = pd.Series(incomes2).quantile(0.025)\n",
    "upper2 = pd.Series(incomes2).quantile(0.975)\n",
    "\n",
    "lower3 = pd.Series(incomes3).quantile(0.025)\n",
    "upper3 = pd.Series(incomes3).quantile(0.975)\n",
    "\n",
    "print('The 95% confidence interval for region 1 was from {:.5} to {:.5} billion rubles'.format(lower1, upper1))\n",
    "print('The 95% confidence interval for region 2 was from {:.5} to {:.5} billion rubles'.format(lower2, upper2))\n",
    "print('The 95% confidence interval for region 3 was from {:.5} to {:.5} billion rubles'.format(lower3, upper3))"
   ]
  },
  {
   "cell_type": "markdown",
   "metadata": {},
   "source": [
    "According to the confidence interval, the data are stable, but disappointing: only the profitability of the second region passes the breakeven point, in the other two cases, negative values also fall into the confidence interval.\n",
    "<br/><br/>\n",
    "Finally, let's take a look at the riskiness of developing regions - we will write a function where the total profitability for all fields in each of the samples is viewed in a cycle, the number of unprofitable options (less than 10 billion) is calculated, and their share is compared with a threshold of 2.5%."
   ]
  },
  {
   "cell_type": "code",
   "execution_count": 18,
   "metadata": {},
   "outputs": [],
   "source": [
    "def risk(profits):\n",
    "    minus_count = 0\n",
    "    for item in profits:\n",
    "        if item < 0:\n",
    "            minus_count += 1\n",
    "    risk = minus_count/1000\n",
    "    if risk < 0.025:\n",
    "        print('The region is worth developing, the probability of losses is', risk)\n",
    "    else:\n",
    "        print('The region should not be developed, the probability of losses is more than 2.5%')  "
   ]
  },
  {
   "cell_type": "code",
   "execution_count": 19,
   "metadata": {},
   "outputs": [
    {
     "name": "stdout",
     "output_type": "stream",
     "text": [
      "Region 1:\n",
      "The region should not be developed, the probability of losses is more than 2.5%\n",
      "\n",
      "Region 2:\n",
      "The region is worth developing, the probability of losses is 0.01\n",
      "\n",
      "Region 3:\n",
      "The region should not be developed, the probability of losses is more than 2.5%\n"
     ]
    }
   ],
   "source": [
    "print('Region 1:')\n",
    "risk(incomes1)\n",
    "print('')\n",
    "print('Region 2:')\n",
    "risk(incomes2)\n",
    "print('')\n",
    "print('Region 3:')\n",
    "risk(incomes3)"
   ]
  },
  {
   "cell_type": "markdown",
   "metadata": {},
   "source": [
    "### Conclusion"
   ]
  },
  {
   "cell_type": "markdown",
   "metadata": {},
   "source": [
    "The bootstrap procedure with 1000 repetitions showed the following results.  \n",
    "The maximum revenue from each region can be very, very attractive - about 13.5 billion rubles, or 3.5 billion rubles of profit (region 1 is the most profitable). At the same time, all three regions are not very resistant to risks: two of them are unprofitable, even in the 95% confidence interval. If we talk directly about the probability of losses, then only region 2 does not cross the threshold of 2.5% of unprofitable deposits (which, in principle, followed from the confidence interval), the other two regions are potentially unprofitable."
   ]
  },
  {
   "cell_type": "markdown",
   "metadata": {},
   "source": [
    "## General conclusion"
   ]
  },
  {
   "cell_type": "markdown",
   "metadata": {},
   "source": [
    "During the project for a mining company, data on oil samples were examined in three regions: in each of 10,000 fields, where the quality of oil and the volume of its reserves were measured. The aim of the project was to determine the most favorable region for exploration of reserves. To do this, a linear regression model was built for each region and the RMSE value was measured. Despite the fact that the average values of reserves in regions 1 and 3 were almost one and a half times higher than in region 2, their standard error was almost equal to this very difference. This means that the model for region 2 turned out to be the most accurate.\n",
    "<br/><br/>\n",
    "As for the profitability of oil production in the regions, on average, one well promises to bring from 30 (region 2) to 40 (regions 1, 3) million rubles. At the same time, the maximum expected profit in region 1 will be more than 3 billion rubles, and about 2.4 billion rubles in regions 2 and 3.\n",
    "<br/><br/>\n",
    "Finally, using the bootstrap, data on the riskiness of activities were obtained. Two regions promise to be unprofitable (1 and 3), because the number of unprofitable options for selecting deposits is more than the established threshold of 2.5%. The same is evidenced by the confidence interval of 95% (however, the upper quantile of the interval is not very promising and is far from the maximum possible profit).\n",
    "<br/><br/>\n",
    "To sum up, development can be carried out, in essence, only in ***region 2***. Firstly, its model was much stronger and more accurate than the others, with a very small RMSE. Secondly, its profitability is quite high, even if it is inferior to the region by one - quite a bit in terms of average expected profit and more than 1 billion in terms of the maximum possible one. Further, already after the bootstrap, which, if possible, excluded random elements, it became clear that region 2 is the only one, the probability of which is less than 2.5%, and there are no negative values in the 95% confidence interval. Accordingly, guided by these considerations, I would opt for **region 2**, which always shows the only non-negative results for all negative indicators."
   ]
  }
 ],
 "metadata": {
  "ExecuteTimeLog": [
   {
    "duration": 611,
    "start_time": "2021-10-14T05:39:41.838Z"
   },
   {
    "duration": 358,
    "start_time": "2021-10-14T05:40:10.855Z"
   },
   {
    "duration": 748,
    "start_time": "2021-10-14T05:43:06.771Z"
   },
   {
    "duration": 13,
    "start_time": "2021-10-14T05:44:02.585Z"
   },
   {
    "duration": 28,
    "start_time": "2021-10-14T05:44:06.803Z"
   },
   {
    "duration": 382,
    "start_time": "2021-10-14T05:44:15.229Z"
   },
   {
    "duration": 715,
    "start_time": "2021-10-14T05:44:26.260Z"
   },
   {
    "duration": 359,
    "start_time": "2021-10-14T05:44:30.845Z"
   },
   {
    "duration": 353,
    "start_time": "2021-10-14T05:44:34.303Z"
   },
   {
    "duration": 399,
    "start_time": "2021-10-14T05:45:16.945Z"
   },
   {
    "duration": 662,
    "start_time": "2021-10-14T05:46:03.910Z"
   },
   {
    "duration": 422,
    "start_time": "2021-10-14T06:02:06.986Z"
   },
   {
    "duration": 29,
    "start_time": "2021-10-14T06:02:35.361Z"
   },
   {
    "duration": 23,
    "start_time": "2021-10-14T06:02:45.517Z"
   },
   {
    "duration": 390,
    "start_time": "2021-10-14T06:02:58.912Z"
   },
   {
    "duration": 386,
    "start_time": "2021-10-14T06:03:10.224Z"
   },
   {
    "duration": 306,
    "start_time": "2021-10-14T12:07:16.798Z"
   },
   {
    "duration": 717,
    "start_time": "2021-10-14T12:07:24.112Z"
   },
   {
    "duration": 524,
    "start_time": "2021-10-14T12:07:24.832Z"
   },
   {
    "duration": 33,
    "start_time": "2021-10-14T12:07:25.367Z"
   },
   {
    "duration": 38,
    "start_time": "2021-10-14T12:07:25.402Z"
   },
   {
    "duration": 336,
    "start_time": "2021-10-14T12:24:20.772Z"
   },
   {
    "duration": 604,
    "start_time": "2021-10-14T12:24:45.288Z"
   },
   {
    "duration": 23,
    "start_time": "2021-10-14T12:24:48.520Z"
   },
   {
    "duration": 21,
    "start_time": "2021-10-14T12:27:22.564Z"
   },
   {
    "duration": 22,
    "start_time": "2021-10-14T12:27:23.072Z"
   },
   {
    "duration": 290,
    "start_time": "2021-10-14T12:30:56.102Z"
   },
   {
    "duration": 22,
    "start_time": "2021-10-14T12:31:01.158Z"
   },
   {
    "duration": 26,
    "start_time": "2021-10-14T12:31:04.285Z"
   },
   {
    "duration": 17,
    "start_time": "2021-10-14T12:31:56.831Z"
   },
   {
    "duration": 16,
    "start_time": "2021-10-14T12:31:57.223Z"
   },
   {
    "duration": 4,
    "start_time": "2021-10-14T12:33:31.164Z"
   },
   {
    "duration": 288,
    "start_time": "2021-10-14T12:52:13.374Z"
   },
   {
    "duration": 102,
    "start_time": "2021-10-14T12:52:18.778Z"
   },
   {
    "duration": 74,
    "start_time": "2021-10-14T12:52:19.202Z"
   },
   {
    "duration": 24,
    "start_time": "2021-10-14T12:52:19.604Z"
   },
   {
    "duration": 291,
    "start_time": "2021-10-14T12:52:21.268Z"
   },
   {
    "duration": 296,
    "start_time": "2021-10-14T12:53:04.629Z"
   },
   {
    "duration": 5,
    "start_time": "2021-10-14T12:53:18.406Z"
   },
   {
    "duration": 241,
    "start_time": "2021-10-14T12:53:24.254Z"
   },
   {
    "duration": 245,
    "start_time": "2021-10-14T12:54:44.407Z"
   },
   {
    "duration": 238,
    "start_time": "2021-10-14T13:03:38.310Z"
   },
   {
    "duration": 4,
    "start_time": "2021-10-14T13:03:45.788Z"
   },
   {
    "duration": 237,
    "start_time": "2021-10-14T13:03:49.768Z"
   },
   {
    "duration": 8,
    "start_time": "2021-10-14T13:04:30.663Z"
   },
   {
    "duration": 11,
    "start_time": "2021-10-14T13:04:36.880Z"
   },
   {
    "duration": 7,
    "start_time": "2021-10-14T13:07:43.192Z"
   },
   {
    "duration": 4,
    "start_time": "2021-10-14T13:13:30.547Z"
   },
   {
    "duration": 5,
    "start_time": "2021-10-14T13:14:48.070Z"
   },
   {
    "duration": 5,
    "start_time": "2021-10-14T13:15:44.983Z"
   },
   {
    "duration": 5,
    "start_time": "2021-10-14T13:15:50.613Z"
   },
   {
    "duration": 7,
    "start_time": "2021-10-14T13:16:06.394Z"
   },
   {
    "duration": 6,
    "start_time": "2021-10-14T13:17:15.888Z"
   },
   {
    "duration": 4,
    "start_time": "2021-10-14T13:17:59.934Z"
   },
   {
    "duration": 7,
    "start_time": "2021-10-14T13:18:02.524Z"
   },
   {
    "duration": 7,
    "start_time": "2021-10-14T13:18:07.314Z"
   },
   {
    "duration": 7,
    "start_time": "2021-10-14T13:18:10.418Z"
   },
   {
    "duration": 7,
    "start_time": "2021-10-14T13:18:13.704Z"
   },
   {
    "duration": 4,
    "start_time": "2021-10-14T13:18:32.888Z"
   },
   {
    "duration": 6,
    "start_time": "2021-10-14T13:18:34.822Z"
   },
   {
    "duration": 4,
    "start_time": "2021-10-14T13:21:37.062Z"
   },
   {
    "duration": 562,
    "start_time": "2021-10-14T13:21:50.268Z"
   },
   {
    "duration": 5,
    "start_time": "2021-10-14T13:22:05.700Z"
   },
   {
    "duration": 12,
    "start_time": "2021-10-14T13:22:07.728Z"
   },
   {
    "duration": 6,
    "start_time": "2021-10-14T13:22:33.596Z"
   },
   {
    "duration": 11,
    "start_time": "2021-10-14T13:22:36.046Z"
   },
   {
    "duration": 21,
    "start_time": "2021-10-14T13:24:43.504Z"
   },
   {
    "duration": 3,
    "start_time": "2021-10-14T13:34:22.324Z"
   },
   {
    "duration": 671,
    "start_time": "2021-10-14T13:41:31.579Z"
   },
   {
    "duration": 3,
    "start_time": "2021-10-14T13:41:45.528Z"
   },
   {
    "duration": 226,
    "start_time": "2021-10-14T13:41:50.008Z"
   },
   {
    "duration": 1310,
    "start_time": "2021-10-14T13:42:04.359Z"
   },
   {
    "duration": 4103,
    "start_time": "2021-10-14T13:42:40.817Z"
   },
   {
    "duration": 491,
    "start_time": "2021-10-14T13:45:37.584Z"
   },
   {
    "duration": 91,
    "start_time": "2021-10-14T13:46:09.922Z"
   },
   {
    "duration": 80,
    "start_time": "2021-10-14T13:46:24.033Z"
   },
   {
    "duration": 15,
    "start_time": "2021-10-14T13:46:33.326Z"
   },
   {
    "duration": 16,
    "start_time": "2021-10-14T13:47:07.628Z"
   },
   {
    "duration": 17,
    "start_time": "2021-10-14T13:47:21.382Z"
   },
   {
    "duration": 16,
    "start_time": "2021-10-14T13:47:35.622Z"
   },
   {
    "duration": 4491,
    "start_time": "2021-10-14T13:48:47.699Z"
   },
   {
    "duration": 4356,
    "start_time": "2021-10-14T13:49:01.523Z"
   },
   {
    "duration": 4386,
    "start_time": "2021-10-14T13:49:26.005Z"
   },
   {
    "duration": 17,
    "start_time": "2021-10-14T13:50:16.901Z"
   },
   {
    "duration": 316,
    "start_time": "2021-10-14T13:50:24.725Z"
   },
   {
    "duration": 10,
    "start_time": "2021-10-14T13:50:33.852Z"
   },
   {
    "duration": 5,
    "start_time": "2021-10-14T13:54:18.963Z"
   },
   {
    "duration": 5,
    "start_time": "2021-10-14T13:54:27.384Z"
   },
   {
    "duration": 257,
    "start_time": "2021-10-14T13:55:20.969Z"
   },
   {
    "duration": 6,
    "start_time": "2021-10-14T13:55:24.786Z"
   },
   {
    "duration": 5,
    "start_time": "2021-10-14T13:55:36.903Z"
   },
   {
    "duration": 8,
    "start_time": "2021-10-14T13:55:38.729Z"
   },
   {
    "duration": 5,
    "start_time": "2021-10-14T13:56:00.900Z"
   },
   {
    "duration": 7,
    "start_time": "2021-10-14T13:56:02.566Z"
   },
   {
    "duration": 5,
    "start_time": "2021-10-14T13:56:42.377Z"
   },
   {
    "duration": 7,
    "start_time": "2021-10-14T13:56:44.103Z"
   },
   {
    "duration": 5,
    "start_time": "2021-10-14T13:56:55.278Z"
   },
   {
    "duration": 5,
    "start_time": "2021-10-14T13:56:58.842Z"
   },
   {
    "duration": 8,
    "start_time": "2021-10-14T13:56:59.441Z"
   },
   {
    "duration": 5,
    "start_time": "2021-10-14T13:57:04.318Z"
   },
   {
    "duration": 5,
    "start_time": "2021-10-14T13:57:08.586Z"
   },
   {
    "duration": 8,
    "start_time": "2021-10-14T13:57:10.110Z"
   },
   {
    "duration": 71,
    "start_time": "2021-10-14T14:16:13.636Z"
   },
   {
    "duration": 229,
    "start_time": "2021-10-14T14:16:17.728Z"
   },
   {
    "duration": 4,
    "start_time": "2021-10-14T14:16:22.560Z"
   },
   {
    "duration": 7,
    "start_time": "2021-10-14T14:16:45.687Z"
   },
   {
    "duration": 5,
    "start_time": "2021-10-14T14:19:13.798Z"
   },
   {
    "duration": 4,
    "start_time": "2021-10-14T14:19:20.174Z"
   },
   {
    "duration": 5,
    "start_time": "2021-10-14T14:20:08.342Z"
   },
   {
    "duration": 5,
    "start_time": "2021-10-14T14:23:44.712Z"
   },
   {
    "duration": 16,
    "start_time": "2021-10-14T14:47:50.792Z"
   },
   {
    "duration": 17,
    "start_time": "2021-10-14T14:48:48.142Z"
   },
   {
    "duration": 16,
    "start_time": "2021-10-14T14:48:55.255Z"
   },
   {
    "duration": 17,
    "start_time": "2021-10-14T14:48:59.394Z"
   },
   {
    "duration": 17,
    "start_time": "2021-10-14T14:49:03.218Z"
   },
   {
    "duration": 16,
    "start_time": "2021-10-14T14:50:03.764Z"
   },
   {
    "duration": 1297,
    "start_time": "2021-10-14T15:29:49.485Z"
   },
   {
    "duration": 516,
    "start_time": "2021-10-14T15:29:50.784Z"
   },
   {
    "duration": 20,
    "start_time": "2021-10-14T15:29:51.303Z"
   },
   {
    "duration": 47,
    "start_time": "2021-10-14T15:29:51.326Z"
   },
   {
    "duration": 21,
    "start_time": "2021-10-14T15:29:51.376Z"
   },
   {
    "duration": 72,
    "start_time": "2021-10-14T15:29:51.400Z"
   },
   {
    "duration": 106,
    "start_time": "2021-10-14T15:29:51.475Z"
   },
   {
    "duration": 103,
    "start_time": "2021-10-14T15:29:51.672Z"
   },
   {
    "duration": 90,
    "start_time": "2021-10-14T15:29:51.780Z"
   },
   {
    "duration": -261,
    "start_time": "2021-10-14T15:29:52.135Z"
   },
   {
    "duration": -329,
    "start_time": "2021-10-14T15:29:52.205Z"
   },
   {
    "duration": -253,
    "start_time": "2021-10-14T15:29:52.220Z"
   },
   {
    "duration": -256,
    "start_time": "2021-10-14T15:29:52.224Z"
   },
   {
    "duration": -258,
    "start_time": "2021-10-14T15:29:52.228Z"
   },
   {
    "duration": -260,
    "start_time": "2021-10-14T15:29:52.231Z"
   },
   {
    "duration": -261,
    "start_time": "2021-10-14T15:29:52.234Z"
   },
   {
    "duration": -264,
    "start_time": "2021-10-14T15:29:52.238Z"
   },
   {
    "duration": -265,
    "start_time": "2021-10-14T15:29:52.241Z"
   },
   {
    "duration": -266,
    "start_time": "2021-10-14T15:29:52.243Z"
   },
   {
    "duration": -268,
    "start_time": "2021-10-14T15:29:52.246Z"
   },
   {
    "duration": 1329,
    "start_time": "2021-10-14T15:30:36.157Z"
   },
   {
    "duration": 508,
    "start_time": "2021-10-14T15:30:37.489Z"
   },
   {
    "duration": 20,
    "start_time": "2021-10-14T15:30:38.000Z"
   },
   {
    "duration": 44,
    "start_time": "2021-10-14T15:30:38.023Z"
   },
   {
    "duration": 23,
    "start_time": "2021-10-14T15:30:38.069Z"
   },
   {
    "duration": 18,
    "start_time": "2021-10-14T15:30:38.094Z"
   },
   {
    "duration": 105,
    "start_time": "2021-10-14T15:30:38.169Z"
   },
   {
    "duration": 188,
    "start_time": "2021-10-14T15:30:38.280Z"
   },
   {
    "duration": 10,
    "start_time": "2021-10-14T15:30:38.472Z"
   },
   {
    "duration": 9,
    "start_time": "2021-10-14T15:30:38.569Z"
   },
   {
    "duration": 91,
    "start_time": "2021-10-14T15:30:38.580Z"
   },
   {
    "duration": 8,
    "start_time": "2021-10-14T15:30:38.674Z"
   },
   {
    "duration": 10,
    "start_time": "2021-10-14T15:30:38.684Z"
   },
   {
    "duration": 21,
    "start_time": "2021-10-14T15:30:38.697Z"
   },
   {
    "duration": 4215,
    "start_time": "2021-10-14T15:30:38.720Z"
   },
   {
    "duration": 38,
    "start_time": "2021-10-14T15:30:42.937Z"
   },
   {
    "duration": 7,
    "start_time": "2021-10-14T15:30:42.978Z"
   },
   {
    "duration": 9,
    "start_time": "2021-10-14T15:30:42.988Z"
   },
   {
    "duration": 7,
    "start_time": "2021-10-14T15:30:42.999Z"
   },
   {
    "duration": 4,
    "start_time": "2021-10-14T17:42:33.719Z"
   },
   {
    "duration": 283,
    "start_time": "2021-10-14T17:45:10.509Z"
   },
   {
    "duration": 1080,
    "start_time": "2021-10-14T17:45:20.488Z"
   },
   {
    "duration": 395,
    "start_time": "2021-10-14T17:45:21.569Z"
   },
   {
    "duration": 16,
    "start_time": "2021-10-14T17:45:21.966Z"
   },
   {
    "duration": 19,
    "start_time": "2021-10-14T17:45:21.984Z"
   },
   {
    "duration": 40,
    "start_time": "2021-10-14T17:45:22.004Z"
   },
   {
    "duration": 19,
    "start_time": "2021-10-14T17:45:22.046Z"
   },
   {
    "duration": 179,
    "start_time": "2021-10-14T17:45:22.067Z"
   },
   {
    "duration": 102,
    "start_time": "2021-10-14T17:45:22.250Z"
   },
   {
    "duration": 94,
    "start_time": "2021-10-14T17:45:22.355Z"
   },
   {
    "duration": 97,
    "start_time": "2021-10-14T17:45:22.452Z"
   },
   {
    "duration": 6,
    "start_time": "2021-10-14T17:45:22.551Z"
   },
   {
    "duration": 9,
    "start_time": "2021-10-14T17:45:22.559Z"
   },
   {
    "duration": 13,
    "start_time": "2021-10-14T17:45:22.569Z"
   },
   {
    "duration": 20,
    "start_time": "2021-10-14T17:45:22.584Z"
   },
   {
    "duration": 2166,
    "start_time": "2021-10-14T17:45:22.605Z"
   },
   {
    "duration": 9,
    "start_time": "2021-10-14T17:45:24.773Z"
   },
   {
    "duration": 10,
    "start_time": "2021-10-14T17:45:24.783Z"
   },
   {
    "duration": 12,
    "start_time": "2021-10-14T17:45:24.794Z"
   },
   {
    "duration": 89,
    "start_time": "2021-10-14T17:47:17.987Z"
   },
   {
    "duration": 969,
    "start_time": "2021-10-14T17:59:51.293Z"
   },
   {
    "duration": 397,
    "start_time": "2021-10-14T17:59:52.265Z"
   },
   {
    "duration": 16,
    "start_time": "2021-10-14T17:59:52.664Z"
   },
   {
    "duration": 17,
    "start_time": "2021-10-14T17:59:52.682Z"
   },
   {
    "duration": 17,
    "start_time": "2021-10-14T17:59:52.701Z"
   },
   {
    "duration": 38,
    "start_time": "2021-10-14T17:59:52.719Z"
   },
   {
    "duration": 185,
    "start_time": "2021-10-14T17:59:52.759Z"
   },
   {
    "duration": 101,
    "start_time": "2021-10-14T17:59:52.947Z"
   },
   {
    "duration": 92,
    "start_time": "2021-10-14T17:59:53.052Z"
   },
   {
    "duration": 97,
    "start_time": "2021-10-14T17:59:53.147Z"
   },
   {
    "duration": 6,
    "start_time": "2021-10-14T17:59:53.246Z"
   },
   {
    "duration": 12,
    "start_time": "2021-10-14T17:59:53.253Z"
   },
   {
    "duration": 9,
    "start_time": "2021-10-14T17:59:53.267Z"
   },
   {
    "duration": 336,
    "start_time": "2021-10-14T17:59:53.278Z"
   },
   {
    "duration": -299,
    "start_time": "2021-10-14T17:59:53.915Z"
   },
   {
    "duration": -366,
    "start_time": "2021-10-14T17:59:53.983Z"
   },
   {
    "duration": -399,
    "start_time": "2021-10-14T17:59:54.016Z"
   },
   {
    "duration": -426,
    "start_time": "2021-10-14T17:59:54.044Z"
   },
   {
    "duration": -445,
    "start_time": "2021-10-14T17:59:54.064Z"
   },
   {
    "duration": 19,
    "start_time": "2021-10-14T18:00:03.999Z"
   },
   {
    "duration": 243,
    "start_time": "2021-10-14T18:01:35.991Z"
   },
   {
    "duration": 5027,
    "start_time": "2021-10-14T18:02:00.420Z"
   },
   {
    "duration": 4,
    "start_time": "2021-10-14T18:02:21.499Z"
   },
   {
    "duration": 10,
    "start_time": "2021-10-14T18:02:24.345Z"
   },
   {
    "duration": 3,
    "start_time": "2021-10-14T18:02:28.433Z"
   },
   {
    "duration": 4,
    "start_time": "2021-10-14T18:02:30.308Z"
   },
   {
    "duration": 3,
    "start_time": "2021-10-14T18:02:54.040Z"
   },
   {
    "duration": 4,
    "start_time": "2021-10-14T18:02:56.239Z"
   },
   {
    "duration": 5,
    "start_time": "2021-10-14T18:09:48.956Z"
   },
   {
    "duration": 1160,
    "start_time": "2021-10-14T18:13:33.010Z"
   },
   {
    "duration": 442,
    "start_time": "2021-10-14T18:13:34.172Z"
   },
   {
    "duration": 16,
    "start_time": "2021-10-14T18:13:34.617Z"
   },
   {
    "duration": 22,
    "start_time": "2021-10-14T18:13:34.636Z"
   },
   {
    "duration": 18,
    "start_time": "2021-10-14T18:13:34.660Z"
   },
   {
    "duration": 67,
    "start_time": "2021-10-14T18:13:34.680Z"
   },
   {
    "duration": 96,
    "start_time": "2021-10-14T18:13:34.749Z"
   },
   {
    "duration": 103,
    "start_time": "2021-10-14T18:13:34.849Z"
   },
   {
    "duration": 91,
    "start_time": "2021-10-14T18:13:34.954Z"
   },
   {
    "duration": 100,
    "start_time": "2021-10-14T18:13:35.047Z"
   },
   {
    "duration": 6,
    "start_time": "2021-10-14T18:13:35.148Z"
   },
   {
    "duration": 6,
    "start_time": "2021-10-14T18:13:35.156Z"
   },
   {
    "duration": 8,
    "start_time": "2021-10-14T18:13:35.164Z"
   },
   {
    "duration": 22,
    "start_time": "2021-10-14T18:13:35.174Z"
   },
   {
    "duration": 5020,
    "start_time": "2021-10-14T18:13:35.197Z"
   },
   {
    "duration": 9,
    "start_time": "2021-10-14T18:13:40.218Z"
   },
   {
    "duration": 16,
    "start_time": "2021-10-14T18:13:40.229Z"
   },
   {
    "duration": 7,
    "start_time": "2021-10-14T18:13:40.247Z"
   },
   {
    "duration": 3,
    "start_time": "2021-10-14T18:14:23.163Z"
   },
   {
    "duration": 18,
    "start_time": "2021-10-14T18:14:25.471Z"
   },
   {
    "duration": 3,
    "start_time": "2021-10-14T18:14:47.640Z"
   },
   {
    "duration": 18,
    "start_time": "2021-10-14T18:14:49.597Z"
   },
   {
    "duration": 3,
    "start_time": "2021-10-14T18:15:37.490Z"
   },
   {
    "duration": 19,
    "start_time": "2021-10-14T18:15:39.996Z"
   },
   {
    "duration": 3,
    "start_time": "2021-10-14T18:16:18.603Z"
   },
   {
    "duration": 18,
    "start_time": "2021-10-14T18:16:20.753Z"
   },
   {
    "duration": 1325,
    "start_time": "2021-10-15T16:49:38.897Z"
   },
   {
    "duration": 527,
    "start_time": "2021-10-15T16:49:40.224Z"
   },
   {
    "duration": 22,
    "start_time": "2021-10-15T16:49:40.755Z"
   },
   {
    "duration": 40,
    "start_time": "2021-10-15T16:49:40.780Z"
   },
   {
    "duration": 23,
    "start_time": "2021-10-15T16:49:40.823Z"
   },
   {
    "duration": 63,
    "start_time": "2021-10-15T16:49:40.849Z"
   },
   {
    "duration": 106,
    "start_time": "2021-10-15T16:49:41.007Z"
   },
   {
    "duration": 184,
    "start_time": "2021-10-15T16:49:41.119Z"
   },
   {
    "duration": 94,
    "start_time": "2021-10-15T16:49:41.307Z"
   },
   {
    "duration": 102,
    "start_time": "2021-10-15T16:49:41.405Z"
   },
   {
    "duration": 476,
    "start_time": "2021-10-15T16:49:41.510Z"
   },
   {
    "duration": -459,
    "start_time": "2021-10-15T16:49:42.448Z"
   },
   {
    "duration": -535,
    "start_time": "2021-10-15T16:49:42.526Z"
   },
   {
    "duration": -588,
    "start_time": "2021-10-15T16:49:42.581Z"
   },
   {
    "duration": -596,
    "start_time": "2021-10-15T16:49:42.591Z"
   },
   {
    "duration": -602,
    "start_time": "2021-10-15T16:49:42.599Z"
   },
   {
    "duration": -604,
    "start_time": "2021-10-15T16:49:42.603Z"
   },
   {
    "duration": -606,
    "start_time": "2021-10-15T16:49:42.607Z"
   },
   {
    "duration": -609,
    "start_time": "2021-10-15T16:49:42.612Z"
   },
   {
    "duration": 1398,
    "start_time": "2021-10-15T16:51:31.018Z"
   },
   {
    "duration": 528,
    "start_time": "2021-10-15T16:51:32.419Z"
   },
   {
    "duration": 20,
    "start_time": "2021-10-15T16:51:32.950Z"
   },
   {
    "duration": 42,
    "start_time": "2021-10-15T16:51:32.973Z"
   },
   {
    "duration": 22,
    "start_time": "2021-10-15T16:51:33.017Z"
   },
   {
    "duration": 61,
    "start_time": "2021-10-15T16:51:33.042Z"
   },
   {
    "duration": 106,
    "start_time": "2021-10-15T16:51:33.107Z"
   },
   {
    "duration": 191,
    "start_time": "2021-10-15T16:51:33.218Z"
   },
   {
    "duration": 88,
    "start_time": "2021-10-15T16:51:33.413Z"
   },
   {
    "duration": 97,
    "start_time": "2021-10-15T16:51:33.505Z"
   },
   {
    "duration": 4,
    "start_time": "2021-10-15T16:51:33.605Z"
   },
   {
    "duration": 6,
    "start_time": "2021-10-15T16:51:33.611Z"
   },
   {
    "duration": 8,
    "start_time": "2021-10-15T16:51:33.620Z"
   },
   {
    "duration": 6,
    "start_time": "2021-10-15T16:51:33.630Z"
   },
   {
    "duration": 81,
    "start_time": "2021-10-15T16:51:33.639Z"
   },
   {
    "duration": 9281,
    "start_time": "2021-10-15T16:51:33.723Z"
   },
   {
    "duration": 19,
    "start_time": "2021-10-15T16:51:43.007Z"
   },
   {
    "duration": 5,
    "start_time": "2021-10-15T16:51:43.029Z"
   },
   {
    "duration": 10,
    "start_time": "2021-10-15T16:51:43.037Z"
   },
   {
    "duration": 4,
    "start_time": "2021-10-15T16:52:36.563Z"
   },
   {
    "duration": 24,
    "start_time": "2021-10-15T16:52:40.689Z"
   },
   {
    "duration": 3,
    "start_time": "2021-10-15T21:01:32.355Z"
   },
   {
    "duration": 1117,
    "start_time": "2021-10-15T21:01:39.971Z"
   },
   {
    "duration": 377,
    "start_time": "2021-10-15T21:01:41.090Z"
   },
   {
    "duration": 16,
    "start_time": "2021-10-15T21:01:41.469Z"
   },
   {
    "duration": 18,
    "start_time": "2021-10-15T21:01:41.487Z"
   },
   {
    "duration": 18,
    "start_time": "2021-10-15T21:01:41.506Z"
   },
   {
    "duration": 54,
    "start_time": "2021-10-15T21:01:41.526Z"
   },
   {
    "duration": 103,
    "start_time": "2021-10-15T21:01:41.583Z"
   },
   {
    "duration": 189,
    "start_time": "2021-10-15T21:01:41.689Z"
   },
   {
    "duration": 97,
    "start_time": "2021-10-15T21:01:41.880Z"
   },
   {
    "duration": 6,
    "start_time": "2021-10-15T21:01:41.980Z"
   },
   {
    "duration": 3,
    "start_time": "2021-10-15T21:01:41.988Z"
   },
   {
    "duration": 83,
    "start_time": "2021-10-15T21:01:41.993Z"
   },
   {
    "duration": 5,
    "start_time": "2021-10-15T21:01:42.078Z"
   },
   {
    "duration": 3,
    "start_time": "2021-10-15T21:01:42.084Z"
   },
   {
    "duration": 22,
    "start_time": "2021-10-15T21:01:42.089Z"
   },
   {
    "duration": 4165,
    "start_time": "2021-10-15T21:01:42.112Z"
   },
   {
    "duration": 9,
    "start_time": "2021-10-15T21:01:46.279Z"
   },
   {
    "duration": 3,
    "start_time": "2021-10-15T21:01:46.290Z"
   },
   {
    "duration": 6,
    "start_time": "2021-10-15T21:01:46.294Z"
   },
   {
    "duration": 3,
    "start_time": "2021-10-15T21:02:26.452Z"
   },
   {
    "duration": 15,
    "start_time": "2021-10-15T21:02:29.061Z"
   },
   {
    "duration": 3977,
    "start_time": "2021-10-15T21:02:31.815Z"
   },
   {
    "duration": 3,
    "start_time": "2021-10-15T21:05:02.484Z"
   },
   {
    "duration": 16,
    "start_time": "2021-10-15T21:05:05.154Z"
   },
   {
    "duration": 1388,
    "start_time": "2021-10-16T09:24:23.669Z"
   },
   {
    "duration": 600,
    "start_time": "2021-10-16T09:24:25.060Z"
   },
   {
    "duration": 26,
    "start_time": "2021-10-16T09:24:25.664Z"
   },
   {
    "duration": 24,
    "start_time": "2021-10-16T09:24:25.693Z"
   },
   {
    "duration": 52,
    "start_time": "2021-10-16T09:24:25.720Z"
   },
   {
    "duration": 84,
    "start_time": "2021-10-16T09:24:25.775Z"
   },
   {
    "duration": 115,
    "start_time": "2021-10-16T09:24:25.862Z"
   },
   {
    "duration": 115,
    "start_time": "2021-10-16T09:24:26.062Z"
   },
   {
    "duration": 100,
    "start_time": "2021-10-16T09:24:26.260Z"
   },
   {
    "duration": 11,
    "start_time": "2021-10-16T09:24:26.362Z"
   },
   {
    "duration": 18,
    "start_time": "2021-10-16T09:24:26.375Z"
   },
   {
    "duration": 17,
    "start_time": "2021-10-16T09:24:26.395Z"
   },
   {
    "duration": 10,
    "start_time": "2021-10-16T09:24:26.415Z"
   },
   {
    "duration": 6,
    "start_time": "2021-10-16T09:24:26.428Z"
   },
   {
    "duration": 1554,
    "start_time": "2021-10-16T09:24:26.436Z"
   },
   {
    "duration": -399,
    "start_time": "2021-10-16T09:24:28.393Z"
   },
   {
    "duration": -401,
    "start_time": "2021-10-16T09:24:28.397Z"
   },
   {
    "duration": -404,
    "start_time": "2021-10-16T09:24:28.402Z"
   },
   {
    "duration": -405,
    "start_time": "2021-10-16T09:24:28.406Z"
   },
   {
    "duration": 5,
    "start_time": "2021-10-16T09:25:00.012Z"
   },
   {
    "duration": 843,
    "start_time": "2021-10-16T09:25:02.155Z"
   },
   {
    "duration": 4,
    "start_time": "2021-10-16T09:26:35.157Z"
   },
   {
    "duration": 822,
    "start_time": "2021-10-16T09:26:37.961Z"
   },
   {
    "duration": 1271,
    "start_time": "2021-10-21T12:36:37.875Z"
   },
   {
    "duration": 797,
    "start_time": "2021-10-21T12:36:39.150Z"
   },
   {
    "duration": 20,
    "start_time": "2021-10-21T12:36:39.950Z"
   },
   {
    "duration": 22,
    "start_time": "2021-10-21T12:36:39.972Z"
   },
   {
    "duration": 47,
    "start_time": "2021-10-21T12:36:39.996Z"
   },
   {
    "duration": 517,
    "start_time": "2021-10-21T12:36:40.045Z"
   },
   {
    "duration": -321,
    "start_time": "2021-10-21T12:36:40.886Z"
   },
   {
    "duration": -351,
    "start_time": "2021-10-21T12:36:40.918Z"
   },
   {
    "duration": -400,
    "start_time": "2021-10-21T12:36:40.969Z"
   },
   {
    "duration": -497,
    "start_time": "2021-10-21T12:36:41.067Z"
   },
   {
    "duration": -504,
    "start_time": "2021-10-21T12:36:41.076Z"
   },
   {
    "duration": -510,
    "start_time": "2021-10-21T12:36:41.083Z"
   },
   {
    "duration": -513,
    "start_time": "2021-10-21T12:36:41.088Z"
   },
   {
    "duration": -516,
    "start_time": "2021-10-21T12:36:41.092Z"
   },
   {
    "duration": -519,
    "start_time": "2021-10-21T12:36:41.097Z"
   },
   {
    "duration": -536,
    "start_time": "2021-10-21T12:36:41.115Z"
   },
   {
    "duration": -541,
    "start_time": "2021-10-21T12:36:41.121Z"
   },
   {
    "duration": -545,
    "start_time": "2021-10-21T12:36:41.127Z"
   },
   {
    "duration": -558,
    "start_time": "2021-10-21T12:36:41.141Z"
   },
   {
    "duration": 23,
    "start_time": "2021-10-21T12:37:10.023Z"
   },
   {
    "duration": 1301,
    "start_time": "2021-10-21T12:37:16.527Z"
   },
   {
    "duration": 528,
    "start_time": "2021-10-21T12:37:17.831Z"
   },
   {
    "duration": 20,
    "start_time": "2021-10-21T12:37:18.362Z"
   },
   {
    "duration": 20,
    "start_time": "2021-10-21T12:37:18.385Z"
   },
   {
    "duration": 21,
    "start_time": "2021-10-21T12:37:18.423Z"
   },
   {
    "duration": 80,
    "start_time": "2021-10-21T12:37:18.446Z"
   },
   {
    "duration": 17,
    "start_time": "2021-10-21T12:37:18.621Z"
   },
   {
    "duration": 181,
    "start_time": "2021-10-21T12:37:18.643Z"
   },
   {
    "duration": 10,
    "start_time": "2021-10-21T12:37:18.827Z"
   },
   {
    "duration": 10,
    "start_time": "2021-10-21T12:37:18.924Z"
   },
   {
    "duration": 6,
    "start_time": "2021-10-21T12:37:18.937Z"
   },
   {
    "duration": 79,
    "start_time": "2021-10-21T12:37:18.946Z"
   },
   {
    "duration": 18,
    "start_time": "2021-10-21T12:37:19.028Z"
   },
   {
    "duration": 4,
    "start_time": "2021-10-21T12:37:19.057Z"
   },
   {
    "duration": 28,
    "start_time": "2021-10-21T12:37:19.064Z"
   },
   {
    "duration": 7388,
    "start_time": "2021-10-21T12:37:19.095Z"
   },
   {
    "duration": 16,
    "start_time": "2021-10-21T12:37:26.486Z"
   },
   {
    "duration": 23,
    "start_time": "2021-10-21T12:37:26.504Z"
   },
   {
    "duration": 13,
    "start_time": "2021-10-21T12:37:26.530Z"
   },
   {
    "duration": 1399,
    "start_time": "2021-10-21T12:37:57.374Z"
   },
   {
    "duration": 545,
    "start_time": "2021-10-21T12:37:58.775Z"
   },
   {
    "duration": 28,
    "start_time": "2021-10-21T12:37:59.324Z"
   },
   {
    "duration": 21,
    "start_time": "2021-10-21T12:37:59.355Z"
   },
   {
    "duration": 54,
    "start_time": "2021-10-21T12:37:59.379Z"
   },
   {
    "duration": 29,
    "start_time": "2021-10-21T12:37:59.437Z"
   },
   {
    "duration": 103,
    "start_time": "2021-10-21T12:37:59.524Z"
   },
   {
    "duration": 101,
    "start_time": "2021-10-21T12:37:59.631Z"
   },
   {
    "duration": 91,
    "start_time": "2021-10-21T12:37:59.737Z"
   },
   {
    "duration": 92,
    "start_time": "2021-10-21T12:37:59.832Z"
   },
   {
    "duration": 19,
    "start_time": "2021-10-21T12:37:59.927Z"
   },
   {
    "duration": 15,
    "start_time": "2021-10-21T12:37:59.948Z"
   },
   {
    "duration": 19,
    "start_time": "2021-10-21T12:37:59.965Z"
   },
   {
    "duration": 10,
    "start_time": "2021-10-21T12:37:59.986Z"
   },
   {
    "duration": 39,
    "start_time": "2021-10-21T12:37:59.999Z"
   },
   {
    "duration": 6793,
    "start_time": "2021-10-21T12:38:00.042Z"
   },
   {
    "duration": 19,
    "start_time": "2021-10-21T12:38:06.838Z"
   },
   {
    "duration": 5,
    "start_time": "2021-10-21T12:38:06.860Z"
   },
   {
    "duration": 11,
    "start_time": "2021-10-21T12:38:06.868Z"
   },
   {
    "duration": 1369,
    "start_time": "2021-10-21T13:12:36.074Z"
   },
   {
    "duration": 577,
    "start_time": "2021-10-21T13:12:37.446Z"
   },
   {
    "duration": 29,
    "start_time": "2021-10-21T13:12:38.027Z"
   },
   {
    "duration": 20,
    "start_time": "2021-10-21T13:12:38.059Z"
   },
   {
    "duration": 60,
    "start_time": "2021-10-21T13:12:38.081Z"
   },
   {
    "duration": 82,
    "start_time": "2021-10-21T13:12:38.144Z"
   },
   {
    "duration": 112,
    "start_time": "2021-10-21T13:12:38.229Z"
   },
   {
    "duration": 177,
    "start_time": "2021-10-21T13:12:38.347Z"
   },
   {
    "duration": 96,
    "start_time": "2021-10-21T13:12:38.528Z"
   },
   {
    "duration": 15,
    "start_time": "2021-10-21T13:12:38.628Z"
   },
   {
    "duration": 77,
    "start_time": "2021-10-21T13:12:38.648Z"
   },
   {
    "duration": 26,
    "start_time": "2021-10-21T13:12:38.728Z"
   },
   {
    "duration": 24,
    "start_time": "2021-10-21T13:12:38.757Z"
   },
   {
    "duration": 8,
    "start_time": "2021-10-21T13:12:38.784Z"
   },
   {
    "duration": 44,
    "start_time": "2021-10-21T13:12:38.795Z"
   },
   {
    "duration": 7209,
    "start_time": "2021-10-21T13:12:38.843Z"
   },
   {
    "duration": 15,
    "start_time": "2021-10-21T13:12:46.054Z"
   },
   {
    "duration": 7,
    "start_time": "2021-10-21T13:12:46.071Z"
   },
   {
    "duration": 7,
    "start_time": "2021-10-21T13:12:46.081Z"
   },
   {
    "duration": 1979,
    "start_time": "2022-03-22T07:39:58.171Z"
   },
   {
    "duration": 516,
    "start_time": "2022-03-22T07:40:00.153Z"
   },
   {
    "duration": 29,
    "start_time": "2022-03-22T07:40:00.672Z"
   },
   {
    "duration": 29,
    "start_time": "2022-03-22T07:40:00.704Z"
   },
   {
    "duration": 57,
    "start_time": "2022-03-22T07:40:00.740Z"
   },
   {
    "duration": 168,
    "start_time": "2022-03-22T07:40:00.800Z"
   },
   {
    "duration": 111,
    "start_time": "2022-03-22T07:40:00.971Z"
   },
   {
    "duration": 200,
    "start_time": "2022-03-22T07:40:01.086Z"
   },
   {
    "duration": 187,
    "start_time": "2022-03-22T07:40:01.291Z"
   },
   {
    "duration": 15,
    "start_time": "2022-03-22T07:40:01.481Z"
   },
   {
    "duration": 41,
    "start_time": "2022-03-22T07:40:01.499Z"
   },
   {
    "duration": 13,
    "start_time": "2022-03-22T07:40:01.543Z"
   },
   {
    "duration": 16,
    "start_time": "2022-03-22T07:40:01.558Z"
   },
   {
    "duration": 8,
    "start_time": "2022-03-22T07:40:01.578Z"
   },
   {
    "duration": 35,
    "start_time": "2022-03-22T07:40:01.589Z"
   },
   {
    "duration": 3063,
    "start_time": "2022-03-22T07:40:01.626Z"
   },
   {
    "duration": 17,
    "start_time": "2022-03-22T07:40:04.692Z"
   },
   {
    "duration": 5,
    "start_time": "2022-03-22T07:40:04.712Z"
   },
   {
    "duration": 13,
    "start_time": "2022-03-22T07:40:04.719Z"
   }
  ],
  "kernelspec": {
   "display_name": "Python 3",
   "language": "python",
   "name": "python3"
  },
  "language_info": {
   "codemirror_mode": {
    "name": "ipython",
    "version": 3
   },
   "file_extension": ".py",
   "mimetype": "text/x-python",
   "name": "python",
   "nbconvert_exporter": "python",
   "pygments_lexer": "ipython3",
   "version": "3.8.8"
  },
  "toc": {
   "base_numbering": 1,
   "nav_menu": {},
   "number_sections": true,
   "sideBar": true,
   "skip_h1_title": true,
   "title_cell": "Table of Contents",
   "title_sidebar": "Contents",
   "toc_cell": false,
   "toc_position": {},
   "toc_section_display": true,
   "toc_window_display": false
  }
 },
 "nbformat": 4,
 "nbformat_minor": 2
}
